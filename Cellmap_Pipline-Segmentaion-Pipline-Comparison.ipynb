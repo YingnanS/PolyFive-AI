{
 "cells": [
  {
   "cell_type": "code",
   "execution_count": 2,
   "id": "58bd1819",
   "metadata": {},
   "outputs": [],
   "source": [
    "import torch\n",
    "from cellmaps_imagedownloader.runner import CellmapsImageDownloader\n",
    "from cellmaps_imagedownloader.runner import MultiProcessImageDownloader\n",
    "from cellmaps_imagedownloader.gene import ImageGeneNodeAttributeGenerator as IGen \n",
    "from cellmaps_imagedownloader.proteinatlas import ProteinAtlasReader, ProteinAtlasImageUrlReader, ImageDownloadTupleGenerator\n",
    "import json\n",
    "import os\n",
    "import pandas as pd\n",
    "from glob import glob\n",
    "#import seaborn as sns\n",
    "import matplotlib.pyplot as plt\n",
    "from PIL import Image\n",
    "import numpy as np\n",
    "from tqdm import tqdm\n",
    "from joblib import Parallel, delayed\n",
    "import json\n",
    "from collections import Counter\n",
    "import requests"
   ]
  },
  {
   "cell_type": "code",
   "execution_count": 4,
   "id": "9ebd0060",
   "metadata": {},
   "outputs": [],
   "source": [
    "BASE_PATH = \"../CM4AI/Three/raw\"\n",
    "CHANNELS = [\"blue\", \"green\", \"red\", \"yellow\"]"
   ]
  },
  {
   "cell_type": "code",
   "execution_count": 5,
   "id": "31963a53",
   "metadata": {},
   "outputs": [],
   "source": [
    "def collect_image_paths(base_path=BASE_PATH):\n",
    "    records = []\n",
    "    for treatment_folder in os.listdir(base_path):\n",
    "        treatment_path = os.path.join(base_path, treatment_folder)\n",
    "        if not os.path.isdir(treatment_path):\n",
    "            continue\n",
    "\n",
    "        treatment = treatment_folder.split(\"-\")[-1].lower()\n",
    "\n",
    "        image_dict = {}\n",
    "        for channel in CHANNELS:\n",
    "            channel_path = os.path.join(treatment_path, channel)\n",
    "            for img_path in glob(os.path.join(channel_path, \"*.jpg\")):\n",
    "                # Extract base ID (strip _blue, _red, etc.)\n",
    "                basename = os.path.basename(img_path).replace(f\"_{channel}.jpg\", \"\")\n",
    "                image_dict.setdefault(basename, {\"id\": basename, \"treatment\": treatment})\n",
    "                image_dict[basename][channel] = img_path\n",
    "\n",
    "        records.extend(image_dict.values())\n",
    "\n",
    "    return pd.DataFrame(records)"
   ]
  },
  {
   "cell_type": "code",
   "execution_count": 6,
   "id": "fcca2cf3",
   "metadata": {},
   "outputs": [],
   "source": [
    "def load_rocrate_metadata_with_antibodies(base_path=BASE_PATH):\n",
    "    metadata_records = []\n",
    "\n",
    "    for treatment_folder in os.listdir(base_path):\n",
    "        crate_path = os.path.join(base_path, treatment_folder, \"ro-crate-metadata.json\")\n",
    "        if not os.path.isfile(crate_path):\n",
    "            continue\n",
    "\n",
    "        with open(crate_path, \"r\") as f:\n",
    "            crate = json.load(f)\n",
    "\n",
    "        # --- Build antibody/stain index ---\n",
    "        antibody_index = {}\n",
    "        for entry in crate.get(\"@graph\", []):\n",
    "            if entry.get(\"@type\") == \"BioChemEntity\":\n",
    "                stain_id = entry[\"@id\"]\n",
    "                identifiers = entry.get(\"identifier\", [])\n",
    "                if isinstance(identifiers, dict):\n",
    "                    identifiers = [identifiers]\n",
    "\n",
    "                id_map = {i.get(\"name\"): i.get(\"value\") for i in identifiers}\n",
    "\n",
    "                antibody_index[stain_id] = {\n",
    "                    \"name\": entry.get(\"name\"),\n",
    "                    \"description\": entry.get(\"description\"),\n",
    "                    \"hpa_id\": id_map.get(\"HPA Antibody ID\"),\n",
    "                    \"ensembl\": id_map.get(\"ENSEMBL\"),\n",
    "                    \"uniprot\": id_map.get(\"Uniprot\"),\n",
    "                    \"pubchem\": id_map.get(\"PubChem\"),\n",
    "                    \"subcellular_location\": (\n",
    "                        entry.get(\"isLocatedInSubcellularLocation\", {}).get(\"name\")\n",
    "                        if isinstance(entry.get(\"isLocatedInSubcellularLocation\"), dict)\n",
    "                        else None\n",
    "                    )\n",
    "                }\n",
    "\n",
    "        # --- Process each dataset (image) entry ---\n",
    "        for entry in crate.get(\"@graph\", []):\n",
    "            if entry.get(\"@type\") != \"EVI:Dataset\":\n",
    "                continue\n",
    "\n",
    "            content_url = entry.get(\"contentUrl\", \"\")\n",
    "            filename = os.path.basename(content_url.replace(\"file://\", \"\")).strip(\"/\")\n",
    "            if not filename.endswith(\".jpg\"):\n",
    "                continue\n",
    "\n",
    "            base_id = filename.replace(\".jpg\", \"\").rsplit(\"_\", 1)[0]\n",
    "            channel = filename.replace(\".jpg\", \"\").rsplit(\"_\", 1)[-1].lower()\n",
    "\n",
    "            stain_ref = entry.get(\"usedStain\", {}).get(\"@id\", \"\")\n",
    "            stain_key = stain_ref.split(\"/\")[-1].replace(\"stain-\", \"\")\n",
    "            ab_meta = antibody_index.get(stain_ref, {})\n",
    "\n",
    "            metadata_records.append({\n",
    "                \"id\": base_id,\n",
    "                \"channel\": channel,\n",
    "                \"antibody_stain\": stain_key,\n",
    "                \"antibody_name\": ab_meta.get(\"name\"),\n",
    "                \"antibody_hpa_id\": ab_meta.get(\"hpa_id\"),\n",
    "                \"antibody_ensembl\": ab_meta.get(\"ensembl\"),\n",
    "                \"antibody_uniprot\": ab_meta.get(\"uniprot\"),\n",
    "                \"antibody_pubchem\": ab_meta.get(\"pubchem\"),\n",
    "                \"subcellular_location\": ab_meta.get(\"subcellular_location\"),\n",
    "                \"cell_line\": entry.get(\"usedCellLine\", {}).get(\"@id\", \"\").split(\"/\")[-1].replace(\"cell-line-\", \"\"),\n",
    "                \"treatment\": entry.get(\"usedTreatment\", {}).get(\"@id\", \"\").split(\"/\")[-1].replace(\"treatment-\", \"\"),\n",
    "                \"description\": entry.get(\"description\", \"\"),\n",
    "                \"filename\": filename\n",
    "            })\n",
    "\n",
    "    return pd.DataFrame(metadata_records)"
   ]
  },
  {
   "cell_type": "code",
   "execution_count": 7,
   "id": "bfe464ea",
   "metadata": {},
   "outputs": [],
   "source": [
    "def batch_lookup_ensembl_symbols(ensembl_ids, batch_size=1000):\n",
    "    \"\"\"\n",
    "    Look up gene symbols from Ensembl using batched POST requests.\n",
    "    Returns a dict {ensembl_id: gene_symbol}\n",
    "    \"\"\"\n",
    "    url = \"https://rest.ensembl.org/lookup/id\"\n",
    "    headers = {\"Content-Type\": \"application/json\"}\n",
    "    id_to_symbol = {}\n",
    "\n",
    "    for i in range(0, len(ensembl_ids), batch_size):\n",
    "        batch = ensembl_ids[i:i + batch_size]\n",
    "        payload = {\"ids\": batch}\n",
    "        try:\n",
    "            response = requests.post(url, headers=headers, json=payload)\n",
    "            if response.status_code == 200:\n",
    "                results = response.json()\n",
    "                for eid, info in results.items():\n",
    "                    id_to_symbol[eid] = info.get(\"display_name\", None)\n",
    "            else:\n",
    "                print(f\"⚠️ Error {response.status_code}: {response.text}\")\n",
    "        except Exception as e:\n",
    "            print(f\"⚠️ Request failed for batch starting at {i}: {e}\")\n",
    "    \n",
    "    return id_to_symbol"
   ]
  },
  {
   "cell_type": "code",
   "execution_count": 8,
   "id": "96d72326",
   "metadata": {},
   "outputs": [],
   "source": [
    "def save_image_gene_node_attributes(df_merged, base_output_dir=\"data/raw\"):\n",
    "    # Filter to green channel (protein target)\n",
    "    df_green = df_merged[df_merged[\"channel\"] == \"green\"].copy()\n",
    "\n",
    "    # Normalize treatment label: \"control\" becomes \"untreated\"\n",
    "    df_green[\"treatment\"] = df_green[\"treatment\"].replace(\"control\", \"untreated\")\n",
    "\n",
    "    # Drop exact duplicates across key fields\n",
    "    df_green = df_green.drop_duplicates(subset=[\"id\", \"treatment\", \"antibody_hpa_id\", \"antibody_ensembl\"])\n",
    "\n",
    "    # Group by treatment\n",
    "    treatments = df_green[\"treatment\"].dropna().unique()\n",
    "\n",
    "    for treatment in treatments:\n",
    "        df_t = df_green[df_green[\"treatment\"] == treatment]\n",
    "\n",
    "        df_out = pd.DataFrame({\n",
    "            \"name\": df_t[\"antibody_name\"],\n",
    "            \"represents\": \"ensembl:\" + df_t[\"antibody_ensembl\"].fillna(\"\"),\n",
    "            \"ambiguous\": df_t[\"antibody_hpa_id\"],\n",
    "            \"antibody\": df_t[\"antibody_hpa_id\"],\n",
    "            \"filename\": df_t[\"id\"].astype(str) + \"_\",\n",
    "            \"imageurl\": \"no image url found\"\n",
    "        })\n",
    "\n",
    "        unique_ensembl_ids = (\n",
    "            df_out[\"represents\"]\n",
    "            .dropna()\n",
    "            .str.replace(\"ensembl:\", \"\", regex=False)\n",
    "            .loc[lambda s: s.str.match(r\"ENSG\\d+\")]  # keep only valid Ensembl Gene IDs\n",
    "            .unique()\n",
    "            .tolist()\n",
    "        )\n",
    "\n",
    "        ensembl_to_name = batch_lookup_ensembl_symbols(unique_ensembl_ids)\n",
    "\n",
    "        df_out[\"name\"] = (\n",
    "            df_out[\"represents\"]\n",
    "            .str.replace(\"ensembl:\", \"\", regex=False)\n",
    "            .map(ensembl_to_name)\n",
    "        )\n",
    "\n",
    "        df_out[\"name\"] = df_out[\"name\"].fillna(\"NEGATIVE\")\n",
    "\n",
    "        # Save to the appropriate treatment folder\n",
    "        treatment_folder = os.path.join(base_output_dir, treatment)\n",
    "        os.makedirs(treatment_folder, exist_ok=True)\n",
    "\n",
    "        out_path = os.path.join(treatment_folder, \"1_image_gene_node_attributes.tsv\")\n",
    "        df_out.to_csv(out_path, sep=\"\\t\", index=False)\n",
    "\n",
    "        print(f\"✅ Saved: {out_path}\")"
   ]
  },
  {
   "cell_type": "code",
   "execution_count": 9,
   "id": "81bd2096",
   "metadata": {},
   "outputs": [],
   "source": [
    "def load_multichannel_image(row):\n",
    "    \"\"\"\n",
    "    Loads a 4-channel immunofluorescence image from separate grayscale files.\n",
    "\n",
    "    Args:\n",
    "        row (pd.Series): A row from df_images with keys: blue, green, red, yellow.\n",
    "\n",
    "    Returns:\n",
    "        np.ndarray: H x W x 4 array with channels in the order [blue, green, red, yellow]\n",
    "    \"\"\"\n",
    "    img_channels = []\n",
    "    for ch in [\"blue\", \"green\", \"red\", \"yellow\"]:\n",
    "        path = row[ch]\n",
    "        img = Image.open(path).convert(\"L\")  # Load as 8-bit grayscale\n",
    "        img_array = np.array(img)\n",
    "        img_channels.append(img_array)\n",
    "\n",
    "    stacked = np.stack(img_channels, axis=-1)  # Shape: H x W x 4\n",
    "    return stacked"
   ]
  },
  {
   "cell_type": "code",
   "execution_count": 11,
   "id": "01b9d751",
   "metadata": {},
   "outputs": [],
   "source": [
    "def print_summary_report(df_merged, n_jobs=4):\n",
    "    print(\"🧬🔬 CM4AI Immunofluorescence Dataset Summary\\n\" + \"=\"*45, flush=True)\n",
    "\n",
    "    # 1. Number of treatments\n",
    "    n_treatments = df_merged[\"treatment\"].nunique()\n",
    "    print(f\"\\n💊 Number of treatments: {n_treatments}\", flush=True)\n",
    "    for cond, count in df_merged[\"treatment\"].value_counts().items():\n",
    "        print(f\"  - {cond}: {count} image-channel combinations\", flush=True)\n",
    "\n",
    "    # 2. Number of samples (unique image IDs) per treatment\n",
    "    print(\"\\n🧪 Number of unique samples per treatment:\", flush=True)\n",
    "    samples_per_treatment = (\n",
    "        df_merged[[\"id\", \"treatment\"]]\n",
    "        .drop_duplicates()\n",
    "        .groupby(\"treatment\")\n",
    "        .size()\n",
    "    )\n",
    "    for cond, count in samples_per_treatment.items():\n",
    "        print(f\"  - {cond}: {count} samples\", flush=True)\n",
    "\n",
    "    # 3. Image size distribution (parallelized)\n",
    "    print(\"\\n🖼 Image size distribution:\", flush=True)\n",
    "\n",
    "    # Reconstruct wide format for loading multichannel images\n",
    "    df_channels = df_merged[[\"id\", \"channel\", \"filepath\"]].drop_duplicates()\n",
    "    df_shapes = df_channels.pivot(index=\"id\", columns=\"channel\", values=\"filepath\").reset_index()\n",
    "    df_treatments = df_merged[[\"id\", \"treatment\"]].drop_duplicates()\n",
    "    df_shapes = df_shapes.merge(df_treatments, on=\"id\", how=\"left\")\n",
    "\n",
    "    def safe_load_shape(row):\n",
    "        try:\n",
    "            img = load_multichannel_image(row)\n",
    "            return img.shape[:2]\n",
    "        except Exception as e:\n",
    "            print(f\"  ⚠️ Error loading image for ID {row['id']}: {e}\", flush=True)\n",
    "            return None\n",
    "\n",
    "    print(\"🔄 Computing image shapes in parallel...\", flush=True)\n",
    "    shapes = Parallel(n_jobs=n_jobs, backend=\"threading\")(\n",
    "        delayed(safe_load_shape)(row) for _, row in tqdm(df_shapes.iterrows(), total=len(df_shapes))\n",
    "    )\n",
    "    df_shapes[\"shape\"] = shapes\n",
    "    shape_counts = Counter([s for s in shapes if s is not None])\n",
    "    for shape, count in shape_counts.items():\n",
    "        print(f\"  - {shape[0]}x{shape[1]}: {count} composite/multi-channel images\", flush=True)\n",
    "\n",
    "    # 4. Green channel antibody diversity\n",
    "    green_df = df_merged[df_merged[\"channel\"] == \"green\"]\n",
    "    unique_green = sorted(set(green_df[\"antibody_hpa_id\"].dropna().tolist()))\n",
    "    print(f\"\\n🟩 Number of unique antibodies in green channel (protein target): {len(unique_green)}\", flush=True)\n",
    "\n",
    "    # 5. Red, Blue, Yellow antibody/stain names with icons\n",
    "    print(\"\\n🎯 Antibodies/stains used in other channels:\", flush=True)\n",
    "\n",
    "    channel_icons = {\n",
    "        \"red\": \"🟥\",\n",
    "        \"blue\": \"🟦\",\n",
    "        \"yellow\": \"🟨\"\n",
    "    }\n",
    "\n",
    "    for ch in [\"red\", \"blue\", \"yellow\"]:\n",
    "        ch_df = df_merged[df_merged[\"channel\"] == ch]\n",
    "        unique_ab = sorted(set(\n",
    "            ch_df[\"antibody_hpa_id\"].dropna().tolist() +\n",
    "            ch_df[\"antibody_name\"].dropna().tolist()\n",
    "        ))\n",
    "        icon = channel_icons.get(ch, \"🔹\")\n",
    "        print(f\"\\n  {icon} {ch.upper()} channel antibodies/stains ({len(unique_ab)}):\", flush=True)\n",
    "        for ab in unique_ab:\n",
    "            print(f\"    - {ab}\", flush=True)\n",
    "\n",
    "    print(\"\\n✅ Summary complete.\\n\", flush=True)"
   ]
  },
  {
   "cell_type": "code",
   "execution_count": 12,
   "id": "95a4ad34",
   "metadata": {},
   "outputs": [
    {
     "data": {
      "text/html": [
       "<div>\n",
       "<style scoped>\n",
       "    .dataframe tbody tr th:only-of-type {\n",
       "        vertical-align: middle;\n",
       "    }\n",
       "\n",
       "    .dataframe tbody tr th {\n",
       "        vertical-align: top;\n",
       "    }\n",
       "\n",
       "    .dataframe thead th {\n",
       "        text-align: right;\n",
       "    }\n",
       "</style>\n",
       "<table border=\"1\" class=\"dataframe\">\n",
       "  <thead>\n",
       "    <tr style=\"text-align: right;\">\n",
       "      <th></th>\n",
       "      <th>id</th>\n",
       "      <th>treatment</th>\n",
       "      <th>blue</th>\n",
       "      <th>green</th>\n",
       "      <th>red</th>\n",
       "      <th>yellow</th>\n",
       "    </tr>\n",
       "  </thead>\n",
       "  <tbody>\n",
       "    <tr>\n",
       "      <th>0</th>\n",
       "      <td>B2AI_1_Vorinostat_G7_R4_z01</td>\n",
       "      <td>vorinostat</td>\n",
       "      <td>../CM4AI/Three/raw/vorinostat/blue/B2AI_1_Vori...</td>\n",
       "      <td>../CM4AI/Three/raw/vorinostat/green/B2AI_1_Vor...</td>\n",
       "      <td>../CM4AI/Three/raw/vorinostat/red/B2AI_1_Vorin...</td>\n",
       "      <td>../CM4AI/Three/raw/vorinostat/yellow/B2AI_1_Vo...</td>\n",
       "    </tr>\n",
       "    <tr>\n",
       "      <th>1</th>\n",
       "      <td>B2AI_1_Vorinostat_E9_R7_z01</td>\n",
       "      <td>vorinostat</td>\n",
       "      <td>../CM4AI/Three/raw/vorinostat/blue/B2AI_1_Vori...</td>\n",
       "      <td>../CM4AI/Three/raw/vorinostat/green/B2AI_1_Vor...</td>\n",
       "      <td>../CM4AI/Three/raw/vorinostat/red/B2AI_1_Vorin...</td>\n",
       "      <td>../CM4AI/Three/raw/vorinostat/yellow/B2AI_1_Vo...</td>\n",
       "    </tr>\n",
       "    <tr>\n",
       "      <th>2</th>\n",
       "      <td>B2AI_3_Vorinostat_B11_R14_z02</td>\n",
       "      <td>vorinostat</td>\n",
       "      <td>../CM4AI/Three/raw/vorinostat/blue/B2AI_3_Vori...</td>\n",
       "      <td>../CM4AI/Three/raw/vorinostat/green/B2AI_3_Vor...</td>\n",
       "      <td>../CM4AI/Three/raw/vorinostat/red/B2AI_3_Vorin...</td>\n",
       "      <td>../CM4AI/Three/raw/vorinostat/yellow/B2AI_3_Vo...</td>\n",
       "    </tr>\n",
       "    <tr>\n",
       "      <th>3</th>\n",
       "      <td>B2AI_4_Vorinostat_A8_R1_z01</td>\n",
       "      <td>vorinostat</td>\n",
       "      <td>../CM4AI/Three/raw/vorinostat/blue/B2AI_4_Vori...</td>\n",
       "      <td>../CM4AI/Three/raw/vorinostat/green/B2AI_4_Vor...</td>\n",
       "      <td>../CM4AI/Three/raw/vorinostat/red/B2AI_4_Vorin...</td>\n",
       "      <td>../CM4AI/Three/raw/vorinostat/yellow/B2AI_4_Vo...</td>\n",
       "    </tr>\n",
       "    <tr>\n",
       "      <th>4</th>\n",
       "      <td>B2AI_5_Vorinostat_A10_R8_z02</td>\n",
       "      <td>vorinostat</td>\n",
       "      <td>../CM4AI/Three/raw/vorinostat/blue/B2AI_5_Vori...</td>\n",
       "      <td>../CM4AI/Three/raw/vorinostat/green/B2AI_5_Vor...</td>\n",
       "      <td>../CM4AI/Three/raw/vorinostat/red/B2AI_5_Vorin...</td>\n",
       "      <td>../CM4AI/Three/raw/vorinostat/yellow/B2AI_5_Vo...</td>\n",
       "    </tr>\n",
       "    <tr>\n",
       "      <th>...</th>\n",
       "      <td>...</td>\n",
       "      <td>...</td>\n",
       "      <td>...</td>\n",
       "      <td>...</td>\n",
       "      <td>...</td>\n",
       "      <td>...</td>\n",
       "    </tr>\n",
       "    <tr>\n",
       "      <th>4457</th>\n",
       "      <td>B2AI_4_Vorinostat_B12_R16_z01</td>\n",
       "      <td>vorinostat</td>\n",
       "      <td>../CM4AI/Three/raw/vorinostat/blue/B2AI_4_Vori...</td>\n",
       "      <td>../CM4AI/Three/raw/vorinostat/green/B2AI_4_Vor...</td>\n",
       "      <td>../CM4AI/Three/raw/vorinostat/red/B2AI_4_Vorin...</td>\n",
       "      <td>../CM4AI/Three/raw/vorinostat/yellow/B2AI_4_Vo...</td>\n",
       "    </tr>\n",
       "    <tr>\n",
       "      <th>4458</th>\n",
       "      <td>B2AI_2_Vorinostat_D12_R14_z00</td>\n",
       "      <td>vorinostat</td>\n",
       "      <td>../CM4AI/Three/raw/vorinostat/blue/B2AI_2_Vori...</td>\n",
       "      <td>../CM4AI/Three/raw/vorinostat/green/B2AI_2_Vor...</td>\n",
       "      <td>../CM4AI/Three/raw/vorinostat/red/B2AI_2_Vorin...</td>\n",
       "      <td>../CM4AI/Three/raw/vorinostat/yellow/B2AI_2_Vo...</td>\n",
       "    </tr>\n",
       "    <tr>\n",
       "      <th>4459</th>\n",
       "      <td>B2AI_4_Vorinostat_F1_R7_z01</td>\n",
       "      <td>vorinostat</td>\n",
       "      <td>../CM4AI/Three/raw/vorinostat/blue/B2AI_4_Vori...</td>\n",
       "      <td>../CM4AI/Three/raw/vorinostat/green/B2AI_4_Vor...</td>\n",
       "      <td>../CM4AI/Three/raw/vorinostat/red/B2AI_4_Vorin...</td>\n",
       "      <td>../CM4AI/Three/raw/vorinostat/yellow/B2AI_4_Vo...</td>\n",
       "    </tr>\n",
       "    <tr>\n",
       "      <th>4460</th>\n",
       "      <td>B2AI_1_Vorinostat_A10_R12_z01</td>\n",
       "      <td>vorinostat</td>\n",
       "      <td>../CM4AI/Three/raw/vorinostat/blue/B2AI_1_Vori...</td>\n",
       "      <td>../CM4AI/Three/raw/vorinostat/green/B2AI_1_Vor...</td>\n",
       "      <td>../CM4AI/Three/raw/vorinostat/red/B2AI_1_Vorin...</td>\n",
       "      <td>../CM4AI/Three/raw/vorinostat/yellow/B2AI_1_Vo...</td>\n",
       "    </tr>\n",
       "    <tr>\n",
       "      <th>4461</th>\n",
       "      <td>B2AI_2_Vorinostat_C10_R11_z00</td>\n",
       "      <td>vorinostat</td>\n",
       "      <td>../CM4AI/Three/raw/vorinostat/blue/B2AI_2_Vori...</td>\n",
       "      <td>../CM4AI/Three/raw/vorinostat/green/B2AI_2_Vor...</td>\n",
       "      <td>../CM4AI/Three/raw/vorinostat/red/B2AI_2_Vorin...</td>\n",
       "      <td>../CM4AI/Three/raw/vorinostat/yellow/B2AI_2_Vo...</td>\n",
       "    </tr>\n",
       "  </tbody>\n",
       "</table>\n",
       "<p>4462 rows × 6 columns</p>\n",
       "</div>"
      ],
      "text/plain": [
       "                                 id   treatment  \\\n",
       "0       B2AI_1_Vorinostat_G7_R4_z01  vorinostat   \n",
       "1       B2AI_1_Vorinostat_E9_R7_z01  vorinostat   \n",
       "2     B2AI_3_Vorinostat_B11_R14_z02  vorinostat   \n",
       "3       B2AI_4_Vorinostat_A8_R1_z01  vorinostat   \n",
       "4      B2AI_5_Vorinostat_A10_R8_z02  vorinostat   \n",
       "...                             ...         ...   \n",
       "4457  B2AI_4_Vorinostat_B12_R16_z01  vorinostat   \n",
       "4458  B2AI_2_Vorinostat_D12_R14_z00  vorinostat   \n",
       "4459    B2AI_4_Vorinostat_F1_R7_z01  vorinostat   \n",
       "4460  B2AI_1_Vorinostat_A10_R12_z01  vorinostat   \n",
       "4461  B2AI_2_Vorinostat_C10_R11_z00  vorinostat   \n",
       "\n",
       "                                                   blue  \\\n",
       "0     ../CM4AI/Three/raw/vorinostat/blue/B2AI_1_Vori...   \n",
       "1     ../CM4AI/Three/raw/vorinostat/blue/B2AI_1_Vori...   \n",
       "2     ../CM4AI/Three/raw/vorinostat/blue/B2AI_3_Vori...   \n",
       "3     ../CM4AI/Three/raw/vorinostat/blue/B2AI_4_Vori...   \n",
       "4     ../CM4AI/Three/raw/vorinostat/blue/B2AI_5_Vori...   \n",
       "...                                                 ...   \n",
       "4457  ../CM4AI/Three/raw/vorinostat/blue/B2AI_4_Vori...   \n",
       "4458  ../CM4AI/Three/raw/vorinostat/blue/B2AI_2_Vori...   \n",
       "4459  ../CM4AI/Three/raw/vorinostat/blue/B2AI_4_Vori...   \n",
       "4460  ../CM4AI/Three/raw/vorinostat/blue/B2AI_1_Vori...   \n",
       "4461  ../CM4AI/Three/raw/vorinostat/blue/B2AI_2_Vori...   \n",
       "\n",
       "                                                  green  \\\n",
       "0     ../CM4AI/Three/raw/vorinostat/green/B2AI_1_Vor...   \n",
       "1     ../CM4AI/Three/raw/vorinostat/green/B2AI_1_Vor...   \n",
       "2     ../CM4AI/Three/raw/vorinostat/green/B2AI_3_Vor...   \n",
       "3     ../CM4AI/Three/raw/vorinostat/green/B2AI_4_Vor...   \n",
       "4     ../CM4AI/Three/raw/vorinostat/green/B2AI_5_Vor...   \n",
       "...                                                 ...   \n",
       "4457  ../CM4AI/Three/raw/vorinostat/green/B2AI_4_Vor...   \n",
       "4458  ../CM4AI/Three/raw/vorinostat/green/B2AI_2_Vor...   \n",
       "4459  ../CM4AI/Three/raw/vorinostat/green/B2AI_4_Vor...   \n",
       "4460  ../CM4AI/Three/raw/vorinostat/green/B2AI_1_Vor...   \n",
       "4461  ../CM4AI/Three/raw/vorinostat/green/B2AI_2_Vor...   \n",
       "\n",
       "                                                    red  \\\n",
       "0     ../CM4AI/Three/raw/vorinostat/red/B2AI_1_Vorin...   \n",
       "1     ../CM4AI/Three/raw/vorinostat/red/B2AI_1_Vorin...   \n",
       "2     ../CM4AI/Three/raw/vorinostat/red/B2AI_3_Vorin...   \n",
       "3     ../CM4AI/Three/raw/vorinostat/red/B2AI_4_Vorin...   \n",
       "4     ../CM4AI/Three/raw/vorinostat/red/B2AI_5_Vorin...   \n",
       "...                                                 ...   \n",
       "4457  ../CM4AI/Three/raw/vorinostat/red/B2AI_4_Vorin...   \n",
       "4458  ../CM4AI/Three/raw/vorinostat/red/B2AI_2_Vorin...   \n",
       "4459  ../CM4AI/Three/raw/vorinostat/red/B2AI_4_Vorin...   \n",
       "4460  ../CM4AI/Three/raw/vorinostat/red/B2AI_1_Vorin...   \n",
       "4461  ../CM4AI/Three/raw/vorinostat/red/B2AI_2_Vorin...   \n",
       "\n",
       "                                                 yellow  \n",
       "0     ../CM4AI/Three/raw/vorinostat/yellow/B2AI_1_Vo...  \n",
       "1     ../CM4AI/Three/raw/vorinostat/yellow/B2AI_1_Vo...  \n",
       "2     ../CM4AI/Three/raw/vorinostat/yellow/B2AI_3_Vo...  \n",
       "3     ../CM4AI/Three/raw/vorinostat/yellow/B2AI_4_Vo...  \n",
       "4     ../CM4AI/Three/raw/vorinostat/yellow/B2AI_5_Vo...  \n",
       "...                                                 ...  \n",
       "4457  ../CM4AI/Three/raw/vorinostat/yellow/B2AI_4_Vo...  \n",
       "4458  ../CM4AI/Three/raw/vorinostat/yellow/B2AI_2_Vo...  \n",
       "4459  ../CM4AI/Three/raw/vorinostat/yellow/B2AI_4_Vo...  \n",
       "4460  ../CM4AI/Three/raw/vorinostat/yellow/B2AI_1_Vo...  \n",
       "4461  ../CM4AI/Three/raw/vorinostat/yellow/B2AI_2_Vo...  \n",
       "\n",
       "[4462 rows x 6 columns]"
      ]
     },
     "execution_count": 12,
     "metadata": {},
     "output_type": "execute_result"
    }
   ],
   "source": [
    "df_images = collect_image_paths()\n",
    "df_images"
   ]
  },
  {
   "cell_type": "code",
   "execution_count": 13,
   "id": "d75a9857",
   "metadata": {},
   "outputs": [
    {
     "data": {
      "text/html": [
       "<div>\n",
       "<style scoped>\n",
       "    .dataframe tbody tr th:only-of-type {\n",
       "        vertical-align: middle;\n",
       "    }\n",
       "\n",
       "    .dataframe tbody tr th {\n",
       "        vertical-align: top;\n",
       "    }\n",
       "\n",
       "    .dataframe thead th {\n",
       "        text-align: right;\n",
       "    }\n",
       "</style>\n",
       "<table border=\"1\" class=\"dataframe\">\n",
       "  <thead>\n",
       "    <tr style=\"text-align: right;\">\n",
       "      <th></th>\n",
       "      <th>id</th>\n",
       "      <th>treatment</th>\n",
       "      <th>blue</th>\n",
       "      <th>green</th>\n",
       "      <th>red</th>\n",
       "      <th>yellow</th>\n",
       "    </tr>\n",
       "  </thead>\n",
       "  <tbody>\n",
       "  </tbody>\n",
       "</table>\n",
       "</div>"
      ],
      "text/plain": [
       "Empty DataFrame\n",
       "Columns: [id, treatment, blue, green, red, yellow]\n",
       "Index: []"
      ]
     },
     "metadata": {},
     "output_type": "display_data"
    }
   ],
   "source": [
    "with pd.option_context('display.max_colwidth', None):\n",
    "    display(df_images[df_images.duplicated(subset=\"id\", keep=False)].head())"
   ]
  },
  {
   "cell_type": "code",
   "execution_count": 14,
   "id": "90778d24",
   "metadata": {},
   "outputs": [],
   "source": [
    "df_meta = load_rocrate_metadata_with_antibodies()\n",
    "df_images_melted = df_images.melt(\n",
    "    id_vars=[\"id\"],  # remove \"treatment\" here\n",
    "    value_vars=[\"blue\", \"green\", \"red\", \"yellow\"],\n",
    "    var_name=\"channel\",\n",
    "    value_name=\"filepath\"\n",
    ")\n",
    "\n",
    "df_merged = df_images_melted.merge(df_meta, on=[\"id\", \"channel\"], how=\"left\")"
   ]
  },
  {
   "cell_type": "code",
   "execution_count": 16,
   "id": "9f6f3d76",
   "metadata": {},
   "outputs": [
    {
     "name": "stdout",
     "output_type": "stream",
     "text": [
      "✅ Saved: ../CM4AI/Three/raw/vorinostat/1_image_gene_node_attributes.tsv\n"
     ]
    }
   ],
   "source": [
    "save_image_gene_node_attributes(df_merged, base_output_dir=BASE_PATH)"
   ]
  },
  {
   "cell_type": "code",
   "execution_count": 17,
   "id": "bd4a343d",
   "metadata": {},
   "outputs": [
    {
     "name": "stderr",
     "output_type": "stream",
     "text": [
      "The project name for RO-Crate /data/user/ysong2/CM4AI/Three/raw/vorinostat is missing from the metadata. Please provide a name to uphold FAIR principles. Execution will proceed without the  name.\n",
      "The organization name for RO-Crate /data/user/ysong2/CM4AI/Three/raw/vorinostat is missing from the metadata. Please provide a name to uphold FAIR principles. Execution will proceed without the  name.\n",
      "Downloading external_crop512_focal_slov_hardlog_class_densenet121_dropout_i768_aug2_5folds_fold0_final.pth: 100%|██████████| 66.1M/66.1M [00:00<00:00, 143MB/s] \n"
     ]
    },
    {
     "name": "stdout",
     "output_type": "stream",
     "text": [
      "load model: /data/user/ysong2/CM4AI/Three/embedding/vorinostat/model.pth\n"
     ]
    },
    {
     "name": "stderr",
     "output_type": "stream",
     "text": [
      "100%|██████████| 4462/4462 [37:23<00:00,  1.99it/s]  \n"
     ]
    }
   ],
   "source": [
    "import os\n",
    "\n",
    "from cellmaps_image_embedding.runner import DensenetEmbeddingGenerator\n",
    "from cellmaps_image_embedding.runner import CellmapsImageEmbedder\n",
    "\n",
    "input_base_path = \"../CM4AI/Three/raw\"\n",
    "image_interim_base_path = \"../CM4AI/Three/pipeline_images\"\n",
    "embedding_base_path = \"../CM4AI/Three/embedding\"\n",
    "\n",
    "for treatment_folder in os.listdir(input_base_path):\n",
    "    input_path = os.path.join(input_base_path, treatment_folder)\n",
    "    if not os.path.isdir(input_path):\n",
    "        continue\n",
    "    manifest_path = os.path.join(input_path, \"manifest.csv\")\n",
    "    image_interim_path = os.path.join(image_interim_base_path, treatment_folder)\n",
    "    embedding_path = os.path.join(embedding_base_path, treatment_folder)\n",
    "\n",
    "    gen = DensenetEmbeddingGenerator(\n",
    "        input_path,\n",
    "        outdir=embedding_path,\n",
    "        model_path=\"https://github.com/CellProfiling/densenet/releases/download/v0.1.0/external_crop512_focal_slov_hardlog_class_densenet121_dropout_i768_aug2_5folds_fold0_final.pth\",\n",
    "        fold=1\n",
    "    )\n",
    "    embedder = CellmapsImageEmbedder(\n",
    "        outdir=embedding_path,\n",
    "        inputdir=input_path,\n",
    "        embedding_generator=gen,\n",
    "        name=f\"{treatment_folder} IF Embedding\",\n",
    "        organization_name=\"CM4AI\",\n",
    "        project_name=\"CM4AI IF Embedding Tutorial\"\n",
    "    )\n",
    "    embedder.run()"
   ]
  },
  {
   "cell_type": "code",
   "execution_count": null,
   "id": "c044df3a",
   "metadata": {},
   "outputs": [],
   "source": []
  },
  {
   "cell_type": "code",
   "execution_count": null,
   "id": "77145e79",
   "metadata": {},
   "outputs": [],
   "source": []
  },
  {
   "cell_type": "code",
   "execution_count": 25,
   "id": "e8f4d0f4",
   "metadata": {},
   "outputs": [
    {
     "name": "stderr",
     "output_type": "stream",
     "text": [
      "/data/user/ysong2/bin/Miniconda3/envs/cm4ai/lib/python3.8/site-packages/tqdm/auto.py:21: TqdmWarning: IProgress not found. Please update jupyter and ipywidgets. See https://ipywidgets.readthedocs.io/en/stable/user_install.html\n",
      "  from .autonotebook import tqdm as notebook_tqdm\n"
     ]
    }
   ],
   "source": [
    "from cellmaps_ppi_embedding.runner import Node2VecEmbeddingGenerator\n",
    "from cellmaps_ppi_embedding.runner import CellMapsPPIEmbedder\n",
    "import networkx as nx"
   ]
  },
  {
   "cell_type": "code",
   "execution_count": 26,
   "id": "91d34b1a",
   "metadata": {},
   "outputs": [
    {
     "name": "stderr",
     "output_type": "stream",
     "text": [
      "Computing transition probabilities: 100%|██████████| 1362/1362 [00:06<00:00, 208.97it/s]\n",
      "Generating walks (CPU: 2): 100%|██████████| 2/2 [00:08<00:00,  4.10s/it]"
     ]
    },
    {
     "data": {
      "text/plain": [
       "0"
      ]
     },
     "execution_count": 26,
     "metadata": {},
     "output_type": "execute_result"
    }
   ],
   "source": [
    "inputdir = '../CM4AI/1.ppi_download'\n",
    "outdir = '../CM4AI/2.ppi_embedding'\n",
    "gen = Node2VecEmbeddingGenerator(nx_network=nx.read_edgelist(CellMapsPPIEmbedder.get_apms_edgelist_file(inputdir),\n",
    "                                                             delimiter='\\t'))\n",
    "\n",
    "x =CellMapsPPIEmbedder(outdir=outdir,\n",
    "                       embedding_generator=gen,\n",
    "                      inputdir=inputdir)\n",
    "x.run()"
   ]
  },
  {
   "cell_type": "code",
   "execution_count": null,
   "id": "95a5df4c",
   "metadata": {},
   "outputs": [],
   "source": []
  },
  {
   "cell_type": "code",
   "execution_count": null,
   "id": "c23b4f8e",
   "metadata": {},
   "outputs": [],
   "source": []
  },
  {
   "cell_type": "code",
   "execution_count": null,
   "id": "012f14a7",
   "metadata": {},
   "outputs": [],
   "source": []
  },
  {
   "cell_type": "code",
   "execution_count": 3,
   "id": "d7f0f981",
   "metadata": {},
   "outputs": [
    {
     "name": "stderr",
     "output_type": "stream",
     "text": [
      "\r",
      "Saving embedding: 0it [00:00, ?it/s]"
     ]
    },
    {
     "name": "stdout",
     "output_type": "stream",
     "text": [
      "Finding 10 nearest neighbors using cosine metric and 'brute' algorithm\n",
      "Neighbors computed in 0.042444705963134766 seconds\n",
      "Jaccard graph constructed in 1.0366106033325195 seconds\n",
      "Wrote graph to binary file in 0.007222175598144531 seconds\n",
      "Running Louvain modularity optimization\n",
      "After 1 runs, maximum modularity is Q = 0.666492\n",
      "Louvain completed 21 runs in 0.7403297424316406 seconds\n",
      "Sorting communities by size, please wait ...\n",
      "PhenoGraph completed in 2.8524398803710938 seconds\n",
      "Finding 10 nearest neighbors using cosine metric and 'brute' algorithm\n",
      "Neighbors computed in 0.014791011810302734 seconds\n",
      "Jaccard graph constructed in 1.0904710292816162 seconds\n",
      "Wrote graph to binary file in 0.003053903579711914 seconds\n",
      "Running Louvain modularity optimization\n",
      "After 1 runs, maximum modularity is Q = 0.68125\n",
      "Louvain completed 21 runs in 0.6097586154937744 seconds\n",
      "Sorting communities by size, please wait ...\n",
      "PhenoGraph completed in 2.698620080947876 seconds\n",
      "Finding 10 nearest neighbors using cosine metric and 'brute' algorithm\n",
      "Neighbors computed in 0.021659374237060547 seconds\n",
      "Jaccard graph constructed in 1.1166274547576904 seconds\n",
      "Wrote graph to binary file in 0.0034394264221191406 seconds\n",
      "Running Louvain modularity optimization\n",
      "After 1 runs, maximum modularity is Q = 0.530929\n",
      "After 8 runs, maximum modularity is Q = 0.533719\n",
      "Louvain completed 28 runs in 1.163989782333374 seconds\n",
      "Sorting communities by size, please wait ...\n",
      "PhenoGraph completed in 3.4243414402008057 seconds\n",
      "Finding 10 nearest neighbors using cosine metric and 'brute' algorithm\n",
      "Neighbors computed in 0.015387296676635742 seconds\n",
      "Jaccard graph constructed in 1.115034580230713 seconds\n",
      "Wrote graph to binary file in 0.0026862621307373047 seconds\n",
      "Running Louvain modularity optimization\n",
      "After 1 runs, maximum modularity is Q = 0.681657\n",
      "Louvain completed 21 runs in 1.0228681564331055 seconds\n",
      "Sorting communities by size, please wait ...\n",
      "PhenoGraph completed in 3.138619899749756 seconds\n",
      "Finding 10 nearest neighbors using cosine metric and 'brute' algorithm\n",
      "Neighbors computed in 0.016151905059814453 seconds\n",
      "Jaccard graph constructed in 1.1158928871154785 seconds\n",
      "Wrote graph to binary file in 0.0025510787963867188 seconds\n",
      "Running Louvain modularity optimization\n",
      "After 1 runs, maximum modularity is Q = 0.634607\n",
      "Louvain completed 21 runs in 0.7833271026611328 seconds\n",
      "Sorting communities by size, please wait ...\n",
      "PhenoGraph completed in 3.023963212966919 seconds\n",
      "Finding 10 nearest neighbors using cosine metric and 'brute' algorithm\n",
      "Neighbors computed in 0.03039264678955078 seconds\n",
      "Jaccard graph constructed in 1.1051914691925049 seconds\n",
      "Wrote graph to binary file in 0.0348963737487793 seconds\n",
      "Running Louvain modularity optimization\n",
      "After 1 runs, maximum modularity is Q = 0.752515\n",
      "Louvain completed 21 runs in 0.8188693523406982 seconds\n",
      "Sorting communities by size, please wait ...\n",
      "PhenoGraph completed in 3.1048715114593506 seconds\n",
      "Finding 10 nearest neighbors using cosine metric and 'brute' algorithm\n",
      "Neighbors computed in 0.01679515838623047 seconds\n",
      "Jaccard graph constructed in 1.1147451400756836 seconds\n",
      "Wrote graph to binary file in 0.00292205810546875 seconds\n",
      "Running Louvain modularity optimization\n",
      "After 1 runs, maximum modularity is Q = 0.646979\n",
      "Louvain completed 21 runs in 0.8025941848754883 seconds\n",
      "Sorting communities by size, please wait ...\n",
      "PhenoGraph completed in 3.056468963623047 seconds\n",
      "Finding 10 nearest neighbors using cosine metric and 'brute' algorithm\n",
      "Neighbors computed in 0.01872110366821289 seconds\n",
      "Jaccard graph constructed in 1.1107096672058105 seconds\n",
      "Wrote graph to binary file in 0.0025746822357177734 seconds\n",
      "Running Louvain modularity optimization\n",
      "After 1 runs, maximum modularity is Q = 0.762924\n",
      "Louvain completed 21 runs in 0.7523877620697021 seconds\n",
      "Sorting communities by size, please wait ...\n",
      "PhenoGraph completed in 2.970663547515869 seconds\n"
     ]
    },
    {
     "name": "stderr",
     "output_type": "stream",
     "text": [
      "Saving embedding: 97it [00:56,  1.72it/s]\n"
     ]
    },
    {
     "data": {
      "text/plain": [
       "0"
      ]
     },
     "execution_count": 3,
     "metadata": {},
     "output_type": "execute_result"
    }
   ],
   "source": [
    "# cell map untreated\n",
    "\n",
    "from cellmaps_coembedding.runner import MuseCoEmbeddingGenerator\n",
    "from cellmaps_coembedding.runner import CellmapsCoEmbedder\n",
    "\n",
    "ppi_embeddingdir = '../CM4AI/2.ppi_embedding'\n",
    "image_embeddingdir = '../CM4AI/embedding.bak/untreated'\n",
    "outdir = '../CM4AI/3_new.coembedding_untreated'\n",
    "gen = MuseCoEmbeddingGenerator(ppi_embeddingdir=ppi_embeddingdir,\n",
    "                               image_embeddingdir=image_embeddingdir,\n",
    "                               outdir=os.path.abspath(outdir))\n",
    "\n",
    "x = CellmapsCoEmbedder(outdir=outdir,\n",
    "                      inputdirs=[ppi_embeddingdir, image_embeddingdir],\n",
    "                      embedding_generator=gen)\n",
    "x.run()"
   ]
  },
  {
   "cell_type": "code",
   "execution_count": null,
   "id": "2fab08d3",
   "metadata": {},
   "outputs": [],
   "source": []
  },
  {
   "cell_type": "code",
   "execution_count": 4,
   "id": "e7f26c58",
   "metadata": {},
   "outputs": [
    {
     "name": "stderr",
     "output_type": "stream",
     "text": [
      "Generating hierarchy: 15it [00:00, 32.48it/s]"
     ]
    },
    {
     "name": "stdout",
     "output_type": "stream",
     "text": [
      "Generating CX\n",
      "Generating CX\n",
      "Generating CX\n",
      "Generating CX\n",
      "Generating CX\n",
      "Generating CX\n",
      "Generating CX\n",
      "Generating CX\n",
      "Generating CX\n",
      "Generating CX\n",
      "Generating CX\n",
      "Generating CX\n",
      "Generating CX\n",
      "Generating CX\n",
      "Generating CX\n"
     ]
    },
    {
     "name": "stderr",
     "output_type": "stream",
     "text": [
      "\n",
      "/data/user/ysong2/bin/Miniconda3/envs/cm4ai/lib/python3.8/site-packages/cellmaps_generate_hierarchy/runner.py:623: UserWarning: Layout disabled due to incompatibilities with HCX format\n",
      "  warnings.warn(\"Layout disabled due to incompatibilities with HCX format\")\n"
     ]
    },
    {
     "data": {
      "text/plain": [
       "0"
      ]
     },
     "execution_count": 4,
     "metadata": {},
     "output_type": "execute_result"
    }
   ],
   "source": [
    "from cellmaps_generate_hierarchy.ppi import CosineSimilarityPPIGenerator\n",
    "from cellmaps_generate_hierarchy.hierarchy import CDAPSHiDeFHierarchyGenerator\n",
    "from cellmaps_generate_hierarchy.maturehierarchy import HiDeFHierarchyRefiner\n",
    "from cellmaps_generate_hierarchy.hcx import HCXFromCDAPSCXHierarchy\n",
    "from cellmaps_generate_hierarchy.runner import CellmapsGenerateHierarchy\n",
    "\n",
    "inputdir = '../CM4AI/3_new.coembedding_untreated'\n",
    "outdir = '../CM4AI/5.2_new_hierarchy'\n",
    "ppigen = CosineSimilarityPPIGenerator(embeddingdirs=[inputdir])\n",
    "\n",
    "refiner = HiDeFHierarchyRefiner()\n",
    "\n",
    "converter = HCXFromCDAPSCXHierarchy()\n",
    "\n",
    "hiergen = CDAPSHiDeFHierarchyGenerator(refiner=refiner,\n",
    "                                       hcxconverter=converter)\n",
    "\n",
    "x = CellmapsGenerateHierarchy(outdir=outdir,\n",
    "                              inputdirs=inputdir,\n",
    "                              ppigen=ppigen,\n",
    "                              hiergen=hiergen)\n",
    "x.run()"
   ]
  },
  {
   "cell_type": "code",
   "execution_count": 5,
   "id": "542b2035",
   "metadata": {},
   "outputs": [
    {
     "data": {
      "text/plain": [
       "0"
      ]
     },
     "execution_count": 5,
     "metadata": {},
     "output_type": "execute_result"
    }
   ],
   "source": [
    "from cellmaps_hierarchyeval.runner import CellmapshierarchyevalRunner\n",
    "\n",
    "inputdir = '../CM4AI/5.2_new_hierarchy'\n",
    "outdir = '../CM4AI/6.2_new_hierarchyeval'\n",
    "\n",
    "x = CellmapshierarchyevalRunner(outdir=outdir,\n",
    "                               hierarchy_dir=inputdir)\n",
    "x.run()"
   ]
  },
  {
   "cell_type": "code",
   "execution_count": null,
   "id": "5483e657",
   "metadata": {},
   "outputs": [],
   "source": []
  },
  {
   "cell_type": "code",
   "execution_count": null,
   "id": "29c32133",
   "metadata": {},
   "outputs": [],
   "source": []
  },
  {
   "cell_type": "code",
   "execution_count": 6,
   "id": "abe3053e",
   "metadata": {},
   "outputs": [
    {
     "name": "stderr",
     "output_type": "stream",
     "text": [
      "\r",
      "Saving embedding: 0it [00:00, ?it/s]"
     ]
    },
    {
     "name": "stdout",
     "output_type": "stream",
     "text": [
      "Finding 10 nearest neighbors using cosine metric and 'brute' algorithm\n",
      "Neighbors computed in 0.022666215896606445 seconds\n",
      "Jaccard graph constructed in 1.1037273406982422 seconds\n",
      "Wrote graph to binary file in 0.002635478973388672 seconds\n",
      "Running Louvain modularity optimization\n",
      "After 1 runs, maximum modularity is Q = 0.638028\n",
      "Louvain completed 21 runs in 0.8151848316192627 seconds\n",
      "Sorting communities by size, please wait ...\n",
      "PhenoGraph completed in 3.0677661895751953 seconds\n",
      "Finding 10 nearest neighbors using cosine metric and 'brute' algorithm\n",
      "Neighbors computed in 0.015357732772827148 seconds\n",
      "Jaccard graph constructed in 1.155275583267212 seconds\n",
      "Wrote graph to binary file in 0.0028772354125976562 seconds\n",
      "Running Louvain modularity optimization\n",
      "After 1 runs, maximum modularity is Q = 0.605502\n",
      "Louvain completed 21 runs in 0.8059840202331543 seconds\n",
      "Sorting communities by size, please wait ...\n",
      "PhenoGraph completed in 3.0744400024414062 seconds\n",
      "Finding 10 nearest neighbors using cosine metric and 'brute' algorithm\n",
      "Neighbors computed in 0.020101308822631836 seconds\n",
      "Jaccard graph constructed in 1.0848822593688965 seconds\n",
      "Wrote graph to binary file in 0.002718687057495117 seconds\n",
      "Running Louvain modularity optimization\n",
      "After 1 runs, maximum modularity is Q = 0.48906\n",
      "After 2 runs, maximum modularity is Q = 0.49198\n",
      "After 5 runs, maximum modularity is Q = 0.493666\n",
      "Louvain completed 25 runs in 1.4485321044921875 seconds\n",
      "Sorting communities by size, please wait ...\n",
      "PhenoGraph completed in 3.675780773162842 seconds\n",
      "Finding 10 nearest neighbors using cosine metric and 'brute' algorithm\n",
      "Neighbors computed in 0.026499032974243164 seconds\n",
      "Jaccard graph constructed in 1.1299407482147217 seconds\n",
      "Wrote graph to binary file in 0.0025949478149414062 seconds\n",
      "Running Louvain modularity optimization\n",
      "After 1 runs, maximum modularity is Q = 0.498874\n",
      "Louvain completed 21 runs in 0.7740523815155029 seconds\n",
      "Sorting communities by size, please wait ...\n",
      "PhenoGraph completed in 3.0392677783966064 seconds\n",
      "Finding 10 nearest neighbors using cosine metric and 'brute' algorithm\n",
      "Neighbors computed in 0.016023874282836914 seconds\n",
      "Jaccard graph constructed in 1.108724594116211 seconds\n",
      "Wrote graph to binary file in 0.003358125686645508 seconds\n",
      "Running Louvain modularity optimization\n",
      "After 1 runs, maximum modularity is Q = 0.624122\n",
      "After 3 runs, maximum modularity is Q = 0.625797\n",
      "Louvain completed 23 runs in 1.1147878170013428 seconds\n",
      "Sorting communities by size, please wait ...\n",
      "PhenoGraph completed in 3.3673598766326904 seconds\n",
      "Finding 10 nearest neighbors using cosine metric and 'brute' algorithm\n",
      "Neighbors computed in 0.0204620361328125 seconds\n",
      "Jaccard graph constructed in 1.1193876266479492 seconds\n",
      "Wrote graph to binary file in 0.002576589584350586 seconds\n",
      "Running Louvain modularity optimization\n",
      "After 1 runs, maximum modularity is Q = 0.682364\n",
      "Louvain completed 21 runs in 0.7816920280456543 seconds\n",
      "Sorting communities by size, please wait ...\n",
      "PhenoGraph completed in 3.0555779933929443 seconds\n",
      "Finding 10 nearest neighbors using cosine metric and 'brute' algorithm\n",
      "Neighbors computed in 0.016319990158081055 seconds\n",
      "Jaccard graph constructed in 1.1435387134552002 seconds\n",
      "Wrote graph to binary file in 0.0027129650115966797 seconds\n",
      "Running Louvain modularity optimization\n",
      "After 1 runs, maximum modularity is Q = 0.62945\n",
      "Louvain completed 21 runs in 1.0012235641479492 seconds\n",
      "Sorting communities by size, please wait ...\n",
      "PhenoGraph completed in 3.3072707653045654 seconds\n",
      "Finding 10 nearest neighbors using cosine metric and 'brute' algorithm\n",
      "Neighbors computed in 0.01812887191772461 seconds\n",
      "Jaccard graph constructed in 1.136885404586792 seconds\n",
      "Wrote graph to binary file in 0.0025916099548339844 seconds\n",
      "Running Louvain modularity optimization\n",
      "After 1 runs, maximum modularity is Q = 0.67922\n",
      "Louvain completed 21 runs in 0.8123974800109863 seconds\n",
      "Sorting communities by size, please wait ...\n",
      "PhenoGraph completed in 3.1282877922058105 seconds\n"
     ]
    },
    {
     "name": "stderr",
     "output_type": "stream",
     "text": [
      "Saving embedding: 87it [00:38,  2.28it/s]\n"
     ]
    },
    {
     "data": {
      "text/plain": [
       "0"
      ]
     },
     "execution_count": 6,
     "metadata": {},
     "output_type": "execute_result"
    }
   ],
   "source": [
    "##### Segmentation\n",
    "\n",
    "from cellmaps_coembedding.runner import MuseCoEmbeddingGenerator\n",
    "from cellmaps_coembedding.runner import CellmapsCoEmbedder\n",
    "\n",
    "ppi_embeddingdir = '../CM4AI/2.ppi_embedding'\n",
    "image_embeddingdir = '../CM4AI/embedding_Seg/untreated'\n",
    "outdir = '../CM4AI/3_Seg.coembedding_untreated'\n",
    "gen = MuseCoEmbeddingGenerator(ppi_embeddingdir=ppi_embeddingdir,\n",
    "                               image_embeddingdir=image_embeddingdir,\n",
    "                               outdir=os.path.abspath(outdir))\n",
    "\n",
    "x = CellmapsCoEmbedder(outdir=outdir,\n",
    "                      inputdirs=[ppi_embeddingdir, image_embeddingdir],\n",
    "                      embedding_generator=gen)\n",
    "x.run()\n"
   ]
  },
  {
   "cell_type": "code",
   "execution_count": 7,
   "id": "c4b73866",
   "metadata": {},
   "outputs": [
    {
     "name": "stderr",
     "output_type": "stream",
     "text": [
      "Generating hierarchy: 15it [00:00, 147.30it/s]\n"
     ]
    },
    {
     "name": "stdout",
     "output_type": "stream",
     "text": [
      "Generating CX\n",
      "Generating CX\n",
      "Generating CX\n",
      "Generating CX\n",
      "Generating CX\n",
      "Generating CX\n",
      "Generating CX\n",
      "Generating CX\n",
      "Generating CX\n",
      "Generating CX\n",
      "Generating CX\n",
      "Generating CX\n",
      "Generating CX\n",
      "Generating CX\n",
      "Generating CX\n"
     ]
    },
    {
     "name": "stderr",
     "output_type": "stream",
     "text": [
      "/data/user/ysong2/bin/Miniconda3/envs/cm4ai/lib/python3.8/site-packages/cellmaps_generate_hierarchy/runner.py:623: UserWarning: Layout disabled due to incompatibilities with HCX format\n",
      "  warnings.warn(\"Layout disabled due to incompatibilities with HCX format\")\n"
     ]
    },
    {
     "data": {
      "text/plain": [
       "0"
      ]
     },
     "execution_count": 7,
     "metadata": {},
     "output_type": "execute_result"
    }
   ],
   "source": [
    "from cellmaps_generate_hierarchy.ppi import CosineSimilarityPPIGenerator\n",
    "from cellmaps_generate_hierarchy.hierarchy import CDAPSHiDeFHierarchyGenerator\n",
    "from cellmaps_generate_hierarchy.maturehierarchy import HiDeFHierarchyRefiner\n",
    "from cellmaps_generate_hierarchy.hcx import HCXFromCDAPSCXHierarchy\n",
    "from cellmaps_generate_hierarchy.runner import CellmapsGenerateHierarchy\n",
    "\n",
    "inputdir = '../CM4AI/3_Seg.coembedding_untreated'\n",
    "outdir = '../CM4AI/5.2_Seg_hierarchy'\n",
    "ppigen = CosineSimilarityPPIGenerator(embeddingdirs=[inputdir])\n",
    "\n",
    "refiner = HiDeFHierarchyRefiner()\n",
    "\n",
    "converter = HCXFromCDAPSCXHierarchy()\n",
    "\n",
    "hiergen = CDAPSHiDeFHierarchyGenerator(refiner=refiner,\n",
    "                                       hcxconverter=converter)\n",
    "\n",
    "x = CellmapsGenerateHierarchy(outdir=outdir,\n",
    "                              inputdirs=inputdir,\n",
    "                              ppigen=ppigen,\n",
    "                              hiergen=hiergen)\n",
    "x.run()"
   ]
  },
  {
   "cell_type": "code",
   "execution_count": 8,
   "id": "75458aa2",
   "metadata": {},
   "outputs": [
    {
     "data": {
      "text/plain": [
       "0"
      ]
     },
     "execution_count": 8,
     "metadata": {},
     "output_type": "execute_result"
    }
   ],
   "source": [
    "from cellmaps_hierarchyeval.runner import CellmapshierarchyevalRunner\n",
    "\n",
    "inputdir = '../CM4AI/5.2_Seg_hierarchy'\n",
    "outdir = '../CM4AI/6.2_Seg_hierarchyeval'\n",
    "\n",
    "x = CellmapshierarchyevalRunner(outdir=outdir,\n",
    "                               hierarchy_dir=inputdir)\n",
    "x.run()"
   ]
  },
  {
   "cell_type": "code",
   "execution_count": null,
   "id": "fda7972f",
   "metadata": {},
   "outputs": [],
   "source": []
  },
  {
   "cell_type": "code",
   "execution_count": null,
   "id": "5418254a",
   "metadata": {},
   "outputs": [],
   "source": []
  },
  {
   "cell_type": "code",
   "execution_count": 16,
   "id": "ea5ea1af",
   "metadata": {},
   "outputs": [
    {
     "name": "stderr",
     "output_type": "stream",
     "text": [
      "\r",
      "Saving embedding: 0it [00:00, ?it/s]"
     ]
    },
    {
     "name": "stdout",
     "output_type": "stream",
     "text": [
      "Finding 10 nearest neighbors using cosine metric and 'brute' algorithm\n",
      "Neighbors computed in 0.03680229187011719 seconds\n",
      "Jaccard graph constructed in 1.1397716999053955 seconds\n",
      "Wrote graph to binary file in 0.005115032196044922 seconds\n",
      "Running Louvain modularity optimization\n",
      "After 1 runs, maximum modularity is Q = 0.643015\n",
      "Louvain completed 21 runs in 1.0079474449157715 seconds\n",
      "Sorting communities by size, please wait ...\n",
      "PhenoGraph completed in 3.428480386734009 seconds\n",
      "Finding 10 nearest neighbors using cosine metric and 'brute' algorithm\n",
      "Neighbors computed in 0.027510643005371094 seconds\n",
      "Jaccard graph constructed in 1.2344343662261963 seconds\n",
      "Wrote graph to binary file in 0.003612041473388672 seconds\n",
      "Running Louvain modularity optimization\n",
      "After 1 runs, maximum modularity is Q = 0.665033\n",
      "Louvain completed 21 runs in 0.9677505493164062 seconds\n",
      "Sorting communities by size, please wait ...\n",
      "PhenoGraph completed in 3.3857030868530273 seconds\n",
      "Finding 10 nearest neighbors using cosine metric and 'brute' algorithm\n",
      "Neighbors computed in 0.03197622299194336 seconds\n",
      "Jaccard graph constructed in 1.1833112239837646 seconds\n",
      "Wrote graph to binary file in 0.003220081329345703 seconds\n",
      "Running Louvain modularity optimization\n",
      "After 1 runs, maximum modularity is Q = 0.498492\n",
      "Louvain completed 21 runs in 1.0079293251037598 seconds\n",
      "Sorting communities by size, please wait ...\n",
      "PhenoGraph completed in 3.4657883644104004 seconds\n",
      "Finding 10 nearest neighbors using cosine metric and 'brute' algorithm\n",
      "Neighbors computed in 0.026099443435668945 seconds\n",
      "Jaccard graph constructed in 1.1383490562438965 seconds\n",
      "Wrote graph to binary file in 0.003305196762084961 seconds\n",
      "Running Louvain modularity optimization\n",
      "After 1 runs, maximum modularity is Q = 0.497835\n",
      "Louvain completed 21 runs in 0.9534130096435547 seconds\n",
      "Sorting communities by size, please wait ...\n",
      "PhenoGraph completed in 3.2231600284576416 seconds\n",
      "Finding 10 nearest neighbors using cosine metric and 'brute' algorithm\n",
      "Neighbors computed in 0.02014613151550293 seconds\n",
      "Jaccard graph constructed in 1.137559413909912 seconds\n",
      "Wrote graph to binary file in 0.0036733150482177734 seconds\n",
      "Running Louvain modularity optimization\n",
      "After 1 runs, maximum modularity is Q = 0.639983\n",
      "After 2 runs, maximum modularity is Q = 0.642524\n",
      "Louvain completed 22 runs in 1.0990242958068848 seconds\n",
      "Sorting communities by size, please wait ...\n",
      "PhenoGraph completed in 3.4211161136627197 seconds\n",
      "Finding 10 nearest neighbors using cosine metric and 'brute' algorithm\n",
      "Neighbors computed in 0.028057336807250977 seconds\n",
      "Jaccard graph constructed in 1.259531021118164 seconds\n",
      "Wrote graph to binary file in 0.0036144256591796875 seconds\n",
      "Running Louvain modularity optimization\n",
      "After 1 runs, maximum modularity is Q = 0.690936\n",
      "After 2 runs, maximum modularity is Q = 0.692096\n",
      "Louvain completed 22 runs in 1.192385196685791 seconds\n",
      "Sorting communities by size, please wait ...\n",
      "PhenoGraph completed in 3.756577730178833 seconds\n",
      "Finding 10 nearest neighbors using cosine metric and 'brute' algorithm\n",
      "Neighbors computed in 0.028276443481445312 seconds\n",
      "Jaccard graph constructed in 1.1673660278320312 seconds\n",
      "Wrote graph to binary file in 0.002770662307739258 seconds\n",
      "Running Louvain modularity optimization\n",
      "After 1 runs, maximum modularity is Q = 0.648915\n",
      "Louvain completed 21 runs in 1.0028047561645508 seconds\n",
      "Sorting communities by size, please wait ...\n",
      "PhenoGraph completed in 3.402665376663208 seconds\n",
      "Finding 10 nearest neighbors using cosine metric and 'brute' algorithm\n",
      "Neighbors computed in 0.019024372100830078 seconds\n",
      "Jaccard graph constructed in 1.1496169567108154 seconds\n",
      "Wrote graph to binary file in 0.0028922557830810547 seconds\n",
      "Running Louvain modularity optimization\n",
      "After 1 runs, maximum modularity is Q = 0.700614\n",
      "After 7 runs, maximum modularity is Q = 0.703416\n",
      "Louvain completed 27 runs in 1.375617265701294 seconds\n",
      "Sorting communities by size, please wait ...\n",
      "PhenoGraph completed in 3.6623339653015137 seconds\n"
     ]
    },
    {
     "name": "stderr",
     "output_type": "stream",
     "text": [
      "Saving embedding: 87it [00:42,  2.06it/s]\n"
     ]
    },
    {
     "data": {
      "text/plain": [
       "0"
      ]
     },
     "execution_count": 16,
     "metadata": {},
     "output_type": "execute_result"
    }
   ],
   "source": [
    "##### Segmentation vorinostat\n",
    "\n",
    "from cellmaps_coembedding.runner import MuseCoEmbeddingGenerator\n",
    "from cellmaps_coembedding.runner import CellmapsCoEmbedder\n",
    "\n",
    "ppi_embeddingdir = '../CM4AI/2.ppi_embedding'\n",
    "image_embeddingdir = '../CM4AI/embedding_Seg_vorinostat/untreated'\n",
    "outdir = '../CM4AI/3_Seg_vorinostat.coembedding_untreated'\n",
    "gen = MuseCoEmbeddingGenerator(ppi_embeddingdir=ppi_embeddingdir,\n",
    "                               image_embeddingdir=image_embeddingdir,\n",
    "                               outdir=os.path.abspath(outdir))\n",
    "\n",
    "x = CellmapsCoEmbedder(outdir=outdir,\n",
    "                      inputdirs=[ppi_embeddingdir, image_embeddingdir],\n",
    "                      embedding_generator=gen)\n",
    "x.run()\n"
   ]
  },
  {
   "cell_type": "code",
   "execution_count": 17,
   "id": "0072cbd6",
   "metadata": {},
   "outputs": [
    {
     "name": "stderr",
     "output_type": "stream",
     "text": [
      "Generating hierarchy: 15it [00:00, 108.75it/s]\n"
     ]
    },
    {
     "name": "stdout",
     "output_type": "stream",
     "text": [
      "Generating CX\n",
      "Generating CX\n",
      "Generating CX\n",
      "Generating CX\n",
      "Generating CX\n",
      "Generating CX\n",
      "Generating CX\n",
      "Generating CX\n",
      "Generating CX\n",
      "Generating CX\n",
      "Generating CX\n",
      "Generating CX\n",
      "Generating CX\n",
      "Generating CX\n",
      "Generating CX\n"
     ]
    },
    {
     "name": "stderr",
     "output_type": "stream",
     "text": [
      "/data/user/ysong2/bin/Miniconda3/envs/cm4ai/lib/python3.8/site-packages/cellmaps_generate_hierarchy/runner.py:623: UserWarning: Layout disabled due to incompatibilities with HCX format\n",
      "  warnings.warn(\"Layout disabled due to incompatibilities with HCX format\")\n"
     ]
    },
    {
     "data": {
      "text/plain": [
       "0"
      ]
     },
     "execution_count": 17,
     "metadata": {},
     "output_type": "execute_result"
    }
   ],
   "source": [
    "from cellmaps_generate_hierarchy.ppi import CosineSimilarityPPIGenerator\n",
    "from cellmaps_generate_hierarchy.hierarchy import CDAPSHiDeFHierarchyGenerator\n",
    "from cellmaps_generate_hierarchy.maturehierarchy import HiDeFHierarchyRefiner\n",
    "from cellmaps_generate_hierarchy.hcx import HCXFromCDAPSCXHierarchy\n",
    "from cellmaps_generate_hierarchy.runner import CellmapsGenerateHierarchy\n",
    "\n",
    "inputdir = '../CM4AI/3_Seg_vorinostat.coembedding_untreated'\n",
    "outdir = '../CM4AI/5.2_Seg_vorinostat_hierarchy'\n",
    "ppigen = CosineSimilarityPPIGenerator(embeddingdirs=[inputdir])\n",
    "\n",
    "refiner = HiDeFHierarchyRefiner()\n",
    "\n",
    "converter = HCXFromCDAPSCXHierarchy()\n",
    "\n",
    "hiergen = CDAPSHiDeFHierarchyGenerator(refiner=refiner,\n",
    "                                       hcxconverter=converter)\n",
    "\n",
    "x = CellmapsGenerateHierarchy(outdir=outdir,\n",
    "                              inputdirs=inputdir,\n",
    "                              ppigen=ppigen,\n",
    "                              hiergen=hiergen)\n",
    "x.run()"
   ]
  },
  {
   "cell_type": "code",
   "execution_count": 18,
   "id": "e4d65548",
   "metadata": {},
   "outputs": [
    {
     "data": {
      "text/plain": [
       "0"
      ]
     },
     "execution_count": 18,
     "metadata": {},
     "output_type": "execute_result"
    }
   ],
   "source": [
    "from cellmaps_hierarchyeval.runner import CellmapshierarchyevalRunner\n",
    "\n",
    "inputdir = '../CM4AI/5.2_Seg_vorinostat_hierarchy'\n",
    "outdir = '../CM4AI/6.2_Seg_vorinostat_hierarchyeval'\n",
    "\n",
    "x = CellmapshierarchyevalRunner(outdir=outdir,\n",
    "                               hierarchy_dir=inputdir)\n",
    "x.run()"
   ]
  },
  {
   "cell_type": "code",
   "execution_count": null,
   "id": "bf366fc5",
   "metadata": {},
   "outputs": [],
   "source": []
  },
  {
   "cell_type": "code",
   "execution_count": null,
   "id": "95b000a6",
   "metadata": {},
   "outputs": [],
   "source": []
  },
  {
   "cell_type": "code",
   "execution_count": 19,
   "id": "b0ad2281",
   "metadata": {},
   "outputs": [
    {
     "name": "stderr",
     "output_type": "stream",
     "text": [
      "\r",
      "Saving embedding: 0it [00:00, ?it/s]"
     ]
    },
    {
     "name": "stdout",
     "output_type": "stream",
     "text": [
      "Finding 10 nearest neighbors using cosine metric and 'brute' algorithm\n",
      "Neighbors computed in 0.04073500633239746 seconds\n",
      "Jaccard graph constructed in 1.133939266204834 seconds\n",
      "Wrote graph to binary file in 0.0036144256591796875 seconds\n",
      "Running Louvain modularity optimization\n",
      "After 1 runs, maximum modularity is Q = 0.623025\n",
      "After 2 runs, maximum modularity is Q = 0.62597\n",
      "Louvain completed 22 runs in 1.257913589477539 seconds\n",
      "Sorting communities by size, please wait ...\n",
      "PhenoGraph completed in 3.580003499984741 seconds\n",
      "Finding 10 nearest neighbors using cosine metric and 'brute' algorithm\n",
      "Neighbors computed in 0.028148412704467773 seconds\n",
      "Jaccard graph constructed in 1.1031773090362549 seconds\n",
      "Wrote graph to binary file in 0.003516674041748047 seconds\n",
      "Running Louvain modularity optimization\n",
      "After 1 runs, maximum modularity is Q = 0.514514\n",
      "After 2 runs, maximum modularity is Q = 0.525203\n",
      "After 3 runs, maximum modularity is Q = 0.529643\n",
      "After 6 runs, maximum modularity is Q = 0.532437\n",
      "Louvain completed 26 runs in 1.5611457824707031 seconds\n",
      "Sorting communities by size, please wait ...\n",
      "PhenoGraph completed in 3.8181872367858887 seconds\n",
      "Finding 10 nearest neighbors using cosine metric and 'brute' algorithm\n",
      "Neighbors computed in 0.021284103393554688 seconds\n",
      "Jaccard graph constructed in 1.1269421577453613 seconds\n",
      "Wrote graph to binary file in 0.0037932395935058594 seconds\n",
      "Running Louvain modularity optimization\n",
      "After 1 runs, maximum modularity is Q = 0.496333\n",
      "Louvain completed 21 runs in 0.9751815795898438 seconds\n",
      "Sorting communities by size, please wait ...\n",
      "PhenoGraph completed in 3.183408737182617 seconds\n",
      "Finding 10 nearest neighbors using cosine metric and 'brute' algorithm\n",
      "Neighbors computed in 0.015223026275634766 seconds\n",
      "Jaccard graph constructed in 1.0289323329925537 seconds\n",
      "Wrote graph to binary file in 0.003623485565185547 seconds\n",
      "Running Louvain modularity optimization\n",
      "After 1 runs, maximum modularity is Q = 0.468588\n",
      "After 4 runs, maximum modularity is Q = 0.471361\n",
      "After 7 runs, maximum modularity is Q = 0.473121\n",
      "Louvain completed 27 runs in 0.8437345027923584 seconds\n",
      "Sorting communities by size, please wait ...\n",
      "PhenoGraph completed in 2.9544434547424316 seconds\n",
      "Finding 10 nearest neighbors using cosine metric and 'brute' algorithm\n",
      "Neighbors computed in 0.027642011642456055 seconds\n",
      "Jaccard graph constructed in 1.0716676712036133 seconds\n",
      "Wrote graph to binary file in 0.0029828548431396484 seconds\n",
      "Running Louvain modularity optimization\n",
      "After 1 runs, maximum modularity is Q = 0.636735\n",
      "After 3 runs, maximum modularity is Q = 0.641379\n",
      "After 9 runs, maximum modularity is Q = 0.642763\n",
      "After 22 runs, maximum modularity is Q = 0.644949\n",
      "Louvain completed 42 runs in 1.770467758178711 seconds\n",
      "Sorting communities by size, please wait ...\n",
      "PhenoGraph completed in 3.9615864753723145 seconds\n",
      "Finding 10 nearest neighbors using cosine metric and 'brute' algorithm\n",
      "Neighbors computed in 0.03164362907409668 seconds\n",
      "Jaccard graph constructed in 1.096465826034546 seconds\n",
      "Wrote graph to binary file in 0.003019094467163086 seconds\n",
      "Running Louvain modularity optimization\n",
      "After 1 runs, maximum modularity is Q = 0.605266\n",
      "Louvain completed 21 runs in 0.8561515808105469 seconds\n",
      "Sorting communities by size, please wait ...\n",
      "PhenoGraph completed in 3.105602741241455 seconds\n",
      "Finding 10 nearest neighbors using cosine metric and 'brute' algorithm\n",
      "Neighbors computed in 0.01963019371032715 seconds\n",
      "Jaccard graph constructed in 1.1162300109863281 seconds\n",
      "Wrote graph to binary file in 0.003322601318359375 seconds\n",
      "Running Louvain modularity optimization\n",
      "After 1 runs, maximum modularity is Q = 0.638257\n",
      "After 2 runs, maximum modularity is Q = 0.641147\n",
      "Louvain completed 22 runs in 1.1092524528503418 seconds\n",
      "Sorting communities by size, please wait ...\n",
      "PhenoGraph completed in 3.38036847114563 seconds\n",
      "Finding 10 nearest neighbors using cosine metric and 'brute' algorithm\n",
      "Neighbors computed in 0.02205061912536621 seconds\n",
      "Jaccard graph constructed in 1.2360646724700928 seconds\n",
      "Wrote graph to binary file in 0.002857685089111328 seconds\n",
      "Running Louvain modularity optimization\n",
      "After 1 runs, maximum modularity is Q = 0.603389\n",
      "After 4 runs, maximum modularity is Q = 0.605413\n",
      "Louvain completed 24 runs in 1.1895227432250977 seconds\n",
      "Sorting communities by size, please wait ...\n",
      "PhenoGraph completed in 3.678997755050659 seconds\n"
     ]
    },
    {
     "name": "stderr",
     "output_type": "stream",
     "text": [
      "Saving embedding: 80it [02:03,  1.54s/it]\n"
     ]
    },
    {
     "data": {
      "text/plain": [
       "0"
      ]
     },
     "execution_count": 19,
     "metadata": {},
     "output_type": "execute_result"
    }
   ],
   "source": [
    "##### Segmentaion vorinostat\n",
    "\n",
    "from cellmaps_coembedding.runner import MuseCoEmbeddingGenerator\n",
    "from cellmaps_coembedding.runner import CellmapsCoEmbedder\n",
    "\n",
    "ppi_embeddingdir = '../CM4AI/2.ppi_embedding'\n",
    "image_embeddingdir = '../CM4AI/embedding_Seg_paclitaxel/untreated'\n",
    "outdir = '../CM4AI/3_Seg_paclitaxel.coembedding_untreated'\n",
    "gen = MuseCoEmbeddingGenerator(ppi_embeddingdir=ppi_embeddingdir,\n",
    "                               image_embeddingdir=image_embeddingdir,\n",
    "                               outdir=os.path.abspath(outdir))\n",
    "\n",
    "x = CellmapsCoEmbedder(outdir=outdir,\n",
    "                      inputdirs=[ppi_embeddingdir, image_embeddingdir],\n",
    "                      embedding_generator=gen)\n",
    "x.run()\n"
   ]
  },
  {
   "cell_type": "code",
   "execution_count": 20,
   "id": "cb79c766",
   "metadata": {},
   "outputs": [
    {
     "name": "stderr",
     "output_type": "stream",
     "text": [
      "Generating hierarchy: 15it [00:00, 124.54it/s]\n"
     ]
    },
    {
     "name": "stdout",
     "output_type": "stream",
     "text": [
      "Generating CX\n",
      "Generating CX\n",
      "Generating CX\n",
      "Generating CX\n",
      "Generating CX\n",
      "Generating CX\n",
      "Generating CX\n",
      "Generating CX\n",
      "Generating CX\n",
      "Generating CX\n",
      "Generating CX\n",
      "Generating CX\n",
      "Generating CX\n",
      "Generating CX\n",
      "Generating CX\n"
     ]
    },
    {
     "name": "stderr",
     "output_type": "stream",
     "text": [
      "/data/user/ysong2/bin/Miniconda3/envs/cm4ai/lib/python3.8/site-packages/cellmaps_generate_hierarchy/runner.py:623: UserWarning: Layout disabled due to incompatibilities with HCX format\n",
      "  warnings.warn(\"Layout disabled due to incompatibilities with HCX format\")\n"
     ]
    },
    {
     "data": {
      "text/plain": [
       "0"
      ]
     },
     "execution_count": 20,
     "metadata": {},
     "output_type": "execute_result"
    }
   ],
   "source": [
    "from cellmaps_generate_hierarchy.ppi import CosineSimilarityPPIGenerator\n",
    "from cellmaps_generate_hierarchy.hierarchy import CDAPSHiDeFHierarchyGenerator\n",
    "from cellmaps_generate_hierarchy.maturehierarchy import HiDeFHierarchyRefiner\n",
    "from cellmaps_generate_hierarchy.hcx import HCXFromCDAPSCXHierarchy\n",
    "from cellmaps_generate_hierarchy.runner import CellmapsGenerateHierarchy\n",
    "\n",
    "inputdir = '../CM4AI/3_Seg_paclitaxel.coembedding_untreated'\n",
    "outdir = '../CM4AI/5.2_Seg_paclitaxel_hierarchy'\n",
    "ppigen = CosineSimilarityPPIGenerator(embeddingdirs=[inputdir])\n",
    "\n",
    "refiner = HiDeFHierarchyRefiner()\n",
    "\n",
    "converter = HCXFromCDAPSCXHierarchy()\n",
    "\n",
    "hiergen = CDAPSHiDeFHierarchyGenerator(refiner=refiner,\n",
    "                                       hcxconverter=converter)\n",
    "\n",
    "x = CellmapsGenerateHierarchy(outdir=outdir,\n",
    "                              inputdirs=inputdir,\n",
    "                              ppigen=ppigen,\n",
    "                              hiergen=hiergen)\n",
    "x.run()"
   ]
  },
  {
   "cell_type": "code",
   "execution_count": 21,
   "id": "d2740881",
   "metadata": {},
   "outputs": [
    {
     "data": {
      "text/plain": [
       "0"
      ]
     },
     "execution_count": 21,
     "metadata": {},
     "output_type": "execute_result"
    }
   ],
   "source": [
    "from cellmaps_hierarchyeval.runner import CellmapshierarchyevalRunner\n",
    "\n",
    "inputdir = '../CM4AI/5.2_Seg_paclitaxel_hierarchy'\n",
    "outdir = '../CM4AI/6.2_Seg_paclitaxel_hierarchyeval'\n",
    "\n",
    "x = CellmapshierarchyevalRunner(outdir=outdir,\n",
    "                               hierarchy_dir=inputdir)\n",
    "x.run()"
   ]
  },
  {
   "cell_type": "code",
   "execution_count": null,
   "id": "6e5c93e5",
   "metadata": {},
   "outputs": [],
   "source": []
  },
  {
   "cell_type": "code",
   "execution_count": null,
   "id": "55774d62",
   "metadata": {},
   "outputs": [],
   "source": []
  },
  {
   "cell_type": "code",
   "execution_count": null,
   "id": "8f6cbee5",
   "metadata": {},
   "outputs": [],
   "source": []
  },
  {
   "cell_type": "code",
   "execution_count": null,
   "id": "841e67ae",
   "metadata": {},
   "outputs": [],
   "source": []
  },
  {
   "cell_type": "code",
   "execution_count": null,
   "id": "9ee46621",
   "metadata": {},
   "outputs": [],
   "source": []
  },
  {
   "cell_type": "code",
   "execution_count": null,
   "id": "538702f5",
   "metadata": {},
   "outputs": [],
   "source": []
  },
  {
   "cell_type": "code",
   "execution_count": null,
   "id": "36104700",
   "metadata": {},
   "outputs": [],
   "source": []
  },
  {
   "cell_type": "code",
   "execution_count": null,
   "id": "6efa42f7",
   "metadata": {},
   "outputs": [],
   "source": []
  }
 ],
 "metadata": {
  "anaconda-cloud": {},
  "kernelspec": {
   "display_name": "Python (cm4ai)",
   "language": "python",
   "name": "cm4ai"
  },
  "language_info": {
   "codemirror_mode": {
    "name": "ipython",
    "version": 3
   },
   "file_extension": ".py",
   "mimetype": "text/x-python",
   "name": "python",
   "nbconvert_exporter": "python",
   "pygments_lexer": "ipython3",
   "version": "3.8.20"
  }
 },
 "nbformat": 4,
 "nbformat_minor": 5
}
