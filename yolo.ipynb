{
 "cells": [
  {
   "cell_type": "code",
   "execution_count": 1,
   "id": "ea81f729",
   "metadata": {},
   "outputs": [
    {
     "name": "stdout",
     "output_type": "stream",
     "text": [
      "CUDA is available. GPU will be used.\n",
      "Number of GPUs available: 1\n",
      "GPU Name: Tesla P100-PCIE-16GB\n"
     ]
    }
   ],
   "source": [
    "import torch\n",
    "\n",
    "if torch.cuda.is_available():\n",
    "    print(\"CUDA is available. GPU will be used.\")\n",
    "    print(f\"Number of GPUs available: {torch.cuda.device_count()}\")\n",
    "    print(f\"GPU Name: {torch.cuda.get_device_name(0)}\") # Prints the name of the first GPU\n",
    "else:\n",
    "    print(\"CUDA is not available. CPU will be used.\")"
   ]
  },
  {
   "cell_type": "code",
   "execution_count": null,
   "id": "dd8cd890",
   "metadata": {},
   "outputs": [],
   "source": [
    "ls"
   ]
  },
  {
   "cell_type": "code",
   "execution_count": null,
   "id": "f53eb865",
   "metadata": {},
   "outputs": [],
   "source": [
    "!unzip -qq stage1_train.zip -d stage1_train"
   ]
  },
  {
   "cell_type": "code",
   "execution_count": null,
   "id": "c5195292",
   "metadata": {},
   "outputs": [],
   "source": [
    "!unzip -qq untreated.zip -d untreated"
   ]
  },
  {
   "cell_type": "code",
   "execution_count": null,
   "id": "f5dd6397",
   "metadata": {},
   "outputs": [],
   "source": [
    "!unzip -qq paclitaxel.zip -d paclitaxel"
   ]
  },
  {
   "cell_type": "code",
   "execution_count": null,
   "id": "d8dfa521",
   "metadata": {},
   "outputs": [],
   "source": [
    "!unzip -qq vorinostat.zip -d vorinostat"
   ]
  },
  {
   "cell_type": "code",
   "execution_count": null,
   "id": "f294b8c8",
   "metadata": {},
   "outputs": [],
   "source": [
    "ls"
   ]
  },
  {
   "cell_type": "code",
   "execution_count": 2,
   "id": "a90c7e01",
   "metadata": {},
   "outputs": [],
   "source": [
    "import os\n",
    "import numpy as np\n",
    "from PIL import Image\n",
    "import cv2\n",
    "import shutil"
   ]
  },
  {
   "cell_type": "code",
   "execution_count": null,
   "id": "a2d31673",
   "metadata": {},
   "outputs": [],
   "source": [
    "import os\n",
    "import numpy as np\n",
    "from PIL import Image\n",
    "import cv2\n",
    "import shutil\n",
    "\n",
    "# Paths\n",
    "DATASET_DIR = \"stage1_train\"\n",
    "YOLO_DATASET_DIR = \"bbbc050_yolo\"\n",
    "\n",
    "# YOLO format: one txt per image with lines: class_id x_center y_center width height (normalized)\n",
    "os.makedirs(YOLO_DATASET_DIR + \"/images/train\", exist_ok=True)\n",
    "os.makedirs(YOLO_DATASET_DIR + \"/labels/train\", exist_ok=True)\n",
    "\n",
    "for img_id in os.listdir(DATASET_DIR):\n",
    "    img_path = os.path.join(DATASET_DIR, img_id, \"images\", img_id + \".png\")\n",
    "    mask_dir = os.path.join(DATASET_DIR, img_id, \"masks\")\n",
    "\n",
    "    # Copy image\n",
    "    img_out = os.path.join(YOLO_DATASET_DIR, \"images/train\", img_id + \".png\")\n",
    "    shutil.copy(img_path, img_out)\n",
    "\n",
    "    # Build YOLO labels\n",
    "    H, W = 256, 256\n",
    "    label_lines = []\n",
    "    for mask_file in os.listdir(mask_dir):\n",
    "        mask = np.array(Image.open(os.path.join(mask_dir, mask_file)).resize((W, H)))\n",
    "        contours, _ = cv2.findContours((mask>127).astype(np.uint8), cv2.RETR_EXTERNAL, cv2.CHAIN_APPROX_SIMPLE)\n",
    "        for cnt in contours:\n",
    "            x, y, w, h = cv2.boundingRect(cnt)\n",
    "            # Normalize\n",
    "            xc = (x + w/2) / W\n",
    "            yc = (y + h/2) / H\n",
    "            wn = w / W\n",
    "            hn = h / H\n",
    "            label_lines.append(f\"0 {xc} {yc} {wn} {hn}\\n\")\n",
    "\n",
    "    with open(os.path.join(YOLO_DATASET_DIR, \"labels/train\", img_id + \".txt\"), \"w\") as f:\n",
    "        f.writelines(label_lines)\n"
   ]
  },
  {
   "cell_type": "code",
   "execution_count": null,
   "id": "34eda1e0",
   "metadata": {},
   "outputs": [],
   "source": []
  },
  {
   "cell_type": "code",
   "execution_count": 4,
   "id": "cc493a50",
   "metadata": {},
   "outputs": [
    {
     "name": "stdout",
     "output_type": "stream",
     "text": [
      "New https://pypi.org/project/ultralytics/8.3.182 available 😃 Update with 'pip install -U ultralytics'\n",
      "Ultralytics 8.3.181 🚀 Python-3.10.18 torch-2.5.1 CUDA:0 (Tesla P100-PCIE-16GB, 16269MiB)\n",
      "\u001b[34m\u001b[1mengine/trainer: \u001b[0magnostic_nms=False, amp=True, augment=False, auto_augment=randaugment, batch=8, bgr=0.0, box=7.5, cache=False, cfg=None, classes=None, close_mosaic=10, cls=0.5, conf=None, copy_paste=0.0, copy_paste_mode=flip, cos_lr=False, cutmix=0.0, data=data.yaml, degrees=0.0, deterministic=True, device=0, dfl=1.5, dnn=False, dropout=0.0, dynamic=False, embed=None, epochs=50, erasing=0.4, exist_ok=False, fliplr=0.5, flipud=0.0, format=torchscript, fraction=1.0, freeze=None, half=False, hsv_h=0.015, hsv_s=0.7, hsv_v=0.4, imgsz=256, int8=False, iou=0.7, keras=False, kobj=1.0, line_width=None, lr0=0.01, lrf=0.01, mask_ratio=4, max_det=300, mixup=0.0, mode=train, model=yolov8n.pt, momentum=0.937, mosaic=1.0, multi_scale=False, name=train11, nbs=64, nms=False, opset=None, optimize=False, optimizer=auto, overlap_mask=True, patience=100, perspective=0.0, plots=True, pose=12.0, pretrained=True, profile=False, project=None, rect=False, resume=False, retina_masks=False, save=True, save_conf=False, save_crop=False, save_dir=runs/detect/train11, save_frames=False, save_json=False, save_period=-1, save_txt=False, scale=0.5, seed=0, shear=0.0, show=False, show_boxes=True, show_conf=True, show_labels=True, simplify=True, single_cls=False, source=None, split=val, stream_buffer=False, task=detect, time=None, tracker=botsort.yaml, translate=0.1, val=True, verbose=True, vid_stride=1, visualize=False, warmup_bias_lr=0.1, warmup_epochs=3.0, warmup_momentum=0.8, weight_decay=0.0005, workers=8, workspace=None\n",
      "Overriding model.yaml nc=80 with nc=1\n",
      "\n",
      "                   from  n    params  module                                       arguments                     \n",
      "  0                  -1  1       464  ultralytics.nn.modules.conv.Conv             [3, 16, 3, 2]                 \n",
      "  1                  -1  1      4672  ultralytics.nn.modules.conv.Conv             [16, 32, 3, 2]                \n",
      "  2                  -1  1      7360  ultralytics.nn.modules.block.C2f             [32, 32, 1, True]             \n",
      "  3                  -1  1     18560  ultralytics.nn.modules.conv.Conv             [32, 64, 3, 2]                \n",
      "  4                  -1  2     49664  ultralytics.nn.modules.block.C2f             [64, 64, 2, True]             \n",
      "  5                  -1  1     73984  ultralytics.nn.modules.conv.Conv             [64, 128, 3, 2]               \n",
      "  6                  -1  2    197632  ultralytics.nn.modules.block.C2f             [128, 128, 2, True]           \n",
      "  7                  -1  1    295424  ultralytics.nn.modules.conv.Conv             [128, 256, 3, 2]              \n",
      "  8                  -1  1    460288  ultralytics.nn.modules.block.C2f             [256, 256, 1, True]           \n",
      "  9                  -1  1    164608  ultralytics.nn.modules.block.SPPF            [256, 256, 5]                 \n",
      " 10                  -1  1         0  torch.nn.modules.upsampling.Upsample         [None, 2, 'nearest']          \n",
      " 11             [-1, 6]  1         0  ultralytics.nn.modules.conv.Concat           [1]                           \n",
      " 12                  -1  1    148224  ultralytics.nn.modules.block.C2f             [384, 128, 1]                 \n",
      " 13                  -1  1         0  torch.nn.modules.upsampling.Upsample         [None, 2, 'nearest']          \n",
      " 14             [-1, 4]  1         0  ultralytics.nn.modules.conv.Concat           [1]                           \n",
      " 15                  -1  1     37248  ultralytics.nn.modules.block.C2f             [192, 64, 1]                  \n",
      " 16                  -1  1     36992  ultralytics.nn.modules.conv.Conv             [64, 64, 3, 2]                \n",
      " 17            [-1, 12]  1         0  ultralytics.nn.modules.conv.Concat           [1]                           \n",
      " 18                  -1  1    123648  ultralytics.nn.modules.block.C2f             [192, 128, 1]                 \n",
      " 19                  -1  1    147712  ultralytics.nn.modules.conv.Conv             [128, 128, 3, 2]              \n",
      " 20             [-1, 9]  1         0  ultralytics.nn.modules.conv.Concat           [1]                           \n",
      " 21                  -1  1    493056  ultralytics.nn.modules.block.C2f             [384, 256, 1]                 \n",
      " 22        [15, 18, 21]  1    751507  ultralytics.nn.modules.head.Detect           [1, [64, 128, 256]]           \n",
      "Model summary: 129 layers, 3,011,043 parameters, 3,011,027 gradients\n",
      "\n",
      "Transferred 319/355 items from pretrained weights\n",
      "Freezing layer 'model.22.dfl.conv.weight'\n",
      "\u001b[34m\u001b[1mAMP: \u001b[0mrunning Automatic Mixed Precision (AMP) checks...\n",
      "\u001b[34m\u001b[1mAMP: \u001b[0mchecks passed ✅\n",
      "\u001b[34m\u001b[1mtrain: \u001b[0mFast image access ✅ (ping: 0.9±0.1 ms, read: 14.8±20.7 MB/s, size: 217.0 KB)\n"
     ]
    },
    {
     "name": "stderr",
     "output_type": "stream",
     "text": [
      "\u001b[34m\u001b[1mtrain: \u001b[0mScanning /data/user/home/hnguye24/bbbc050_yolo/labels/train.cache... 670 images, 0 backgrounds, 0 corrupt: 100%|██████████| 670/670 [00:00<?, ?it/s]\n",
      "/home/hnguye24/.conda/envs/yolo6/lib/python3.10/site-packages/torch/utils/data/dataloader.py:617: UserWarning: This DataLoader will create 8 worker processes in total. Our suggested max number of worker in current system is 4, which is smaller than what this DataLoader is going to create. Please be aware that excessive worker creation might get DataLoader running slow or even freeze, lower the worker number to avoid potential slowness/freeze if necessary.\n",
      "  warnings.warn(\n"
     ]
    },
    {
     "name": "stdout",
     "output_type": "stream",
     "text": [
      "\u001b[34m\u001b[1mval: \u001b[0mFast image access ✅ (ping: 0.0±0.0 ms, read: 4.3±1.8 MB/s, size: 116.7 KB)\n"
     ]
    },
    {
     "name": "stderr",
     "output_type": "stream",
     "text": [
      "\u001b[34m\u001b[1mval: \u001b[0mScanning /data/user/home/hnguye24/bbbc050_yolo/labels/train.cache... 670 images, 0 backgrounds, 0 corrupt: 100%|██████████| 670/670 [00:00<?, ?it/s]\n",
      "/home/hnguye24/.conda/envs/yolo6/lib/python3.10/site-packages/torch/utils/data/dataloader.py:617: UserWarning: This DataLoader will create 16 worker processes in total. Our suggested max number of worker in current system is 4, which is smaller than what this DataLoader is going to create. Please be aware that excessive worker creation might get DataLoader running slow or even freeze, lower the worker number to avoid potential slowness/freeze if necessary.\n",
      "  warnings.warn(\n"
     ]
    },
    {
     "name": "stdout",
     "output_type": "stream",
     "text": [
      "Plotting labels to runs/detect/train11/labels.jpg... \n",
      "\u001b[34m\u001b[1moptimizer:\u001b[0m 'optimizer=auto' found, ignoring 'lr0=0.01' and 'momentum=0.937' and determining best 'optimizer', 'lr0' and 'momentum' automatically... \n",
      "\u001b[34m\u001b[1moptimizer:\u001b[0m AdamW(lr=0.002, momentum=0.9) with parameter groups 57 weight(decay=0.0), 64 weight(decay=0.0005), 63 bias(decay=0.0)\n",
      "Image sizes 256 train, 256 val\n",
      "Using 8 dataloader workers\n",
      "Logging results to \u001b[1mruns/detect/train11\u001b[0m\n",
      "Starting training for 50 epochs...\n",
      "\n",
      "      Epoch    GPU_mem   box_loss   cls_loss   dfl_loss  Instances       Size\n"
     ]
    },
    {
     "name": "stderr",
     "output_type": "stream",
     "text": [
      "       1/50     0.395G      1.808      1.996       1.01        622        256: 100%|██████████| 84/84 [00:10<00:00,  8.24it/s]\n",
      "                 Class     Images  Instances      Box(P          R      mAP50  mAP50-95): 100%|██████████| 42/42 [00:04<00:00,  9.46it/s]\n"
     ]
    },
    {
     "name": "stdout",
     "output_type": "stream",
     "text": [
      "                   all        670      29475       0.79      0.597      0.641      0.352\n",
      "\n",
      "      Epoch    GPU_mem   box_loss   cls_loss   dfl_loss  Instances       Size\n"
     ]
    },
    {
     "name": "stderr",
     "output_type": "stream",
     "text": [
      "       2/50     0.576G      1.602     0.9153     0.9463        179        256: 100%|██████████| 84/84 [00:05<00:00, 14.24it/s]\n",
      "                 Class     Images  Instances      Box(P          R      mAP50  mAP50-95): 100%|██████████| 42/42 [00:03<00:00, 12.29it/s]\n"
     ]
    },
    {
     "name": "stdout",
     "output_type": "stream",
     "text": [
      "                   all        670      29475      0.836      0.673      0.713      0.364\n",
      "\n",
      "      Epoch    GPU_mem   box_loss   cls_loss   dfl_loss  Instances       Size\n"
     ]
    },
    {
     "name": "stderr",
     "output_type": "stream",
     "text": [
      "       3/50     0.576G      1.503     0.7824     0.9268        283        256: 100%|██████████| 84/84 [00:05<00:00, 14.57it/s]\n",
      "                 Class     Images  Instances      Box(P          R      mAP50  mAP50-95): 100%|██████████| 42/42 [00:03<00:00, 12.44it/s]\n"
     ]
    },
    {
     "name": "stdout",
     "output_type": "stream",
     "text": [
      "                   all        670      29475      0.845      0.701      0.742      0.433\n",
      "\n",
      "      Epoch    GPU_mem   box_loss   cls_loss   dfl_loss  Instances       Size\n"
     ]
    },
    {
     "name": "stderr",
     "output_type": "stream",
     "text": [
      "       4/50     0.576G      1.465     0.7342     0.9208        333        256: 100%|██████████| 84/84 [00:05<00:00, 14.50it/s]\n",
      "                 Class     Images  Instances      Box(P          R      mAP50  mAP50-95): 100%|██████████| 42/42 [00:03<00:00, 12.65it/s]\n"
     ]
    },
    {
     "name": "stdout",
     "output_type": "stream",
     "text": [
      "                   all        670      29475      0.869       0.71      0.751      0.463\n",
      "\n",
      "      Epoch    GPU_mem   box_loss   cls_loss   dfl_loss  Instances       Size\n"
     ]
    },
    {
     "name": "stderr",
     "output_type": "stream",
     "text": [
      "       5/50     0.576G      1.456       0.73     0.9231        425        256: 100%|██████████| 84/84 [00:05<00:00, 14.79it/s]\n",
      "                 Class     Images  Instances      Box(P          R      mAP50  mAP50-95): 100%|██████████| 42/42 [00:03<00:00, 11.67it/s]\n"
     ]
    },
    {
     "name": "stdout",
     "output_type": "stream",
     "text": [
      "                   all        670      29475      0.861      0.726      0.755      0.455\n",
      "\n",
      "      Epoch    GPU_mem   box_loss   cls_loss   dfl_loss  Instances       Size\n"
     ]
    },
    {
     "name": "stderr",
     "output_type": "stream",
     "text": [
      "       6/50     0.576G      1.392      0.712     0.9154        596        256: 100%|██████████| 84/84 [00:05<00:00, 14.66it/s]\n",
      "                 Class     Images  Instances      Box(P          R      mAP50  mAP50-95): 100%|██████████| 42/42 [00:03<00:00, 12.37it/s]"
     ]
    },
    {
     "name": "stdout",
     "output_type": "stream",
     "text": [
      "                   all        670      29475      0.874      0.733      0.775      0.464\n"
     ]
    },
    {
     "name": "stderr",
     "output_type": "stream",
     "text": [
      "\n"
     ]
    },
    {
     "name": "stdout",
     "output_type": "stream",
     "text": [
      "\n",
      "      Epoch    GPU_mem   box_loss   cls_loss   dfl_loss  Instances       Size\n"
     ]
    },
    {
     "name": "stderr",
     "output_type": "stream",
     "text": [
      "       7/50     0.576G      1.374     0.7095     0.9102        312        256: 100%|██████████| 84/84 [00:05<00:00, 14.58it/s]\n",
      "                 Class     Images  Instances      Box(P          R      mAP50  mAP50-95): 100%|██████████| 42/42 [00:03<00:00, 12.60it/s]\n"
     ]
    },
    {
     "name": "stdout",
     "output_type": "stream",
     "text": [
      "                   all        670      29475      0.875       0.72      0.774      0.477\n",
      "\n",
      "      Epoch    GPU_mem   box_loss   cls_loss   dfl_loss  Instances       Size\n"
     ]
    },
    {
     "name": "stderr",
     "output_type": "stream",
     "text": [
      "       8/50     0.576G      1.348     0.7064     0.9087        327        256: 100%|██████████| 84/84 [00:05<00:00, 14.64it/s]\n",
      "                 Class     Images  Instances      Box(P          R      mAP50  mAP50-95): 100%|██████████| 42/42 [00:03<00:00, 12.83it/s]"
     ]
    },
    {
     "name": "stdout",
     "output_type": "stream",
     "text": [
      "                   all        670      29475      0.872      0.731      0.782      0.464\n"
     ]
    },
    {
     "name": "stderr",
     "output_type": "stream",
     "text": [
      "\n"
     ]
    },
    {
     "name": "stdout",
     "output_type": "stream",
     "text": [
      "\n",
      "      Epoch    GPU_mem   box_loss   cls_loss   dfl_loss  Instances       Size\n"
     ]
    },
    {
     "name": "stderr",
     "output_type": "stream",
     "text": [
      "       9/50     0.576G       1.33     0.6784     0.9066        500        256: 100%|██████████| 84/84 [00:05<00:00, 14.90it/s]\n",
      "                 Class     Images  Instances      Box(P          R      mAP50  mAP50-95): 100%|██████████| 42/42 [00:03<00:00, 12.53it/s]"
     ]
    },
    {
     "name": "stdout",
     "output_type": "stream",
     "text": [
      "                   all        670      29475      0.882       0.73      0.782      0.482\n"
     ]
    },
    {
     "name": "stderr",
     "output_type": "stream",
     "text": [
      "\n"
     ]
    },
    {
     "name": "stdout",
     "output_type": "stream",
     "text": [
      "\n",
      "      Epoch    GPU_mem   box_loss   cls_loss   dfl_loss  Instances       Size\n"
     ]
    },
    {
     "name": "stderr",
     "output_type": "stream",
     "text": [
      "      10/50     0.576G      1.363     0.6821     0.9098        362        256: 100%|██████████| 84/84 [00:05<00:00, 14.48it/s]\n",
      "                 Class     Images  Instances      Box(P          R      mAP50  mAP50-95): 100%|██████████| 42/42 [00:03<00:00, 13.01it/s]"
     ]
    },
    {
     "name": "stdout",
     "output_type": "stream",
     "text": [
      "                   all        670      29475      0.875      0.737       0.79      0.499\n"
     ]
    },
    {
     "name": "stderr",
     "output_type": "stream",
     "text": [
      "\n"
     ]
    },
    {
     "name": "stdout",
     "output_type": "stream",
     "text": [
      "\n",
      "      Epoch    GPU_mem   box_loss   cls_loss   dfl_loss  Instances       Size\n"
     ]
    },
    {
     "name": "stderr",
     "output_type": "stream",
     "text": [
      "      11/50      0.58G      1.304     0.6847     0.9069        175        256: 100%|██████████| 84/84 [00:05<00:00, 14.73it/s]\n",
      "                 Class     Images  Instances      Box(P          R      mAP50  mAP50-95): 100%|██████████| 42/42 [00:03<00:00, 12.33it/s]\n"
     ]
    },
    {
     "name": "stdout",
     "output_type": "stream",
     "text": [
      "                   all        670      29475      0.876       0.74      0.787        0.5\n",
      "\n",
      "      Epoch    GPU_mem   box_loss   cls_loss   dfl_loss  Instances       Size\n"
     ]
    },
    {
     "name": "stderr",
     "output_type": "stream",
     "text": [
      "      12/50      0.58G      1.329      0.672     0.9078        525        256: 100%|██████████| 84/84 [00:05<00:00, 14.60it/s]\n",
      "                 Class     Images  Instances      Box(P          R      mAP50  mAP50-95): 100%|██████████| 42/42 [00:03<00:00, 12.54it/s]"
     ]
    },
    {
     "name": "stdout",
     "output_type": "stream",
     "text": [
      "                   all        670      29475      0.889      0.747      0.795      0.508\n"
     ]
    },
    {
     "name": "stderr",
     "output_type": "stream",
     "text": [
      "\n"
     ]
    },
    {
     "name": "stdout",
     "output_type": "stream",
     "text": [
      "\n",
      "      Epoch    GPU_mem   box_loss   cls_loss   dfl_loss  Instances       Size\n"
     ]
    },
    {
     "name": "stderr",
     "output_type": "stream",
     "text": [
      "      13/50      0.58G       1.29     0.6521     0.9025        734        256: 100%|██████████| 84/84 [00:05<00:00, 14.96it/s]\n",
      "                 Class     Images  Instances      Box(P          R      mAP50  mAP50-95): 100%|██████████| 42/42 [00:03<00:00, 12.94it/s]\n"
     ]
    },
    {
     "name": "stdout",
     "output_type": "stream",
     "text": [
      "                   all        670      29475      0.883      0.746      0.806      0.513\n",
      "\n",
      "      Epoch    GPU_mem   box_loss   cls_loss   dfl_loss  Instances       Size\n"
     ]
    },
    {
     "name": "stderr",
     "output_type": "stream",
     "text": [
      "      14/50      0.58G      1.288     0.6486     0.9013        355        256: 100%|██████████| 84/84 [00:05<00:00, 14.63it/s]\n",
      "                 Class     Images  Instances      Box(P          R      mAP50  mAP50-95): 100%|██████████| 42/42 [00:03<00:00, 12.58it/s]"
     ]
    },
    {
     "name": "stdout",
     "output_type": "stream",
     "text": [
      "                   all        670      29475      0.895      0.749      0.808      0.526\n"
     ]
    },
    {
     "name": "stderr",
     "output_type": "stream",
     "text": [
      "\n"
     ]
    },
    {
     "name": "stdout",
     "output_type": "stream",
     "text": [
      "\n",
      "      Epoch    GPU_mem   box_loss   cls_loss   dfl_loss  Instances       Size\n"
     ]
    },
    {
     "name": "stderr",
     "output_type": "stream",
     "text": [
      "      15/50      0.58G      1.286     0.6375     0.9032        439        256: 100%|██████████| 84/84 [00:05<00:00, 15.07it/s]\n",
      "                 Class     Images  Instances      Box(P          R      mAP50  mAP50-95): 100%|██████████| 42/42 [00:03<00:00, 12.96it/s]"
     ]
    },
    {
     "name": "stdout",
     "output_type": "stream",
     "text": [
      "                   all        670      29475      0.893      0.748      0.808      0.518\n"
     ]
    },
    {
     "name": "stderr",
     "output_type": "stream",
     "text": [
      "\n"
     ]
    },
    {
     "name": "stdout",
     "output_type": "stream",
     "text": [
      "\n",
      "      Epoch    GPU_mem   box_loss   cls_loss   dfl_loss  Instances       Size\n"
     ]
    },
    {
     "name": "stderr",
     "output_type": "stream",
     "text": [
      "      16/50      0.58G       1.29     0.6388      0.897        313        256: 100%|██████████| 84/84 [00:05<00:00, 14.94it/s]\n",
      "                 Class     Images  Instances      Box(P          R      mAP50  mAP50-95): 100%|██████████| 42/42 [00:03<00:00, 13.06it/s]"
     ]
    },
    {
     "name": "stdout",
     "output_type": "stream",
     "text": [
      "                   all        670      29475      0.875      0.744      0.802      0.512\n"
     ]
    },
    {
     "name": "stderr",
     "output_type": "stream",
     "text": [
      "\n"
     ]
    },
    {
     "name": "stdout",
     "output_type": "stream",
     "text": [
      "\n",
      "      Epoch    GPU_mem   box_loss   cls_loss   dfl_loss  Instances       Size\n"
     ]
    },
    {
     "name": "stderr",
     "output_type": "stream",
     "text": [
      "      17/50      0.58G      1.242     0.6212     0.8993        243        256: 100%|██████████| 84/84 [00:05<00:00, 14.67it/s]\n",
      "                 Class     Images  Instances      Box(P          R      mAP50  mAP50-95): 100%|██████████| 42/42 [00:03<00:00, 11.99it/s]"
     ]
    },
    {
     "name": "stdout",
     "output_type": "stream",
     "text": [
      "                   all        670      29475      0.891      0.748      0.805      0.528\n"
     ]
    },
    {
     "name": "stderr",
     "output_type": "stream",
     "text": [
      "\n"
     ]
    },
    {
     "name": "stdout",
     "output_type": "stream",
     "text": [
      "\n",
      "      Epoch    GPU_mem   box_loss   cls_loss   dfl_loss  Instances       Size\n"
     ]
    },
    {
     "name": "stderr",
     "output_type": "stream",
     "text": [
      "      18/50      0.58G      1.292     0.6251     0.8997        377        256: 100%|██████████| 84/84 [00:05<00:00, 14.89it/s]\n",
      "                 Class     Images  Instances      Box(P          R      mAP50  mAP50-95): 100%|██████████| 42/42 [00:03<00:00, 12.98it/s]"
     ]
    },
    {
     "name": "stdout",
     "output_type": "stream",
     "text": [
      "                   all        670      29475      0.888      0.746      0.809      0.527\n"
     ]
    },
    {
     "name": "stderr",
     "output_type": "stream",
     "text": [
      "\n"
     ]
    },
    {
     "name": "stdout",
     "output_type": "stream",
     "text": [
      "\n",
      "      Epoch    GPU_mem   box_loss   cls_loss   dfl_loss  Instances       Size\n"
     ]
    },
    {
     "name": "stderr",
     "output_type": "stream",
     "text": [
      "      19/50      0.58G      1.276     0.6272     0.8955        345        256: 100%|██████████| 84/84 [00:05<00:00, 14.91it/s]\n",
      "                 Class     Images  Instances      Box(P          R      mAP50  mAP50-95): 100%|██████████| 42/42 [00:03<00:00, 13.12it/s]"
     ]
    },
    {
     "name": "stdout",
     "output_type": "stream",
     "text": [
      "                   all        670      29475      0.891      0.752      0.817      0.532\n"
     ]
    },
    {
     "name": "stderr",
     "output_type": "stream",
     "text": [
      "\n"
     ]
    },
    {
     "name": "stdout",
     "output_type": "stream",
     "text": [
      "\n",
      "      Epoch    GPU_mem   box_loss   cls_loss   dfl_loss  Instances       Size\n"
     ]
    },
    {
     "name": "stderr",
     "output_type": "stream",
     "text": [
      "      20/50      0.58G      1.272     0.6314     0.8999        142        256: 100%|██████████| 84/84 [00:05<00:00, 15.02it/s]\n",
      "                 Class     Images  Instances      Box(P          R      mAP50  mAP50-95): 100%|██████████| 42/42 [00:03<00:00, 13.30it/s]"
     ]
    },
    {
     "name": "stdout",
     "output_type": "stream",
     "text": [
      "                   all        670      29475      0.895      0.745      0.814      0.533\n"
     ]
    },
    {
     "name": "stderr",
     "output_type": "stream",
     "text": [
      "\n"
     ]
    },
    {
     "name": "stdout",
     "output_type": "stream",
     "text": [
      "\n",
      "      Epoch    GPU_mem   box_loss   cls_loss   dfl_loss  Instances       Size\n"
     ]
    },
    {
     "name": "stderr",
     "output_type": "stream",
     "text": [
      "      21/50      0.58G      1.235     0.6089     0.8933        341        256: 100%|██████████| 84/84 [00:05<00:00, 15.11it/s]\n",
      "                 Class     Images  Instances      Box(P          R      mAP50  mAP50-95): 100%|██████████| 42/42 [00:03<00:00, 13.01it/s]"
     ]
    },
    {
     "name": "stdout",
     "output_type": "stream",
     "text": [
      "                   all        670      29475      0.896      0.756      0.808      0.531\n"
     ]
    },
    {
     "name": "stderr",
     "output_type": "stream",
     "text": [
      "\n"
     ]
    },
    {
     "name": "stdout",
     "output_type": "stream",
     "text": [
      "\n",
      "      Epoch    GPU_mem   box_loss   cls_loss   dfl_loss  Instances       Size\n"
     ]
    },
    {
     "name": "stderr",
     "output_type": "stream",
     "text": [
      "      22/50      0.58G      1.231      0.602     0.8938        296        256: 100%|██████████| 84/84 [00:05<00:00, 15.15it/s]\n",
      "                 Class     Images  Instances      Box(P          R      mAP50  mAP50-95): 100%|██████████| 42/42 [00:03<00:00, 13.12it/s]\n"
     ]
    },
    {
     "name": "stdout",
     "output_type": "stream",
     "text": [
      "                   all        670      29475      0.898      0.756      0.819      0.537\n",
      "\n",
      "      Epoch    GPU_mem   box_loss   cls_loss   dfl_loss  Instances       Size\n"
     ]
    },
    {
     "name": "stderr",
     "output_type": "stream",
     "text": [
      "      23/50      0.58G      1.223      0.597     0.8872        295        256: 100%|██████████| 84/84 [00:05<00:00, 15.16it/s]\n",
      "                 Class     Images  Instances      Box(P          R      mAP50  mAP50-95): 100%|██████████| 42/42 [00:03<00:00, 12.89it/s]"
     ]
    },
    {
     "name": "stdout",
     "output_type": "stream",
     "text": [
      "                   all        670      29475      0.893      0.758      0.813      0.533\n"
     ]
    },
    {
     "name": "stderr",
     "output_type": "stream",
     "text": [
      "\n"
     ]
    },
    {
     "name": "stdout",
     "output_type": "stream",
     "text": [
      "\n",
      "      Epoch    GPU_mem   box_loss   cls_loss   dfl_loss  Instances       Size\n"
     ]
    },
    {
     "name": "stderr",
     "output_type": "stream",
     "text": [
      "      24/50      0.58G      1.266     0.6122     0.8936        354        256: 100%|██████████| 84/84 [00:05<00:00, 15.05it/s]\n",
      "                 Class     Images  Instances      Box(P          R      mAP50  mAP50-95): 100%|██████████| 42/42 [00:03<00:00, 12.61it/s]"
     ]
    },
    {
     "name": "stdout",
     "output_type": "stream",
     "text": [
      "                   all        670      29475        0.9      0.748      0.815       0.53\n"
     ]
    },
    {
     "name": "stderr",
     "output_type": "stream",
     "text": [
      "\n"
     ]
    },
    {
     "name": "stdout",
     "output_type": "stream",
     "text": [
      "\n",
      "      Epoch    GPU_mem   box_loss   cls_loss   dfl_loss  Instances       Size\n"
     ]
    },
    {
     "name": "stderr",
     "output_type": "stream",
     "text": [
      "      25/50      0.58G      1.229     0.5925     0.8879        426        256: 100%|██████████| 84/84 [00:05<00:00, 14.74it/s]\n",
      "                 Class     Images  Instances      Box(P          R      mAP50  mAP50-95): 100%|██████████| 42/42 [00:03<00:00, 13.30it/s]"
     ]
    },
    {
     "name": "stdout",
     "output_type": "stream",
     "text": [
      "                   all        670      29475      0.892      0.759      0.824      0.542\n"
     ]
    },
    {
     "name": "stderr",
     "output_type": "stream",
     "text": [
      "\n"
     ]
    },
    {
     "name": "stdout",
     "output_type": "stream",
     "text": [
      "\n",
      "      Epoch    GPU_mem   box_loss   cls_loss   dfl_loss  Instances       Size\n"
     ]
    },
    {
     "name": "stderr",
     "output_type": "stream",
     "text": [
      "      26/50      0.58G      1.221      0.599     0.8879        294        256: 100%|██████████| 84/84 [00:05<00:00, 14.80it/s]\n",
      "                 Class     Images  Instances      Box(P          R      mAP50  mAP50-95): 100%|██████████| 42/42 [00:03<00:00, 13.39it/s]"
     ]
    },
    {
     "name": "stdout",
     "output_type": "stream",
     "text": [
      "                   all        670      29475      0.901      0.755      0.822      0.554\n"
     ]
    },
    {
     "name": "stderr",
     "output_type": "stream",
     "text": [
      "\n"
     ]
    },
    {
     "name": "stdout",
     "output_type": "stream",
     "text": [
      "\n",
      "      Epoch    GPU_mem   box_loss   cls_loss   dfl_loss  Instances       Size\n"
     ]
    },
    {
     "name": "stderr",
     "output_type": "stream",
     "text": [
      "      27/50      0.58G      1.206     0.5853     0.8873        387        256: 100%|██████████| 84/84 [00:05<00:00, 14.99it/s]\n",
      "                 Class     Images  Instances      Box(P          R      mAP50  mAP50-95): 100%|██████████| 42/42 [00:03<00:00, 13.23it/s]"
     ]
    },
    {
     "name": "stdout",
     "output_type": "stream",
     "text": [
      "                   all        670      29475        0.9      0.755      0.819      0.551\n"
     ]
    },
    {
     "name": "stderr",
     "output_type": "stream",
     "text": [
      "\n"
     ]
    },
    {
     "name": "stdout",
     "output_type": "stream",
     "text": [
      "\n",
      "      Epoch    GPU_mem   box_loss   cls_loss   dfl_loss  Instances       Size\n"
     ]
    },
    {
     "name": "stderr",
     "output_type": "stream",
     "text": [
      "      28/50      0.58G      1.214     0.5908     0.8889        337        256: 100%|██████████| 84/84 [00:05<00:00, 15.00it/s]\n",
      "                 Class     Images  Instances      Box(P          R      mAP50  mAP50-95): 100%|██████████| 42/42 [00:03<00:00, 13.46it/s]"
     ]
    },
    {
     "name": "stdout",
     "output_type": "stream",
     "text": [
      "                   all        670      29475      0.892      0.752      0.823      0.551\n"
     ]
    },
    {
     "name": "stderr",
     "output_type": "stream",
     "text": [
      "\n"
     ]
    },
    {
     "name": "stdout",
     "output_type": "stream",
     "text": [
      "\n",
      "      Epoch    GPU_mem   box_loss   cls_loss   dfl_loss  Instances       Size\n"
     ]
    },
    {
     "name": "stderr",
     "output_type": "stream",
     "text": [
      "      29/50      0.58G      1.168     0.5743     0.8845        379        256: 100%|██████████| 84/84 [00:05<00:00, 14.79it/s]\n",
      "                 Class     Images  Instances      Box(P          R      mAP50  mAP50-95): 100%|██████████| 42/42 [00:03<00:00, 13.01it/s]"
     ]
    },
    {
     "name": "stdout",
     "output_type": "stream",
     "text": [
      "                   all        670      29475      0.899      0.759      0.825      0.553\n"
     ]
    },
    {
     "name": "stderr",
     "output_type": "stream",
     "text": [
      "\n"
     ]
    },
    {
     "name": "stdout",
     "output_type": "stream",
     "text": [
      "\n",
      "      Epoch    GPU_mem   box_loss   cls_loss   dfl_loss  Instances       Size\n"
     ]
    },
    {
     "name": "stderr",
     "output_type": "stream",
     "text": [
      "      30/50      0.58G      1.198     0.5908     0.8929        315        256: 100%|██████████| 84/84 [00:05<00:00, 15.01it/s]\n",
      "                 Class     Images  Instances      Box(P          R      mAP50  mAP50-95): 100%|██████████| 42/42 [00:03<00:00, 13.08it/s]"
     ]
    },
    {
     "name": "stdout",
     "output_type": "stream",
     "text": [
      "                   all        670      29475      0.903      0.764      0.822      0.556\n"
     ]
    },
    {
     "name": "stderr",
     "output_type": "stream",
     "text": [
      "\n"
     ]
    },
    {
     "name": "stdout",
     "output_type": "stream",
     "text": [
      "\n",
      "      Epoch    GPU_mem   box_loss   cls_loss   dfl_loss  Instances       Size\n"
     ]
    },
    {
     "name": "stderr",
     "output_type": "stream",
     "text": [
      "      31/50      0.58G      1.195     0.5808      0.886        203        256: 100%|██████████| 84/84 [00:05<00:00, 15.05it/s]\n",
      "                 Class     Images  Instances      Box(P          R      mAP50  mAP50-95): 100%|██████████| 42/42 [00:03<00:00, 13.14it/s]"
     ]
    },
    {
     "name": "stdout",
     "output_type": "stream",
     "text": [
      "                   all        670      29475      0.904      0.766      0.834      0.567\n"
     ]
    },
    {
     "name": "stderr",
     "output_type": "stream",
     "text": [
      "\n"
     ]
    },
    {
     "name": "stdout",
     "output_type": "stream",
     "text": [
      "\n",
      "      Epoch    GPU_mem   box_loss   cls_loss   dfl_loss  Instances       Size\n"
     ]
    },
    {
     "name": "stderr",
     "output_type": "stream",
     "text": [
      "      32/50      0.58G      1.186     0.5789     0.8821        390        256: 100%|██████████| 84/84 [00:05<00:00, 15.33it/s]\n",
      "                 Class     Images  Instances      Box(P          R      mAP50  mAP50-95): 100%|██████████| 42/42 [00:03<00:00, 13.30it/s]"
     ]
    },
    {
     "name": "stdout",
     "output_type": "stream",
     "text": [
      "                   all        670      29475      0.901      0.763      0.825       0.55\n"
     ]
    },
    {
     "name": "stderr",
     "output_type": "stream",
     "text": [
      "\n"
     ]
    },
    {
     "name": "stdout",
     "output_type": "stream",
     "text": [
      "\n",
      "      Epoch    GPU_mem   box_loss   cls_loss   dfl_loss  Instances       Size\n"
     ]
    },
    {
     "name": "stderr",
     "output_type": "stream",
     "text": [
      "      33/50      0.58G      1.192     0.5817     0.8888        478        256: 100%|██████████| 84/84 [00:05<00:00, 15.01it/s]\n",
      "                 Class     Images  Instances      Box(P          R      mAP50  mAP50-95): 100%|██████████| 42/42 [00:03<00:00, 13.48it/s]"
     ]
    },
    {
     "name": "stdout",
     "output_type": "stream",
     "text": [
      "                   all        670      29475      0.904      0.763      0.831      0.566\n"
     ]
    },
    {
     "name": "stderr",
     "output_type": "stream",
     "text": [
      "\n"
     ]
    },
    {
     "name": "stdout",
     "output_type": "stream",
     "text": [
      "\n",
      "      Epoch    GPU_mem   box_loss   cls_loss   dfl_loss  Instances       Size\n"
     ]
    },
    {
     "name": "stderr",
     "output_type": "stream",
     "text": [
      "      34/50      0.58G      1.152     0.5631     0.8834        206        256: 100%|██████████| 84/84 [00:05<00:00, 15.26it/s]\n",
      "                 Class     Images  Instances      Box(P          R      mAP50  mAP50-95): 100%|██████████| 42/42 [00:03<00:00, 13.34it/s]"
     ]
    },
    {
     "name": "stdout",
     "output_type": "stream",
     "text": [
      "                   all        670      29475      0.903      0.768      0.827       0.56\n"
     ]
    },
    {
     "name": "stderr",
     "output_type": "stream",
     "text": [
      "\n"
     ]
    },
    {
     "name": "stdout",
     "output_type": "stream",
     "text": [
      "\n",
      "      Epoch    GPU_mem   box_loss   cls_loss   dfl_loss  Instances       Size\n"
     ]
    },
    {
     "name": "stderr",
     "output_type": "stream",
     "text": [
      "      35/50      0.58G      1.214     0.5803     0.8837        232        256: 100%|██████████| 84/84 [00:05<00:00, 15.04it/s]\n",
      "                 Class     Images  Instances      Box(P          R      mAP50  mAP50-95): 100%|██████████| 42/42 [00:03<00:00, 13.50it/s]"
     ]
    },
    {
     "name": "stdout",
     "output_type": "stream",
     "text": [
      "                   all        670      29475      0.902      0.767      0.828      0.561\n"
     ]
    },
    {
     "name": "stderr",
     "output_type": "stream",
     "text": [
      "\n"
     ]
    },
    {
     "name": "stdout",
     "output_type": "stream",
     "text": [
      "\n",
      "      Epoch    GPU_mem   box_loss   cls_loss   dfl_loss  Instances       Size\n"
     ]
    },
    {
     "name": "stderr",
     "output_type": "stream",
     "text": [
      "      36/50      0.58G      1.201     0.5852     0.8921        376        256: 100%|██████████| 84/84 [00:05<00:00, 15.11it/s]\n",
      "                 Class     Images  Instances      Box(P          R      mAP50  mAP50-95): 100%|██████████| 42/42 [00:03<00:00, 13.52it/s]"
     ]
    },
    {
     "name": "stdout",
     "output_type": "stream",
     "text": [
      "                   all        670      29475      0.904      0.771      0.833      0.568\n"
     ]
    },
    {
     "name": "stderr",
     "output_type": "stream",
     "text": [
      "\n"
     ]
    },
    {
     "name": "stdout",
     "output_type": "stream",
     "text": [
      "\n",
      "      Epoch    GPU_mem   box_loss   cls_loss   dfl_loss  Instances       Size\n"
     ]
    },
    {
     "name": "stderr",
     "output_type": "stream",
     "text": [
      "      37/50      0.58G      1.192     0.5738     0.8874        284        256: 100%|██████████| 84/84 [00:05<00:00, 15.04it/s]\n",
      "                 Class     Images  Instances      Box(P          R      mAP50  mAP50-95): 100%|██████████| 42/42 [00:03<00:00, 13.47it/s]"
     ]
    },
    {
     "name": "stdout",
     "output_type": "stream",
     "text": [
      "                   all        670      29475      0.907      0.768       0.83      0.568\n"
     ]
    },
    {
     "name": "stderr",
     "output_type": "stream",
     "text": [
      "\n"
     ]
    },
    {
     "name": "stdout",
     "output_type": "stream",
     "text": [
      "\n",
      "      Epoch    GPU_mem   box_loss   cls_loss   dfl_loss  Instances       Size\n"
     ]
    },
    {
     "name": "stderr",
     "output_type": "stream",
     "text": [
      "      38/50      0.58G      1.153     0.5573     0.8778        361        256: 100%|██████████| 84/84 [00:05<00:00, 14.98it/s]\n",
      "                 Class     Images  Instances      Box(P          R      mAP50  mAP50-95): 100%|██████████| 42/42 [00:03<00:00, 13.43it/s]"
     ]
    },
    {
     "name": "stdout",
     "output_type": "stream",
     "text": [
      "                   all        670      29475      0.906      0.769      0.835      0.565\n"
     ]
    },
    {
     "name": "stderr",
     "output_type": "stream",
     "text": [
      "\n"
     ]
    },
    {
     "name": "stdout",
     "output_type": "stream",
     "text": [
      "\n",
      "      Epoch    GPU_mem   box_loss   cls_loss   dfl_loss  Instances       Size\n"
     ]
    },
    {
     "name": "stderr",
     "output_type": "stream",
     "text": [
      "      39/50      0.58G       1.17     0.5708     0.8825        291        256: 100%|██████████| 84/84 [00:05<00:00, 14.82it/s]\n",
      "                 Class     Images  Instances      Box(P          R      mAP50  mAP50-95): 100%|██████████| 42/42 [00:03<00:00, 13.40it/s]"
     ]
    },
    {
     "name": "stdout",
     "output_type": "stream",
     "text": [
      "                   all        670      29475      0.904      0.778      0.833      0.569\n"
     ]
    },
    {
     "name": "stderr",
     "output_type": "stream",
     "text": [
      "\n"
     ]
    },
    {
     "name": "stdout",
     "output_type": "stream",
     "text": [
      "\n",
      "      Epoch    GPU_mem   box_loss   cls_loss   dfl_loss  Instances       Size\n"
     ]
    },
    {
     "name": "stderr",
     "output_type": "stream",
     "text": [
      "      40/50      0.58G      1.152     0.5694     0.8844        253        256: 100%|██████████| 84/84 [00:05<00:00, 15.05it/s]\n",
      "                 Class     Images  Instances      Box(P          R      mAP50  mAP50-95): 100%|██████████| 42/42 [00:03<00:00, 13.47it/s]"
     ]
    },
    {
     "name": "stdout",
     "output_type": "stream",
     "text": [
      "                   all        670      29475      0.905      0.769      0.831      0.568\n"
     ]
    },
    {
     "name": "stderr",
     "output_type": "stream",
     "text": [
      "\n"
     ]
    },
    {
     "name": "stdout",
     "output_type": "stream",
     "text": [
      "Closing dataloader mosaic\n"
     ]
    },
    {
     "name": "stderr",
     "output_type": "stream",
     "text": [
      "/home/hnguye24/.conda/envs/yolo6/lib/python3.10/site-packages/torch/utils/data/dataloader.py:617: UserWarning: This DataLoader will create 8 worker processes in total. Our suggested max number of worker in current system is 4, which is smaller than what this DataLoader is going to create. Please be aware that excessive worker creation might get DataLoader running slow or even freeze, lower the worker number to avoid potential slowness/freeze if necessary.\n",
      "  warnings.warn(\n"
     ]
    },
    {
     "name": "stdout",
     "output_type": "stream",
     "text": [
      "\n",
      "      Epoch    GPU_mem   box_loss   cls_loss   dfl_loss  Instances       Size\n"
     ]
    },
    {
     "name": "stderr",
     "output_type": "stream",
     "text": [
      "      41/50      0.58G      1.115       0.57     0.8817        224        256: 100%|██████████| 84/84 [00:05<00:00, 14.67it/s]\n",
      "                 Class     Images  Instances      Box(P          R      mAP50  mAP50-95): 100%|██████████| 42/42 [00:03<00:00, 13.36it/s]\n"
     ]
    },
    {
     "name": "stdout",
     "output_type": "stream",
     "text": [
      "                   all        670      29475      0.904      0.771      0.828      0.561\n",
      "\n",
      "      Epoch    GPU_mem   box_loss   cls_loss   dfl_loss  Instances       Size\n"
     ]
    },
    {
     "name": "stderr",
     "output_type": "stream",
     "text": [
      "      42/50      0.58G      1.131     0.5777     0.8817         89        256: 100%|██████████| 84/84 [00:05<00:00, 15.20it/s]\n",
      "                 Class     Images  Instances      Box(P          R      mAP50  mAP50-95): 100%|██████████| 42/42 [00:03<00:00, 13.18it/s]"
     ]
    },
    {
     "name": "stdout",
     "output_type": "stream",
     "text": [
      "                   all        670      29475      0.902      0.768      0.828      0.566\n"
     ]
    },
    {
     "name": "stderr",
     "output_type": "stream",
     "text": [
      "\n"
     ]
    },
    {
     "name": "stdout",
     "output_type": "stream",
     "text": [
      "\n",
      "      Epoch    GPU_mem   box_loss   cls_loss   dfl_loss  Instances       Size\n"
     ]
    },
    {
     "name": "stderr",
     "output_type": "stream",
     "text": [
      "      43/50      0.58G      1.116     0.5666     0.8749        228        256: 100%|██████████| 84/84 [00:05<00:00, 15.27it/s]\n",
      "                 Class     Images  Instances      Box(P          R      mAP50  mAP50-95): 100%|██████████| 42/42 [00:03<00:00, 13.50it/s]"
     ]
    },
    {
     "name": "stdout",
     "output_type": "stream",
     "text": [
      "                   all        670      29475      0.903      0.772       0.83      0.567\n"
     ]
    },
    {
     "name": "stderr",
     "output_type": "stream",
     "text": [
      "\n"
     ]
    },
    {
     "name": "stdout",
     "output_type": "stream",
     "text": [
      "\n",
      "      Epoch    GPU_mem   box_loss   cls_loss   dfl_loss  Instances       Size\n"
     ]
    },
    {
     "name": "stderr",
     "output_type": "stream",
     "text": [
      "      44/50      0.58G      1.127      0.568     0.8822         89        256: 100%|██████████| 84/84 [00:05<00:00, 15.25it/s]\n",
      "                 Class     Images  Instances      Box(P          R      mAP50  mAP50-95): 100%|██████████| 42/42 [00:03<00:00, 13.48it/s]"
     ]
    },
    {
     "name": "stdout",
     "output_type": "stream",
     "text": [
      "                   all        670      29475        0.9      0.775      0.831       0.56\n"
     ]
    },
    {
     "name": "stderr",
     "output_type": "stream",
     "text": [
      "\n"
     ]
    },
    {
     "name": "stdout",
     "output_type": "stream",
     "text": [
      "\n",
      "      Epoch    GPU_mem   box_loss   cls_loss   dfl_loss  Instances       Size\n"
     ]
    },
    {
     "name": "stderr",
     "output_type": "stream",
     "text": [
      "      45/50      0.58G      1.117     0.5674     0.8831         91        256: 100%|██████████| 84/84 [00:05<00:00, 15.15it/s]\n",
      "                 Class     Images  Instances      Box(P          R      mAP50  mAP50-95): 100%|██████████| 42/42 [00:03<00:00, 13.27it/s]"
     ]
    },
    {
     "name": "stdout",
     "output_type": "stream",
     "text": [
      "                   all        670      29475      0.905      0.775      0.832       0.57\n"
     ]
    },
    {
     "name": "stderr",
     "output_type": "stream",
     "text": [
      "\n"
     ]
    },
    {
     "name": "stdout",
     "output_type": "stream",
     "text": [
      "\n",
      "      Epoch    GPU_mem   box_loss   cls_loss   dfl_loss  Instances       Size\n"
     ]
    },
    {
     "name": "stderr",
     "output_type": "stream",
     "text": [
      "      46/50      0.58G        1.1     0.5559     0.8795        181        256: 100%|██████████| 84/84 [00:05<00:00, 15.02it/s]\n",
      "                 Class     Images  Instances      Box(P          R      mAP50  mAP50-95): 100%|██████████| 42/42 [00:03<00:00, 13.43it/s]"
     ]
    },
    {
     "name": "stdout",
     "output_type": "stream",
     "text": [
      "                   all        670      29475      0.905      0.773      0.835      0.578\n"
     ]
    },
    {
     "name": "stderr",
     "output_type": "stream",
     "text": [
      "\n"
     ]
    },
    {
     "name": "stdout",
     "output_type": "stream",
     "text": [
      "\n",
      "      Epoch    GPU_mem   box_loss   cls_loss   dfl_loss  Instances       Size\n"
     ]
    },
    {
     "name": "stderr",
     "output_type": "stream",
     "text": [
      "      47/50      0.58G      1.101     0.5512     0.8776        110        256: 100%|██████████| 84/84 [00:05<00:00, 14.74it/s]\n",
      "                 Class     Images  Instances      Box(P          R      mAP50  mAP50-95): 100%|██████████| 42/42 [00:03<00:00, 13.25it/s]"
     ]
    },
    {
     "name": "stdout",
     "output_type": "stream",
     "text": [
      "                   all        670      29475      0.908      0.771      0.835      0.579\n"
     ]
    },
    {
     "name": "stderr",
     "output_type": "stream",
     "text": [
      "\n"
     ]
    },
    {
     "name": "stdout",
     "output_type": "stream",
     "text": [
      "\n",
      "      Epoch    GPU_mem   box_loss   cls_loss   dfl_loss  Instances       Size\n"
     ]
    },
    {
     "name": "stderr",
     "output_type": "stream",
     "text": [
      "      48/50      0.58G      1.089     0.5499     0.8797        442        256: 100%|██████████| 84/84 [00:05<00:00, 14.92it/s]\n",
      "                 Class     Images  Instances      Box(P          R      mAP50  mAP50-95): 100%|██████████| 42/42 [00:03<00:00, 13.45it/s]"
     ]
    },
    {
     "name": "stdout",
     "output_type": "stream",
     "text": [
      "                   all        670      29475      0.909       0.77      0.835       0.58\n"
     ]
    },
    {
     "name": "stderr",
     "output_type": "stream",
     "text": [
      "\n"
     ]
    },
    {
     "name": "stdout",
     "output_type": "stream",
     "text": [
      "\n",
      "      Epoch    GPU_mem   box_loss   cls_loss   dfl_loss  Instances       Size\n"
     ]
    },
    {
     "name": "stderr",
     "output_type": "stream",
     "text": [
      "      49/50      0.58G      1.087     0.5482       0.87        205        256: 100%|██████████| 84/84 [00:05<00:00, 15.09it/s]\n",
      "                 Class     Images  Instances      Box(P          R      mAP50  mAP50-95): 100%|██████████| 42/42 [00:03<00:00, 13.33it/s]\n"
     ]
    },
    {
     "name": "stdout",
     "output_type": "stream",
     "text": [
      "                   all        670      29475      0.909      0.773      0.835      0.581\n",
      "\n",
      "      Epoch    GPU_mem   box_loss   cls_loss   dfl_loss  Instances       Size\n"
     ]
    },
    {
     "name": "stderr",
     "output_type": "stream",
     "text": [
      "      50/50      0.58G      1.082     0.5446     0.8759        124        256: 100%|██████████| 84/84 [00:05<00:00, 14.89it/s]\n",
      "                 Class     Images  Instances      Box(P          R      mAP50  mAP50-95): 100%|██████████| 42/42 [00:03<00:00, 13.76it/s]"
     ]
    },
    {
     "name": "stdout",
     "output_type": "stream",
     "text": [
      "                   all        670      29475      0.907      0.771      0.836      0.579\n"
     ]
    },
    {
     "name": "stderr",
     "output_type": "stream",
     "text": [
      "\n"
     ]
    },
    {
     "name": "stdout",
     "output_type": "stream",
     "text": [
      "\n",
      "50 epochs completed in 0.130 hours.\n",
      "Optimizer stripped from runs/detect/train11/weights/last.pt, 6.2MB\n",
      "Optimizer stripped from runs/detect/train11/weights/best.pt, 6.2MB\n",
      "\n",
      "Validating runs/detect/train11/weights/best.pt...\n",
      "Ultralytics 8.3.181 🚀 Python-3.10.18 torch-2.5.1 CUDA:0 (Tesla P100-PCIE-16GB, 16269MiB)\n",
      "Model summary (fused): 72 layers, 3,005,843 parameters, 0 gradients\n"
     ]
    },
    {
     "name": "stderr",
     "output_type": "stream",
     "text": [
      "                 Class     Images  Instances      Box(P          R      mAP50  mAP50-95): 100%|██████████| 42/42 [00:11<00:00,  3.56it/s]\n"
     ]
    },
    {
     "name": "stdout",
     "output_type": "stream",
     "text": [
      "                   all        670      29475      0.909      0.773      0.835      0.581\n",
      "Speed: 0.0ms preprocess, 0.6ms inference, 0.0ms loss, 7.8ms postprocess per image\n",
      "Results saved to \u001b[1mruns/detect/train11\u001b[0m\n"
     ]
    },
    {
     "data": {
      "text/plain": [
       "ultralytics.utils.metrics.DetMetrics object with attributes:\n",
       "\n",
       "ap_class_index: array([0])\n",
       "box: ultralytics.utils.metrics.Metric object\n",
       "confusion_matrix: <ultralytics.utils.metrics.ConfusionMatrix object at 0x2aacba166800>\n",
       "curves: ['Precision-Recall(B)', 'F1-Confidence(B)', 'Precision-Confidence(B)', 'Recall-Confidence(B)']\n",
       "curves_results: [[array([          0,    0.001001,    0.002002,    0.003003,    0.004004,    0.005005,    0.006006,    0.007007,    0.008008,    0.009009,     0.01001,    0.011011,    0.012012,    0.013013,    0.014014,    0.015015,    0.016016,    0.017017,    0.018018,    0.019019,     0.02002,    0.021021,    0.022022,    0.023023,\n",
       "          0.024024,    0.025025,    0.026026,    0.027027,    0.028028,    0.029029,     0.03003,    0.031031,    0.032032,    0.033033,    0.034034,    0.035035,    0.036036,    0.037037,    0.038038,    0.039039,     0.04004,    0.041041,    0.042042,    0.043043,    0.044044,    0.045045,    0.046046,    0.047047,\n",
       "          0.048048,    0.049049,     0.05005,    0.051051,    0.052052,    0.053053,    0.054054,    0.055055,    0.056056,    0.057057,    0.058058,    0.059059,     0.06006,    0.061061,    0.062062,    0.063063,    0.064064,    0.065065,    0.066066,    0.067067,    0.068068,    0.069069,     0.07007,    0.071071,\n",
       "          0.072072,    0.073073,    0.074074,    0.075075,    0.076076,    0.077077,    0.078078,    0.079079,     0.08008,    0.081081,    0.082082,    0.083083,    0.084084,    0.085085,    0.086086,    0.087087,    0.088088,    0.089089,     0.09009,    0.091091,    0.092092,    0.093093,    0.094094,    0.095095,\n",
       "          0.096096,    0.097097,    0.098098,    0.099099,      0.1001,      0.1011,      0.1021,      0.1031,      0.1041,     0.10511,     0.10611,     0.10711,     0.10811,     0.10911,     0.11011,     0.11111,     0.11211,     0.11311,     0.11411,     0.11512,     0.11612,     0.11712,     0.11812,     0.11912,\n",
       "           0.12012,     0.12112,     0.12212,     0.12312,     0.12412,     0.12513,     0.12613,     0.12713,     0.12813,     0.12913,     0.13013,     0.13113,     0.13213,     0.13313,     0.13413,     0.13514,     0.13614,     0.13714,     0.13814,     0.13914,     0.14014,     0.14114,     0.14214,     0.14314,\n",
       "           0.14414,     0.14515,     0.14615,     0.14715,     0.14815,     0.14915,     0.15015,     0.15115,     0.15215,     0.15315,     0.15415,     0.15516,     0.15616,     0.15716,     0.15816,     0.15916,     0.16016,     0.16116,     0.16216,     0.16316,     0.16416,     0.16517,     0.16617,     0.16717,\n",
       "           0.16817,     0.16917,     0.17017,     0.17117,     0.17217,     0.17317,     0.17417,     0.17518,     0.17618,     0.17718,     0.17818,     0.17918,     0.18018,     0.18118,     0.18218,     0.18318,     0.18418,     0.18519,     0.18619,     0.18719,     0.18819,     0.18919,     0.19019,     0.19119,\n",
       "           0.19219,     0.19319,     0.19419,      0.1952,      0.1962,      0.1972,      0.1982,      0.1992,      0.2002,      0.2012,      0.2022,      0.2032,      0.2042,     0.20521,     0.20621,     0.20721,     0.20821,     0.20921,     0.21021,     0.21121,     0.21221,     0.21321,     0.21421,     0.21522,\n",
       "           0.21622,     0.21722,     0.21822,     0.21922,     0.22022,     0.22122,     0.22222,     0.22322,     0.22422,     0.22523,     0.22623,     0.22723,     0.22823,     0.22923,     0.23023,     0.23123,     0.23223,     0.23323,     0.23423,     0.23524,     0.23624,     0.23724,     0.23824,     0.23924,\n",
       "           0.24024,     0.24124,     0.24224,     0.24324,     0.24424,     0.24525,     0.24625,     0.24725,     0.24825,     0.24925,     0.25025,     0.25125,     0.25225,     0.25325,     0.25425,     0.25526,     0.25626,     0.25726,     0.25826,     0.25926,     0.26026,     0.26126,     0.26226,     0.26326,\n",
       "           0.26426,     0.26527,     0.26627,     0.26727,     0.26827,     0.26927,     0.27027,     0.27127,     0.27227,     0.27327,     0.27427,     0.27528,     0.27628,     0.27728,     0.27828,     0.27928,     0.28028,     0.28128,     0.28228,     0.28328,     0.28428,     0.28529,     0.28629,     0.28729,\n",
       "           0.28829,     0.28929,     0.29029,     0.29129,     0.29229,     0.29329,     0.29429,      0.2953,      0.2963,      0.2973,      0.2983,      0.2993,      0.3003,      0.3013,      0.3023,      0.3033,      0.3043,     0.30531,     0.30631,     0.30731,     0.30831,     0.30931,     0.31031,     0.31131,\n",
       "           0.31231,     0.31331,     0.31431,     0.31532,     0.31632,     0.31732,     0.31832,     0.31932,     0.32032,     0.32132,     0.32232,     0.32332,     0.32432,     0.32533,     0.32633,     0.32733,     0.32833,     0.32933,     0.33033,     0.33133,     0.33233,     0.33333,     0.33433,     0.33534,\n",
       "           0.33634,     0.33734,     0.33834,     0.33934,     0.34034,     0.34134,     0.34234,     0.34334,     0.34434,     0.34535,     0.34635,     0.34735,     0.34835,     0.34935,     0.35035,     0.35135,     0.35235,     0.35335,     0.35435,     0.35536,     0.35636,     0.35736,     0.35836,     0.35936,\n",
       "           0.36036,     0.36136,     0.36236,     0.36336,     0.36436,     0.36537,     0.36637,     0.36737,     0.36837,     0.36937,     0.37037,     0.37137,     0.37237,     0.37337,     0.37437,     0.37538,     0.37638,     0.37738,     0.37838,     0.37938,     0.38038,     0.38138,     0.38238,     0.38338,\n",
       "           0.38438,     0.38539,     0.38639,     0.38739,     0.38839,     0.38939,     0.39039,     0.39139,     0.39239,     0.39339,     0.39439,      0.3954,      0.3964,      0.3974,      0.3984,      0.3994,      0.4004,      0.4014,      0.4024,      0.4034,      0.4044,     0.40541,     0.40641,     0.40741,\n",
       "           0.40841,     0.40941,     0.41041,     0.41141,     0.41241,     0.41341,     0.41441,     0.41542,     0.41642,     0.41742,     0.41842,     0.41942,     0.42042,     0.42142,     0.42242,     0.42342,     0.42442,     0.42543,     0.42643,     0.42743,     0.42843,     0.42943,     0.43043,     0.43143,\n",
       "           0.43243,     0.43343,     0.43443,     0.43544,     0.43644,     0.43744,     0.43844,     0.43944,     0.44044,     0.44144,     0.44244,     0.44344,     0.44444,     0.44545,     0.44645,     0.44745,     0.44845,     0.44945,     0.45045,     0.45145,     0.45245,     0.45345,     0.45445,     0.45546,\n",
       "           0.45646,     0.45746,     0.45846,     0.45946,     0.46046,     0.46146,     0.46246,     0.46346,     0.46446,     0.46547,     0.46647,     0.46747,     0.46847,     0.46947,     0.47047,     0.47147,     0.47247,     0.47347,     0.47447,     0.47548,     0.47648,     0.47748,     0.47848,     0.47948,\n",
       "           0.48048,     0.48148,     0.48248,     0.48348,     0.48448,     0.48549,     0.48649,     0.48749,     0.48849,     0.48949,     0.49049,     0.49149,     0.49249,     0.49349,     0.49449,      0.4955,      0.4965,      0.4975,      0.4985,      0.4995,      0.5005,      0.5015,      0.5025,      0.5035,\n",
       "            0.5045,     0.50551,     0.50651,     0.50751,     0.50851,     0.50951,     0.51051,     0.51151,     0.51251,     0.51351,     0.51451,     0.51552,     0.51652,     0.51752,     0.51852,     0.51952,     0.52052,     0.52152,     0.52252,     0.52352,     0.52452,     0.52553,     0.52653,     0.52753,\n",
       "           0.52853,     0.52953,     0.53053,     0.53153,     0.53253,     0.53353,     0.53453,     0.53554,     0.53654,     0.53754,     0.53854,     0.53954,     0.54054,     0.54154,     0.54254,     0.54354,     0.54454,     0.54555,     0.54655,     0.54755,     0.54855,     0.54955,     0.55055,     0.55155,\n",
       "           0.55255,     0.55355,     0.55455,     0.55556,     0.55656,     0.55756,     0.55856,     0.55956,     0.56056,     0.56156,     0.56256,     0.56356,     0.56456,     0.56557,     0.56657,     0.56757,     0.56857,     0.56957,     0.57057,     0.57157,     0.57257,     0.57357,     0.57457,     0.57558,\n",
       "           0.57658,     0.57758,     0.57858,     0.57958,     0.58058,     0.58158,     0.58258,     0.58358,     0.58458,     0.58559,     0.58659,     0.58759,     0.58859,     0.58959,     0.59059,     0.59159,     0.59259,     0.59359,     0.59459,      0.5956,      0.5966,      0.5976,      0.5986,      0.5996,\n",
       "            0.6006,      0.6016,      0.6026,      0.6036,      0.6046,     0.60561,     0.60661,     0.60761,     0.60861,     0.60961,     0.61061,     0.61161,     0.61261,     0.61361,     0.61461,     0.61562,     0.61662,     0.61762,     0.61862,     0.61962,     0.62062,     0.62162,     0.62262,     0.62362,\n",
       "           0.62462,     0.62563,     0.62663,     0.62763,     0.62863,     0.62963,     0.63063,     0.63163,     0.63263,     0.63363,     0.63463,     0.63564,     0.63664,     0.63764,     0.63864,     0.63964,     0.64064,     0.64164,     0.64264,     0.64364,     0.64464,     0.64565,     0.64665,     0.64765,\n",
       "           0.64865,     0.64965,     0.65065,     0.65165,     0.65265,     0.65365,     0.65465,     0.65566,     0.65666,     0.65766,     0.65866,     0.65966,     0.66066,     0.66166,     0.66266,     0.66366,     0.66466,     0.66567,     0.66667,     0.66767,     0.66867,     0.66967,     0.67067,     0.67167,\n",
       "           0.67267,     0.67367,     0.67467,     0.67568,     0.67668,     0.67768,     0.67868,     0.67968,     0.68068,     0.68168,     0.68268,     0.68368,     0.68468,     0.68569,     0.68669,     0.68769,     0.68869,     0.68969,     0.69069,     0.69169,     0.69269,     0.69369,     0.69469,      0.6957,\n",
       "            0.6967,      0.6977,      0.6987,      0.6997,      0.7007,      0.7017,      0.7027,      0.7037,      0.7047,     0.70571,     0.70671,     0.70771,     0.70871,     0.70971,     0.71071,     0.71171,     0.71271,     0.71371,     0.71471,     0.71572,     0.71672,     0.71772,     0.71872,     0.71972,\n",
       "           0.72072,     0.72172,     0.72272,     0.72372,     0.72472,     0.72573,     0.72673,     0.72773,     0.72873,     0.72973,     0.73073,     0.73173,     0.73273,     0.73373,     0.73473,     0.73574,     0.73674,     0.73774,     0.73874,     0.73974,     0.74074,     0.74174,     0.74274,     0.74374,\n",
       "           0.74474,     0.74575,     0.74675,     0.74775,     0.74875,     0.74975,     0.75075,     0.75175,     0.75275,     0.75375,     0.75475,     0.75576,     0.75676,     0.75776,     0.75876,     0.75976,     0.76076,     0.76176,     0.76276,     0.76376,     0.76476,     0.76577,     0.76677,     0.76777,\n",
       "           0.76877,     0.76977,     0.77077,     0.77177,     0.77277,     0.77377,     0.77477,     0.77578,     0.77678,     0.77778,     0.77878,     0.77978,     0.78078,     0.78178,     0.78278,     0.78378,     0.78478,     0.78579,     0.78679,     0.78779,     0.78879,     0.78979,     0.79079,     0.79179,\n",
       "           0.79279,     0.79379,     0.79479,      0.7958,      0.7968,      0.7978,      0.7988,      0.7998,      0.8008,      0.8018,      0.8028,      0.8038,      0.8048,     0.80581,     0.80681,     0.80781,     0.80881,     0.80981,     0.81081,     0.81181,     0.81281,     0.81381,     0.81481,     0.81582,\n",
       "           0.81682,     0.81782,     0.81882,     0.81982,     0.82082,     0.82182,     0.82282,     0.82382,     0.82482,     0.82583,     0.82683,     0.82783,     0.82883,     0.82983,     0.83083,     0.83183,     0.83283,     0.83383,     0.83483,     0.83584,     0.83684,     0.83784,     0.83884,     0.83984,\n",
       "           0.84084,     0.84184,     0.84284,     0.84384,     0.84484,     0.84585,     0.84685,     0.84785,     0.84885,     0.84985,     0.85085,     0.85185,     0.85285,     0.85385,     0.85485,     0.85586,     0.85686,     0.85786,     0.85886,     0.85986,     0.86086,     0.86186,     0.86286,     0.86386,\n",
       "           0.86486,     0.86587,     0.86687,     0.86787,     0.86887,     0.86987,     0.87087,     0.87187,     0.87287,     0.87387,     0.87487,     0.87588,     0.87688,     0.87788,     0.87888,     0.87988,     0.88088,     0.88188,     0.88288,     0.88388,     0.88488,     0.88589,     0.88689,     0.88789,\n",
       "           0.88889,     0.88989,     0.89089,     0.89189,     0.89289,     0.89389,     0.89489,      0.8959,      0.8969,      0.8979,      0.8989,      0.8999,      0.9009,      0.9019,      0.9029,      0.9039,      0.9049,     0.90591,     0.90691,     0.90791,     0.90891,     0.90991,     0.91091,     0.91191,\n",
       "           0.91291,     0.91391,     0.91491,     0.91592,     0.91692,     0.91792,     0.91892,     0.91992,     0.92092,     0.92192,     0.92292,     0.92392,     0.92492,     0.92593,     0.92693,     0.92793,     0.92893,     0.92993,     0.93093,     0.93193,     0.93293,     0.93393,     0.93493,     0.93594,\n",
       "           0.93694,     0.93794,     0.93894,     0.93994,     0.94094,     0.94194,     0.94294,     0.94394,     0.94494,     0.94595,     0.94695,     0.94795,     0.94895,     0.94995,     0.95095,     0.95195,     0.95295,     0.95395,     0.95495,     0.95596,     0.95696,     0.95796,     0.95896,     0.95996,\n",
       "           0.96096,     0.96196,     0.96296,     0.96396,     0.96496,     0.96597,     0.96697,     0.96797,     0.96897,     0.96997,     0.97097,     0.97197,     0.97297,     0.97397,     0.97497,     0.97598,     0.97698,     0.97798,     0.97898,     0.97998,     0.98098,     0.98198,     0.98298,     0.98398,\n",
       "           0.98498,     0.98599,     0.98699,     0.98799,     0.98899,     0.98999,     0.99099,     0.99199,     0.99299,     0.99399,     0.99499,       0.996,       0.997,       0.998,       0.999,           1]), array([[          1,     0.99347,     0.99347,     0.99347,     0.99347,     0.99347,     0.99347,     0.99347,     0.99347,     0.99347,     0.99347,     0.99347,     0.99347,     0.99347,     0.99347,     0.99347,     0.99347,     0.99347,     0.99347,     0.99347,     0.99347,     0.99347,     0.99347,\n",
       "            0.99347,     0.99347,     0.99347,     0.99347,     0.99347,     0.99347,     0.99347,     0.99347,     0.99347,     0.99347,     0.99347,     0.99347,     0.99347,     0.99347,     0.99347,     0.99347,     0.99347,     0.99347,     0.99347,     0.99347,     0.99347,     0.99347,     0.99347,\n",
       "            0.99347,     0.99347,     0.99347,     0.99347,     0.99347,     0.99347,     0.99347,     0.99347,     0.99347,     0.99347,     0.99347,     0.99347,     0.99347,     0.99347,     0.99347,     0.99347,     0.99347,     0.99347,     0.99347,     0.99347,     0.99347,     0.99347,     0.99347,\n",
       "            0.99347,     0.99347,     0.99347,     0.99347,     0.99347,     0.99347,     0.99347,     0.99347,     0.99347,     0.99347,     0.99347,     0.99347,     0.99347,     0.99347,     0.99347,     0.99347,     0.99347,     0.99347,     0.99347,     0.99347,     0.99347,     0.99347,     0.99347,\n",
       "            0.99347,     0.99347,     0.99347,     0.99347,     0.99347,     0.99347,     0.99347,     0.99347,     0.99347,     0.99347,     0.99347,     0.99347,     0.99347,     0.99347,     0.99347,     0.99347,     0.99347,     0.99347,     0.99347,     0.99347,     0.99347,     0.99347,     0.99347,\n",
       "            0.99347,     0.99347,     0.99347,     0.99347,     0.99347,     0.99347,     0.99347,     0.99347,     0.99347,     0.99347,     0.99347,     0.99347,     0.99347,     0.99347,     0.99347,     0.99347,     0.99347,     0.99347,     0.99347,     0.99347,     0.99347,     0.99347,     0.99347,\n",
       "            0.99347,     0.99347,     0.99347,     0.99347,     0.99347,     0.99347,     0.99347,     0.99347,     0.99347,     0.99347,     0.99347,     0.99347,     0.99347,     0.99347,     0.99347,     0.99347,     0.99347,     0.99347,     0.99347,     0.99347,     0.99347,     0.99347,     0.99347,\n",
       "            0.99347,     0.99347,     0.99347,     0.99347,     0.99347,     0.99347,     0.99347,     0.99347,     0.99347,     0.99347,     0.99347,     0.99347,     0.99347,     0.99347,     0.99347,     0.99347,     0.99347,     0.99347,     0.99347,     0.99347,     0.99347,     0.99347,     0.99347,\n",
       "            0.99347,     0.99347,     0.99347,     0.99347,     0.99347,     0.99347,     0.99347,     0.99347,     0.99347,     0.99347,     0.99347,     0.99347,     0.99347,     0.99347,     0.99347,     0.99347,     0.99347,     0.99347,     0.99334,     0.99334,     0.99334,     0.99334,     0.99334,\n",
       "            0.99334,     0.99334,     0.99334,     0.99334,     0.99334,     0.99334,     0.99329,     0.99329,     0.99329,     0.99312,     0.99312,     0.99312,     0.99312,     0.99312,     0.99312,     0.99312,     0.99312,     0.99312,     0.99312,     0.99312,     0.99312,     0.99312,     0.99312,\n",
       "            0.99312,     0.99312,     0.99312,     0.99312,     0.99312,     0.99312,     0.99312,     0.99312,     0.99312,     0.99312,     0.99312,     0.99312,     0.99312,     0.99312,     0.99312,     0.99312,     0.99312,     0.99312,     0.99312,     0.99312,     0.99309,     0.99309,     0.99309,\n",
       "            0.99309,     0.99309,     0.99309,     0.99309,     0.99309,     0.99309,     0.99307,     0.99307,     0.99307,     0.99307,     0.99301,     0.99301,     0.99294,     0.99294,     0.99294,     0.99294,     0.99294,     0.99294,     0.99294,     0.99293,     0.99293,     0.99293,     0.99293,\n",
       "            0.99293,     0.99282,     0.99282,     0.99282,     0.99282,     0.99282,     0.99274,     0.99274,     0.99274,     0.99274,     0.99274,     0.99274,     0.99265,     0.99247,     0.99247,     0.99219,     0.99219,     0.99219,     0.99219,     0.99219,     0.99219,     0.99219,     0.99208,\n",
       "            0.99208,     0.99208,     0.99208,      0.9919,      0.9919,     0.99189,     0.99189,     0.99189,     0.99189,     0.99189,     0.99189,     0.99189,     0.99185,     0.99185,     0.99185,      0.9917,      0.9917,      0.9917,      0.9917,      0.9917,      0.9917,     0.99164,     0.99164,\n",
       "            0.99155,     0.99137,     0.99132,     0.99132,      0.9913,      0.9913,      0.9913,     0.99129,     0.99129,     0.99129,     0.99129,     0.99129,     0.99129,     0.99129,     0.99115,     0.99115,     0.99115,     0.99115,     0.99115,     0.99115,     0.99115,     0.99115,     0.99115,\n",
       "            0.99115,     0.99115,     0.99115,     0.99115,     0.99115,     0.99102,     0.99102,     0.99096,     0.99094,     0.99094,     0.99094,     0.99085,      0.9908,     0.99073,     0.99066,     0.99059,     0.99048,     0.99048,     0.99048,     0.99048,     0.99048,     0.99048,     0.99041,\n",
       "            0.99035,     0.99027,     0.99027,     0.99027,     0.99027,     0.99021,     0.99013,      0.9899,     0.98983,     0.98981,     0.98981,     0.98965,     0.98962,     0.98962,     0.98951,     0.98951,     0.98936,     0.98934,     0.98934,     0.98925,     0.98925,     0.98925,     0.98925,\n",
       "            0.98925,     0.98925,     0.98917,     0.98903,     0.98903,     0.98903,     0.98903,     0.98897,     0.98894,     0.98887,     0.98882,     0.98878,     0.98878,     0.98878,     0.98878,     0.98878,     0.98866,      0.9886,      0.9886,      0.9886,      0.9886,     0.98857,     0.98857,\n",
       "            0.98848,     0.98848,     0.98848,     0.98813,     0.98799,     0.98773,     0.98773,     0.98758,     0.98758,     0.98758,     0.98755,      0.9875,     0.98748,     0.98748,     0.98746,     0.98746,     0.98739,     0.98732,     0.98732,     0.98718,     0.98692,     0.98676,     0.98676,\n",
       "            0.98674,     0.98674,     0.98673,     0.98673,     0.98666,     0.98665,     0.98665,     0.98656,     0.98656,     0.98639,     0.98638,     0.98638,     0.98638,     0.98638,     0.98638,     0.98632,     0.98615,     0.98603,     0.98598,     0.98571,     0.98546,     0.98533,     0.98533,\n",
       "            0.98532,     0.98532,     0.98507,     0.98504,     0.98504,     0.98482,     0.98482,     0.98475,     0.98475,     0.98475,     0.98475,     0.98463,     0.98461,     0.98455,     0.98446,     0.98436,     0.98431,     0.98423,     0.98416,     0.98399,     0.98364,     0.98364,     0.98358,\n",
       "            0.98358,     0.98358,     0.98358,     0.98354,     0.98344,     0.98324,     0.98324,     0.98321,     0.98297,     0.98295,     0.98295,     0.98295,     0.98285,      0.9827,     0.98259,     0.98242,     0.98231,     0.98231,     0.98214,     0.98204,     0.98202,     0.98202,     0.98202,\n",
       "            0.98198,     0.98197,     0.98191,     0.98191,     0.98191,     0.98191,     0.98184,     0.98184,     0.98175,     0.98166,     0.98158,     0.98155,     0.98135,     0.98135,     0.98135,     0.98127,     0.98127,     0.98113,     0.98113,     0.98113,       0.981,     0.98095,     0.98063,\n",
       "            0.98063,     0.98063,      0.9806,     0.98052,     0.98043,     0.98017,     0.98016,     0.98015,     0.98015,     0.98007,     0.98004,     0.98003,     0.97981,     0.97966,     0.97948,     0.97938,      0.9793,     0.97909,     0.97884,     0.97864,      0.9786,      0.9786,      0.9786,\n",
       "             0.9786,      0.9786,     0.97852,     0.97844,     0.97842,     0.97836,     0.97814,      0.9779,     0.97779,     0.97774,     0.97773,     0.97764,     0.97751,     0.97731,     0.97718,     0.97694,     0.97692,     0.97686,     0.97666,     0.97654,      0.9764,     0.97626,     0.97626,\n",
       "            0.97618,     0.97598,      0.9759,      0.9759,      0.9759,     0.97589,     0.97589,     0.97589,     0.97589,     0.97577,     0.97575,     0.97559,     0.97545,      0.9754,     0.97533,     0.97531,     0.97523,     0.97516,     0.97516,     0.97497,     0.97485,     0.97467,     0.97445,\n",
       "            0.97438,      0.9741,     0.97398,     0.97381,     0.97366,     0.97358,     0.97335,      0.9732,     0.97302,     0.97289,     0.97274,     0.97274,      0.9726,      0.9724,     0.97218,       0.972,       0.972,     0.97193,     0.97179,     0.97157,     0.97125,     0.97113,     0.97087,\n",
       "            0.97066,      0.9705,     0.97034,     0.97025,     0.97017,      0.9701,     0.97007,     0.96986,     0.96981,     0.96976,     0.96973,      0.9697,     0.96964,      0.9695,     0.96938,     0.96918,      0.9691,     0.96901,     0.96886,     0.96884,     0.96877,     0.96865,     0.96845,\n",
       "            0.96827,     0.96821,     0.96806,       0.968,      0.9679,     0.96758,     0.96749,     0.96737,     0.96728,     0.96712,     0.96688,     0.96659,     0.96645,     0.96634,     0.96621,     0.96609,     0.96592,      0.9658,     0.96579,     0.96537,     0.96518,     0.96503,      0.9649,\n",
       "            0.96466,     0.96439,     0.96429,     0.96398,     0.96384,     0.96377,      0.9637,     0.96343,     0.96329,     0.96312,     0.96299,     0.96289,     0.96263,     0.96244,     0.96194,     0.96154,     0.96132,     0.96113,     0.96106,     0.96072,     0.96058,     0.96042,     0.96028,\n",
       "            0.96007,     0.96003,     0.95968,     0.95933,     0.95898,     0.95881,     0.95838,     0.95803,     0.95773,     0.95748,     0.95718,     0.95703,     0.95662,     0.95662,      0.9565,     0.95628,     0.95581,     0.95517,     0.95474,     0.95443,     0.95431,     0.95412,     0.95378,\n",
       "            0.95333,     0.95288,     0.95281,     0.95245,     0.95195,     0.95175,     0.95122,     0.95081,     0.95033,     0.95006,     0.94971,     0.94921,      0.9489,      0.9483,     0.94791,     0.94764,     0.94733,     0.94685,     0.94634,     0.94584,     0.94512,      0.9444,     0.94402,\n",
       "            0.94323,     0.94261,      0.9415,     0.94098,     0.94035,     0.93966,     0.93886,     0.93829,     0.93778,     0.93736,     0.93669,     0.93564,     0.93485,     0.93399,     0.93348,     0.93246,     0.93192,     0.93114,     0.93026,     0.92926,     0.92814,     0.92715,      0.9262,\n",
       "            0.92541,     0.92417,     0.92194,      0.9203,     0.91938,     0.91817,     0.91723,     0.91651,     0.91538,     0.91441,     0.91312,     0.91121,     0.91032,     0.90916,      0.9081,     0.90652,     0.90472,     0.90369,     0.90216,     0.90101,     0.89894,     0.89721,     0.89593,\n",
       "             0.8933,     0.89163,     0.89069,       0.889,     0.88677,     0.88491,     0.88309,     0.88048,     0.87836,      0.8756,     0.87354,     0.87127,     0.86918,     0.86641,     0.86263,     0.85931,     0.85671,     0.85417,     0.84996,     0.84694,      0.8436,      0.8389,     0.83405,\n",
       "            0.83029,      0.8265,     0.82135,     0.81767,     0.81315,     0.80841,     0.80415,     0.79653,     0.79121,     0.78655,     0.78222,      0.7777,     0.76915,     0.76406,     0.75684,     0.75034,     0.73953,     0.73239,     0.72202,     0.71104,     0.69936,     0.68674,      0.6733,\n",
       "            0.66258,     0.64711,     0.62883,     0.60985,      0.5915,     0.56517,     0.53808,     0.50211,     0.44277,     0.36634,     0.30593,     0.30403,     0.30213,     0.30023,     0.29833,     0.29643,     0.29453,     0.29263,     0.29073,     0.28883,     0.28693,     0.28503,     0.28313,\n",
       "            0.28123,     0.27933,     0.27743,     0.27553,     0.27363,     0.27173,     0.26983,     0.26793,     0.26603,     0.26413,     0.26223,     0.26033,     0.25843,     0.25652,     0.25462,     0.25272,     0.25082,     0.24892,     0.24702,     0.24512,     0.24322,     0.24132,     0.23942,\n",
       "            0.23752,     0.23562,     0.23372,     0.23182,     0.22992,     0.22802,     0.22612,     0.22422,     0.22232,     0.22042,     0.21852,     0.21662,     0.21472,     0.21282,     0.21092,     0.20902,     0.20712,     0.20522,     0.20332,     0.20142,     0.19952,     0.19762,     0.19572,\n",
       "            0.19382,     0.19192,     0.19002,     0.18812,     0.18622,     0.18432,     0.18242,     0.18052,     0.17862,     0.17672,     0.17482,     0.17292,     0.17102,     0.16912,     0.16722,     0.16532,     0.16342,     0.16152,     0.15962,     0.15772,     0.15582,     0.15391,     0.15201,\n",
       "            0.15011,     0.14821,     0.14631,     0.14441,     0.14251,     0.14061,     0.13871,     0.13681,     0.13491,     0.13301,     0.13111,     0.12921,     0.12731,     0.12541,     0.12351,     0.12161,     0.11971,     0.11781,     0.11591,     0.11401,     0.11211,     0.11021,     0.10831,\n",
       "            0.10641,     0.10451,     0.10261,     0.10071,     0.09881,    0.096909,    0.095009,    0.093109,    0.091209,    0.089309,    0.087408,    0.085508,    0.083608,    0.081708,    0.079808,    0.077908,    0.076007,    0.074107,    0.072207,    0.070307,    0.068407,    0.066506,    0.064606,\n",
       "           0.062706,    0.060806,    0.058906,    0.057006,    0.055105,    0.053205,    0.051305,    0.049405,    0.047505,    0.045604,    0.043704,    0.041804,    0.039904,    0.038004,    0.036103,    0.034203,    0.032303,    0.030403,    0.028503,    0.026603,    0.024702,    0.022802,    0.020902,\n",
       "           0.019002,    0.017102,    0.015201,    0.013301,    0.011401,   0.0095009,   0.0076007,   0.0057006,   0.0038004,   0.0019002,           0]]), 'Recall', 'Precision'], [array([          0,    0.001001,    0.002002,    0.003003,    0.004004,    0.005005,    0.006006,    0.007007,    0.008008,    0.009009,     0.01001,    0.011011,    0.012012,    0.013013,    0.014014,    0.015015,    0.016016,    0.017017,    0.018018,    0.019019,     0.02002,    0.021021,    0.022022,    0.023023,\n",
       "          0.024024,    0.025025,    0.026026,    0.027027,    0.028028,    0.029029,     0.03003,    0.031031,    0.032032,    0.033033,    0.034034,    0.035035,    0.036036,    0.037037,    0.038038,    0.039039,     0.04004,    0.041041,    0.042042,    0.043043,    0.044044,    0.045045,    0.046046,    0.047047,\n",
       "          0.048048,    0.049049,     0.05005,    0.051051,    0.052052,    0.053053,    0.054054,    0.055055,    0.056056,    0.057057,    0.058058,    0.059059,     0.06006,    0.061061,    0.062062,    0.063063,    0.064064,    0.065065,    0.066066,    0.067067,    0.068068,    0.069069,     0.07007,    0.071071,\n",
       "          0.072072,    0.073073,    0.074074,    0.075075,    0.076076,    0.077077,    0.078078,    0.079079,     0.08008,    0.081081,    0.082082,    0.083083,    0.084084,    0.085085,    0.086086,    0.087087,    0.088088,    0.089089,     0.09009,    0.091091,    0.092092,    0.093093,    0.094094,    0.095095,\n",
       "          0.096096,    0.097097,    0.098098,    0.099099,      0.1001,      0.1011,      0.1021,      0.1031,      0.1041,     0.10511,     0.10611,     0.10711,     0.10811,     0.10911,     0.11011,     0.11111,     0.11211,     0.11311,     0.11411,     0.11512,     0.11612,     0.11712,     0.11812,     0.11912,\n",
       "           0.12012,     0.12112,     0.12212,     0.12312,     0.12412,     0.12513,     0.12613,     0.12713,     0.12813,     0.12913,     0.13013,     0.13113,     0.13213,     0.13313,     0.13413,     0.13514,     0.13614,     0.13714,     0.13814,     0.13914,     0.14014,     0.14114,     0.14214,     0.14314,\n",
       "           0.14414,     0.14515,     0.14615,     0.14715,     0.14815,     0.14915,     0.15015,     0.15115,     0.15215,     0.15315,     0.15415,     0.15516,     0.15616,     0.15716,     0.15816,     0.15916,     0.16016,     0.16116,     0.16216,     0.16316,     0.16416,     0.16517,     0.16617,     0.16717,\n",
       "           0.16817,     0.16917,     0.17017,     0.17117,     0.17217,     0.17317,     0.17417,     0.17518,     0.17618,     0.17718,     0.17818,     0.17918,     0.18018,     0.18118,     0.18218,     0.18318,     0.18418,     0.18519,     0.18619,     0.18719,     0.18819,     0.18919,     0.19019,     0.19119,\n",
       "           0.19219,     0.19319,     0.19419,      0.1952,      0.1962,      0.1972,      0.1982,      0.1992,      0.2002,      0.2012,      0.2022,      0.2032,      0.2042,     0.20521,     0.20621,     0.20721,     0.20821,     0.20921,     0.21021,     0.21121,     0.21221,     0.21321,     0.21421,     0.21522,\n",
       "           0.21622,     0.21722,     0.21822,     0.21922,     0.22022,     0.22122,     0.22222,     0.22322,     0.22422,     0.22523,     0.22623,     0.22723,     0.22823,     0.22923,     0.23023,     0.23123,     0.23223,     0.23323,     0.23423,     0.23524,     0.23624,     0.23724,     0.23824,     0.23924,\n",
       "           0.24024,     0.24124,     0.24224,     0.24324,     0.24424,     0.24525,     0.24625,     0.24725,     0.24825,     0.24925,     0.25025,     0.25125,     0.25225,     0.25325,     0.25425,     0.25526,     0.25626,     0.25726,     0.25826,     0.25926,     0.26026,     0.26126,     0.26226,     0.26326,\n",
       "           0.26426,     0.26527,     0.26627,     0.26727,     0.26827,     0.26927,     0.27027,     0.27127,     0.27227,     0.27327,     0.27427,     0.27528,     0.27628,     0.27728,     0.27828,     0.27928,     0.28028,     0.28128,     0.28228,     0.28328,     0.28428,     0.28529,     0.28629,     0.28729,\n",
       "           0.28829,     0.28929,     0.29029,     0.29129,     0.29229,     0.29329,     0.29429,      0.2953,      0.2963,      0.2973,      0.2983,      0.2993,      0.3003,      0.3013,      0.3023,      0.3033,      0.3043,     0.30531,     0.30631,     0.30731,     0.30831,     0.30931,     0.31031,     0.31131,\n",
       "           0.31231,     0.31331,     0.31431,     0.31532,     0.31632,     0.31732,     0.31832,     0.31932,     0.32032,     0.32132,     0.32232,     0.32332,     0.32432,     0.32533,     0.32633,     0.32733,     0.32833,     0.32933,     0.33033,     0.33133,     0.33233,     0.33333,     0.33433,     0.33534,\n",
       "           0.33634,     0.33734,     0.33834,     0.33934,     0.34034,     0.34134,     0.34234,     0.34334,     0.34434,     0.34535,     0.34635,     0.34735,     0.34835,     0.34935,     0.35035,     0.35135,     0.35235,     0.35335,     0.35435,     0.35536,     0.35636,     0.35736,     0.35836,     0.35936,\n",
       "           0.36036,     0.36136,     0.36236,     0.36336,     0.36436,     0.36537,     0.36637,     0.36737,     0.36837,     0.36937,     0.37037,     0.37137,     0.37237,     0.37337,     0.37437,     0.37538,     0.37638,     0.37738,     0.37838,     0.37938,     0.38038,     0.38138,     0.38238,     0.38338,\n",
       "           0.38438,     0.38539,     0.38639,     0.38739,     0.38839,     0.38939,     0.39039,     0.39139,     0.39239,     0.39339,     0.39439,      0.3954,      0.3964,      0.3974,      0.3984,      0.3994,      0.4004,      0.4014,      0.4024,      0.4034,      0.4044,     0.40541,     0.40641,     0.40741,\n",
       "           0.40841,     0.40941,     0.41041,     0.41141,     0.41241,     0.41341,     0.41441,     0.41542,     0.41642,     0.41742,     0.41842,     0.41942,     0.42042,     0.42142,     0.42242,     0.42342,     0.42442,     0.42543,     0.42643,     0.42743,     0.42843,     0.42943,     0.43043,     0.43143,\n",
       "           0.43243,     0.43343,     0.43443,     0.43544,     0.43644,     0.43744,     0.43844,     0.43944,     0.44044,     0.44144,     0.44244,     0.44344,     0.44444,     0.44545,     0.44645,     0.44745,     0.44845,     0.44945,     0.45045,     0.45145,     0.45245,     0.45345,     0.45445,     0.45546,\n",
       "           0.45646,     0.45746,     0.45846,     0.45946,     0.46046,     0.46146,     0.46246,     0.46346,     0.46446,     0.46547,     0.46647,     0.46747,     0.46847,     0.46947,     0.47047,     0.47147,     0.47247,     0.47347,     0.47447,     0.47548,     0.47648,     0.47748,     0.47848,     0.47948,\n",
       "           0.48048,     0.48148,     0.48248,     0.48348,     0.48448,     0.48549,     0.48649,     0.48749,     0.48849,     0.48949,     0.49049,     0.49149,     0.49249,     0.49349,     0.49449,      0.4955,      0.4965,      0.4975,      0.4985,      0.4995,      0.5005,      0.5015,      0.5025,      0.5035,\n",
       "            0.5045,     0.50551,     0.50651,     0.50751,     0.50851,     0.50951,     0.51051,     0.51151,     0.51251,     0.51351,     0.51451,     0.51552,     0.51652,     0.51752,     0.51852,     0.51952,     0.52052,     0.52152,     0.52252,     0.52352,     0.52452,     0.52553,     0.52653,     0.52753,\n",
       "           0.52853,     0.52953,     0.53053,     0.53153,     0.53253,     0.53353,     0.53453,     0.53554,     0.53654,     0.53754,     0.53854,     0.53954,     0.54054,     0.54154,     0.54254,     0.54354,     0.54454,     0.54555,     0.54655,     0.54755,     0.54855,     0.54955,     0.55055,     0.55155,\n",
       "           0.55255,     0.55355,     0.55455,     0.55556,     0.55656,     0.55756,     0.55856,     0.55956,     0.56056,     0.56156,     0.56256,     0.56356,     0.56456,     0.56557,     0.56657,     0.56757,     0.56857,     0.56957,     0.57057,     0.57157,     0.57257,     0.57357,     0.57457,     0.57558,\n",
       "           0.57658,     0.57758,     0.57858,     0.57958,     0.58058,     0.58158,     0.58258,     0.58358,     0.58458,     0.58559,     0.58659,     0.58759,     0.58859,     0.58959,     0.59059,     0.59159,     0.59259,     0.59359,     0.59459,      0.5956,      0.5966,      0.5976,      0.5986,      0.5996,\n",
       "            0.6006,      0.6016,      0.6026,      0.6036,      0.6046,     0.60561,     0.60661,     0.60761,     0.60861,     0.60961,     0.61061,     0.61161,     0.61261,     0.61361,     0.61461,     0.61562,     0.61662,     0.61762,     0.61862,     0.61962,     0.62062,     0.62162,     0.62262,     0.62362,\n",
       "           0.62462,     0.62563,     0.62663,     0.62763,     0.62863,     0.62963,     0.63063,     0.63163,     0.63263,     0.63363,     0.63463,     0.63564,     0.63664,     0.63764,     0.63864,     0.63964,     0.64064,     0.64164,     0.64264,     0.64364,     0.64464,     0.64565,     0.64665,     0.64765,\n",
       "           0.64865,     0.64965,     0.65065,     0.65165,     0.65265,     0.65365,     0.65465,     0.65566,     0.65666,     0.65766,     0.65866,     0.65966,     0.66066,     0.66166,     0.66266,     0.66366,     0.66466,     0.66567,     0.66667,     0.66767,     0.66867,     0.66967,     0.67067,     0.67167,\n",
       "           0.67267,     0.67367,     0.67467,     0.67568,     0.67668,     0.67768,     0.67868,     0.67968,     0.68068,     0.68168,     0.68268,     0.68368,     0.68468,     0.68569,     0.68669,     0.68769,     0.68869,     0.68969,     0.69069,     0.69169,     0.69269,     0.69369,     0.69469,      0.6957,\n",
       "            0.6967,      0.6977,      0.6987,      0.6997,      0.7007,      0.7017,      0.7027,      0.7037,      0.7047,     0.70571,     0.70671,     0.70771,     0.70871,     0.70971,     0.71071,     0.71171,     0.71271,     0.71371,     0.71471,     0.71572,     0.71672,     0.71772,     0.71872,     0.71972,\n",
       "           0.72072,     0.72172,     0.72272,     0.72372,     0.72472,     0.72573,     0.72673,     0.72773,     0.72873,     0.72973,     0.73073,     0.73173,     0.73273,     0.73373,     0.73473,     0.73574,     0.73674,     0.73774,     0.73874,     0.73974,     0.74074,     0.74174,     0.74274,     0.74374,\n",
       "           0.74474,     0.74575,     0.74675,     0.74775,     0.74875,     0.74975,     0.75075,     0.75175,     0.75275,     0.75375,     0.75475,     0.75576,     0.75676,     0.75776,     0.75876,     0.75976,     0.76076,     0.76176,     0.76276,     0.76376,     0.76476,     0.76577,     0.76677,     0.76777,\n",
       "           0.76877,     0.76977,     0.77077,     0.77177,     0.77277,     0.77377,     0.77477,     0.77578,     0.77678,     0.77778,     0.77878,     0.77978,     0.78078,     0.78178,     0.78278,     0.78378,     0.78478,     0.78579,     0.78679,     0.78779,     0.78879,     0.78979,     0.79079,     0.79179,\n",
       "           0.79279,     0.79379,     0.79479,      0.7958,      0.7968,      0.7978,      0.7988,      0.7998,      0.8008,      0.8018,      0.8028,      0.8038,      0.8048,     0.80581,     0.80681,     0.80781,     0.80881,     0.80981,     0.81081,     0.81181,     0.81281,     0.81381,     0.81481,     0.81582,\n",
       "           0.81682,     0.81782,     0.81882,     0.81982,     0.82082,     0.82182,     0.82282,     0.82382,     0.82482,     0.82583,     0.82683,     0.82783,     0.82883,     0.82983,     0.83083,     0.83183,     0.83283,     0.83383,     0.83483,     0.83584,     0.83684,     0.83784,     0.83884,     0.83984,\n",
       "           0.84084,     0.84184,     0.84284,     0.84384,     0.84484,     0.84585,     0.84685,     0.84785,     0.84885,     0.84985,     0.85085,     0.85185,     0.85285,     0.85385,     0.85485,     0.85586,     0.85686,     0.85786,     0.85886,     0.85986,     0.86086,     0.86186,     0.86286,     0.86386,\n",
       "           0.86486,     0.86587,     0.86687,     0.86787,     0.86887,     0.86987,     0.87087,     0.87187,     0.87287,     0.87387,     0.87487,     0.87588,     0.87688,     0.87788,     0.87888,     0.87988,     0.88088,     0.88188,     0.88288,     0.88388,     0.88488,     0.88589,     0.88689,     0.88789,\n",
       "           0.88889,     0.88989,     0.89089,     0.89189,     0.89289,     0.89389,     0.89489,      0.8959,      0.8969,      0.8979,      0.8989,      0.8999,      0.9009,      0.9019,      0.9029,      0.9039,      0.9049,     0.90591,     0.90691,     0.90791,     0.90891,     0.90991,     0.91091,     0.91191,\n",
       "           0.91291,     0.91391,     0.91491,     0.91592,     0.91692,     0.91792,     0.91892,     0.91992,     0.92092,     0.92192,     0.92292,     0.92392,     0.92492,     0.92593,     0.92693,     0.92793,     0.92893,     0.92993,     0.93093,     0.93193,     0.93293,     0.93393,     0.93493,     0.93594,\n",
       "           0.93694,     0.93794,     0.93894,     0.93994,     0.94094,     0.94194,     0.94294,     0.94394,     0.94494,     0.94595,     0.94695,     0.94795,     0.94895,     0.94995,     0.95095,     0.95195,     0.95295,     0.95395,     0.95495,     0.95596,     0.95696,     0.95796,     0.95896,     0.95996,\n",
       "           0.96096,     0.96196,     0.96296,     0.96396,     0.96496,     0.96597,     0.96697,     0.96797,     0.96897,     0.96997,     0.97097,     0.97197,     0.97297,     0.97397,     0.97497,     0.97598,     0.97698,     0.97798,     0.97898,     0.97998,     0.98098,     0.98198,     0.98298,     0.98398,\n",
       "           0.98498,     0.98599,     0.98699,     0.98799,     0.98899,     0.98999,     0.99099,     0.99199,     0.99299,     0.99399,     0.99499,       0.996,       0.997,       0.998,       0.999,           1]), array([[    0.44859,     0.44859,     0.54108,     0.58449,     0.61285,     0.63261,     0.64667,     0.65871,     0.66909,     0.67739,     0.68498,     0.69119,     0.69666,      0.7016,     0.70606,     0.71021,     0.71404,     0.71767,     0.72065,     0.72369,     0.72637,     0.72894,     0.73145,\n",
       "            0.73393,     0.73576,     0.73769,     0.73951,     0.74156,     0.74335,     0.74505,     0.74653,     0.74808,     0.74949,     0.75098,     0.75274,     0.75406,     0.75548,     0.75687,      0.7581,     0.75926,     0.76053,     0.76148,     0.76271,     0.76351,     0.76443,     0.76539,\n",
       "            0.76651,     0.76728,      0.7682,      0.7692,     0.77001,     0.77085,     0.77172,     0.77242,     0.77324,     0.77411,     0.77479,     0.77529,      0.7763,      0.7771,     0.77781,     0.77852,     0.77921,     0.78007,     0.78074,     0.78117,     0.78175,     0.78253,     0.78332,\n",
       "            0.78389,     0.78445,     0.78506,     0.78547,     0.78609,     0.78658,     0.78708,     0.78738,      0.7878,     0.78825,     0.78868,     0.78921,     0.78955,     0.79015,     0.79057,       0.791,     0.79138,     0.79164,     0.79211,     0.79252,      0.7928,     0.79358,     0.79406,\n",
       "            0.79452,     0.79489,     0.79527,     0.79565,     0.79601,      0.7965,     0.79686,     0.79717,     0.79748,     0.79768,     0.79801,     0.79838,     0.79864,     0.79891,     0.79937,     0.79963,     0.79987,     0.80026,     0.80045,     0.80072,     0.80112,     0.80127,     0.80169,\n",
       "            0.80192,     0.80224,     0.80237,     0.80268,     0.80303,     0.80334,     0.80366,     0.80387,     0.80409,     0.80445,     0.80478,     0.80502,     0.80526,     0.80559,       0.806,     0.80628,     0.80663,     0.80706,     0.80737,     0.80765,     0.80791,     0.80819,     0.80838,\n",
       "            0.80868,     0.80895,     0.80908,     0.80929,     0.80957,     0.80978,     0.81012,     0.81046,     0.81072,     0.81092,     0.81106,     0.81126,     0.81148,      0.8115,     0.81171,     0.81193,      0.8122,     0.81248,     0.81269,     0.81284,     0.81287,     0.81309,     0.81334,\n",
       "            0.81359,     0.81389,     0.81405,     0.81416,     0.81443,     0.81457,     0.81461,     0.81494,     0.81528,     0.81554,     0.81569,     0.81587,     0.81605,      0.8163,      0.8166,     0.81675,     0.81689,     0.81713,     0.81738,      0.8176,     0.81768,     0.81792,     0.81807,\n",
       "            0.81812,     0.81843,     0.81869,     0.81883,     0.81897,     0.81921,     0.81942,     0.81955,     0.81976,     0.81993,     0.82009,     0.82031,     0.82053,      0.8206,     0.82097,     0.82108,      0.8212,     0.82143,     0.82145,     0.82161,     0.82168,     0.82197,     0.82211,\n",
       "            0.82221,     0.82242,     0.82257,      0.8228,     0.82286,     0.82315,     0.82327,     0.82339,     0.82341,     0.82365,     0.82374,     0.82389,     0.82394,     0.82412,     0.82426,     0.82446,     0.82459,     0.82488,     0.82499,     0.82516,      0.8253,     0.82552,     0.82571,\n",
       "            0.82587,     0.82591,       0.826,     0.82608,     0.82619,     0.82652,     0.82654,     0.82669,     0.82673,     0.82679,     0.82701,     0.82707,     0.82719,     0.82735,     0.82742,     0.82762,     0.82772,     0.82785,       0.828,     0.82807,     0.82838,     0.82839,      0.8284,\n",
       "            0.82865,     0.82875,     0.82884,     0.82908,     0.82925,     0.82931,     0.82949,     0.82962,     0.82973,     0.82978,     0.82992,     0.83006,     0.83009,     0.83019,     0.83023,     0.83037,     0.83048,      0.8305,     0.83059,     0.83073,     0.83069,     0.83081,     0.83096,\n",
       "            0.83101,     0.83102,     0.83116,     0.83122,     0.83127,      0.8313,      0.8315,     0.83146,     0.83161,     0.83176,     0.83194,     0.83203,     0.83209,     0.83216,     0.83229,     0.83234,     0.83238,     0.83242,     0.83259,     0.83266,     0.83271,     0.83289,     0.83297,\n",
       "            0.83313,     0.83323,     0.83328,     0.83333,      0.8333,     0.83328,     0.83332,     0.83339,     0.83352,      0.8336,     0.83361,     0.83363,     0.83378,     0.83382,     0.83389,     0.83391,     0.83398,     0.83413,     0.83412,     0.83423,     0.83437,     0.83437,     0.83434,\n",
       "            0.83439,     0.83441,     0.83434,     0.83429,     0.83419,     0.83429,     0.83434,     0.83433,     0.83436,     0.83443,     0.83448,     0.83464,     0.83475,     0.83484,     0.83493,     0.83496,     0.83497,     0.83501,       0.835,     0.83494,     0.83496,      0.8351,      0.8351,\n",
       "            0.83506,     0.83514,      0.8351,     0.83524,     0.83523,     0.83532,     0.83541,     0.83542,     0.83541,      0.8355,     0.83543,     0.83537,     0.83538,     0.83541,      0.8354,     0.83544,     0.83538,     0.83529,     0.83518,     0.83528,     0.83536,     0.83535,     0.83551,\n",
       "            0.83544,      0.8355,     0.83552,      0.8356,     0.83556,     0.83558,     0.83559,     0.83543,     0.83545,     0.83527,      0.8353,     0.83532,     0.83535,     0.83525,     0.83516,     0.83515,     0.83516,     0.83512,      0.8352,     0.83524,     0.83531,     0.83531,     0.83533,\n",
       "            0.83534,     0.83517,     0.83516,     0.83516,     0.83509,     0.83511,     0.83501,     0.83495,     0.83498,     0.83495,     0.83478,     0.83479,     0.83464,     0.83461,     0.83457,     0.83445,      0.8343,     0.83437,     0.83435,     0.83441,     0.83428,      0.8342,     0.83412,\n",
       "            0.83422,     0.83416,     0.83418,     0.83423,     0.83432,     0.83441,     0.83442,     0.83449,     0.83444,      0.8344,     0.83442,     0.83437,     0.83435,     0.83418,     0.83414,      0.8342,     0.83399,     0.83395,     0.83394,     0.83377,     0.83365,      0.8336,     0.83366,\n",
       "            0.83354,     0.83351,     0.83347,     0.83342,      0.8334,      0.8333,     0.83322,       0.833,     0.83293,     0.83281,     0.83273,     0.83242,      0.8324,     0.83223,     0.83219,     0.83215,     0.83192,     0.83171,     0.83173,     0.83155,     0.83151,      0.8314,     0.83135,\n",
       "            0.83119,     0.83122,     0.83107,     0.83104,     0.83087,     0.83072,     0.83051,     0.83034,     0.83009,     0.82994,      0.8297,      0.8296,      0.8294,     0.82926,     0.82909,     0.82893,     0.82873,     0.82869,     0.82862,     0.82851,     0.82792,     0.82782,     0.82778,\n",
       "             0.8277,     0.82743,     0.82738,     0.82724,     0.82719,     0.82701,      0.8268,     0.82648,     0.82638,      0.8263,     0.82614,     0.82585,     0.82579,     0.82564,     0.82537,     0.82519,     0.82504,     0.82476,     0.82457,     0.82436,     0.82418,     0.82389,     0.82368,\n",
       "            0.82345,     0.82319,     0.82301,     0.82283,     0.82258,     0.82224,     0.82186,     0.82166,     0.82134,     0.82106,     0.82061,     0.82033,     0.82004,     0.81986,      0.8194,     0.81908,     0.81879,     0.81838,     0.81814,     0.81791,     0.81761,     0.81715,     0.81675,\n",
       "            0.81662,     0.81632,     0.81604,      0.8158,     0.81541,     0.81487,      0.8144,     0.81399,     0.81373,     0.81341,     0.81306,     0.81265,     0.81258,     0.81223,     0.81198,     0.81161,     0.81079,     0.81014,     0.80985,     0.80933,     0.80895,      0.8084,     0.80805,\n",
       "            0.80756,     0.80709,     0.80684,      0.8064,     0.80597,     0.80524,     0.80483,      0.8045,     0.80396,      0.8035,     0.80302,     0.80247,     0.80199,     0.80144,     0.80079,     0.80044,     0.80001,     0.79936,     0.79878,     0.79854,     0.79799,     0.79753,     0.79696,\n",
       "            0.79655,     0.79585,     0.79517,     0.79463,     0.79394,     0.79301,     0.79237,      0.7918,     0.79109,     0.79046,     0.78965,     0.78897,     0.78865,     0.78807,     0.78763,     0.78677,     0.78608,     0.78512,      0.7846,       0.784,     0.78341,     0.78198,     0.78138,\n",
       "            0.78069,     0.78008,     0.77931,     0.77857,     0.77788,     0.77723,      0.7766,     0.77566,       0.775,     0.77358,      0.7728,     0.77211,     0.77131,      0.7707,     0.76998,     0.76923,     0.76822,      0.7677,     0.76679,       0.766,     0.76522,     0.76426,      0.7625,\n",
       "            0.76169,     0.76077,     0.75991,     0.75919,     0.75845,     0.75774,     0.75699,     0.75637,     0.75562,     0.75488,     0.75411,     0.75272,     0.75189,     0.75105,     0.75017,     0.74917,     0.74829,      0.7475,     0.74668,     0.74532,     0.74426,     0.74352,     0.74264,\n",
       "            0.74185,     0.74117,     0.74027,     0.73946,     0.73863,     0.73666,     0.73598,     0.73514,     0.73429,     0.73348,     0.73293,     0.73191,     0.73118,     0.73042,     0.72891,     0.72781,     0.72699,     0.72578,     0.72411,     0.72327,     0.72258,     0.72185,     0.72076,\n",
       "            0.71972,     0.71894,      0.7178,     0.71619,     0.71537,     0.71422,     0.71316,     0.71198,     0.71118,     0.71034,     0.70858,     0.70774,     0.70705,     0.70508,     0.70366,     0.70282,     0.70196,     0.70068,     0.69969,     0.69853,     0.69678,     0.69585,     0.69459,\n",
       "            0.69368,     0.69255,      0.6915,     0.68946,      0.6885,     0.68739,      0.6868,     0.68577,     0.68362,     0.68258,     0.68069,     0.67957,     0.67838,     0.67734,     0.67595,     0.67447,     0.67357,     0.67262,     0.67148,     0.67043,     0.66854,     0.66767,     0.66659,\n",
       "            0.66537,      0.6645,     0.66283,     0.66109,     0.66096,     0.65903,     0.65692,     0.65677,     0.65491,     0.65265,     0.65252,     0.65074,     0.64828,     0.64825,     0.64606,     0.64462,     0.64459,     0.64247,     0.64237,      0.6401,     0.63755,     0.63745,     0.63526,\n",
       "             0.6328,      0.6327,     0.63039,     0.62819,      0.6256,     0.62557,     0.62389,     0.62385,     0.62201,     0.61951,      0.6194,     0.61709,      0.6144,     0.61436,     0.61225,     0.60918,     0.60916,     0.60671,     0.60407,     0.60405,     0.60154,     0.59922,     0.59645,\n",
       "            0.59636,     0.59322,     0.59018,     0.58811,     0.58808,     0.58599,     0.58332,     0.58327,     0.58043,     0.57748,     0.57488,     0.57483,     0.57232,     0.56987,     0.56982,     0.56716,     0.56433,      0.5643,     0.56174,     0.55953,     0.55615,     0.55381,     0.55376,\n",
       "              0.551,     0.54829,      0.5451,     0.54507,     0.54242,     0.53942,     0.53678,     0.53676,     0.53425,     0.53111,     0.52864,      0.5286,     0.52596,     0.52327,     0.52078,      0.5178,     0.51777,     0.51442,     0.51171,     0.50853,     0.50534,     0.50256,     0.50253,\n",
       "            0.49982,     0.49652,     0.49337,     0.48993,     0.48988,      0.4868,      0.4835,     0.47975,     0.47666,     0.47289,     0.47284,     0.46979,     0.46675,     0.46364,     0.46006,     0.45691,     0.45404,      0.4512,     0.44764,     0.44761,     0.44499,     0.44146,     0.43827,\n",
       "            0.43473,     0.43146,     0.42775,     0.42474,     0.42471,     0.42144,     0.41812,     0.41472,     0.41114,     0.40696,     0.40357,     0.39979,     0.39578,     0.39238,     0.38869,     0.38477,     0.38106,     0.37742,     0.37297,     0.36964,     0.36479,     0.36075,     0.35716,\n",
       "            0.35351,     0.34945,       0.346,     0.34168,     0.33823,     0.33398,     0.33026,     0.32637,     0.32242,     0.31417,     0.30998,     0.30644,     0.30244,     0.29843,      0.2948,      0.2919,     0.28827,     0.28417,     0.28027,      0.2754,     0.27136,     0.26368,     0.25993,\n",
       "            0.25597,     0.25187,     0.24828,     0.24474,     0.24071,     0.23225,     0.22855,     0.22121,     0.21729,     0.21308,     0.20932,     0.20502,     0.19555,     0.19178,     0.18793,      0.1838,     0.17749,     0.17398,     0.17057,      0.1624,     0.15906,     0.15559,     0.14931,\n",
       "            0.14515,     0.14088,     0.13403,     0.12772,     0.12406,     0.11672,      0.1137,     0.10668,      0.1032,     0.10086,    0.095303,    0.091956,    0.086841,    0.081253,    0.078294,    0.073354,    0.070873,    0.066506,    0.063703,    0.059629,    0.055788,    0.054436,    0.050898,\n",
       "           0.044627,    0.042353,    0.039682,    0.036807,    0.033401,    0.031931,    0.029585,    0.027142,    0.024693,    0.022703,    0.021241,    0.019244,    0.018175,    0.016772,    0.015233,    0.014161,    0.012752,    0.011609,    0.010667,   0.0090509,   0.0076345,    0.007025,   0.0064151,\n",
       "          0.0051975,   0.0047215,   0.0042453,   0.0036337,   0.0032246,   0.0029508,   0.0024905,   0.0024026,   0.0019658,   0.0017865,   0.0016477,   0.0015088,   0.0011666,  0.00089203,  0.00054961,  0.00043083,  0.00024881,  0.00020191,  0.00013404,  9.9263e-05,           0,           0,           0,\n",
       "                  0,           0,           0,           0,           0,           0,           0,           0,           0,           0,           0,           0,           0,           0,           0,           0,           0,           0,           0,           0,           0,           0,           0,\n",
       "                  0,           0,           0,           0,           0,           0,           0,           0,           0,           0,           0]]), 'Confidence', 'F1'], [array([          0,    0.001001,    0.002002,    0.003003,    0.004004,    0.005005,    0.006006,    0.007007,    0.008008,    0.009009,     0.01001,    0.011011,    0.012012,    0.013013,    0.014014,    0.015015,    0.016016,    0.017017,    0.018018,    0.019019,     0.02002,    0.021021,    0.022022,    0.023023,\n",
       "          0.024024,    0.025025,    0.026026,    0.027027,    0.028028,    0.029029,     0.03003,    0.031031,    0.032032,    0.033033,    0.034034,    0.035035,    0.036036,    0.037037,    0.038038,    0.039039,     0.04004,    0.041041,    0.042042,    0.043043,    0.044044,    0.045045,    0.046046,    0.047047,\n",
       "          0.048048,    0.049049,     0.05005,    0.051051,    0.052052,    0.053053,    0.054054,    0.055055,    0.056056,    0.057057,    0.058058,    0.059059,     0.06006,    0.061061,    0.062062,    0.063063,    0.064064,    0.065065,    0.066066,    0.067067,    0.068068,    0.069069,     0.07007,    0.071071,\n",
       "          0.072072,    0.073073,    0.074074,    0.075075,    0.076076,    0.077077,    0.078078,    0.079079,     0.08008,    0.081081,    0.082082,    0.083083,    0.084084,    0.085085,    0.086086,    0.087087,    0.088088,    0.089089,     0.09009,    0.091091,    0.092092,    0.093093,    0.094094,    0.095095,\n",
       "          0.096096,    0.097097,    0.098098,    0.099099,      0.1001,      0.1011,      0.1021,      0.1031,      0.1041,     0.10511,     0.10611,     0.10711,     0.10811,     0.10911,     0.11011,     0.11111,     0.11211,     0.11311,     0.11411,     0.11512,     0.11612,     0.11712,     0.11812,     0.11912,\n",
       "           0.12012,     0.12112,     0.12212,     0.12312,     0.12412,     0.12513,     0.12613,     0.12713,     0.12813,     0.12913,     0.13013,     0.13113,     0.13213,     0.13313,     0.13413,     0.13514,     0.13614,     0.13714,     0.13814,     0.13914,     0.14014,     0.14114,     0.14214,     0.14314,\n",
       "           0.14414,     0.14515,     0.14615,     0.14715,     0.14815,     0.14915,     0.15015,     0.15115,     0.15215,     0.15315,     0.15415,     0.15516,     0.15616,     0.15716,     0.15816,     0.15916,     0.16016,     0.16116,     0.16216,     0.16316,     0.16416,     0.16517,     0.16617,     0.16717,\n",
       "           0.16817,     0.16917,     0.17017,     0.17117,     0.17217,     0.17317,     0.17417,     0.17518,     0.17618,     0.17718,     0.17818,     0.17918,     0.18018,     0.18118,     0.18218,     0.18318,     0.18418,     0.18519,     0.18619,     0.18719,     0.18819,     0.18919,     0.19019,     0.19119,\n",
       "           0.19219,     0.19319,     0.19419,      0.1952,      0.1962,      0.1972,      0.1982,      0.1992,      0.2002,      0.2012,      0.2022,      0.2032,      0.2042,     0.20521,     0.20621,     0.20721,     0.20821,     0.20921,     0.21021,     0.21121,     0.21221,     0.21321,     0.21421,     0.21522,\n",
       "           0.21622,     0.21722,     0.21822,     0.21922,     0.22022,     0.22122,     0.22222,     0.22322,     0.22422,     0.22523,     0.22623,     0.22723,     0.22823,     0.22923,     0.23023,     0.23123,     0.23223,     0.23323,     0.23423,     0.23524,     0.23624,     0.23724,     0.23824,     0.23924,\n",
       "           0.24024,     0.24124,     0.24224,     0.24324,     0.24424,     0.24525,     0.24625,     0.24725,     0.24825,     0.24925,     0.25025,     0.25125,     0.25225,     0.25325,     0.25425,     0.25526,     0.25626,     0.25726,     0.25826,     0.25926,     0.26026,     0.26126,     0.26226,     0.26326,\n",
       "           0.26426,     0.26527,     0.26627,     0.26727,     0.26827,     0.26927,     0.27027,     0.27127,     0.27227,     0.27327,     0.27427,     0.27528,     0.27628,     0.27728,     0.27828,     0.27928,     0.28028,     0.28128,     0.28228,     0.28328,     0.28428,     0.28529,     0.28629,     0.28729,\n",
       "           0.28829,     0.28929,     0.29029,     0.29129,     0.29229,     0.29329,     0.29429,      0.2953,      0.2963,      0.2973,      0.2983,      0.2993,      0.3003,      0.3013,      0.3023,      0.3033,      0.3043,     0.30531,     0.30631,     0.30731,     0.30831,     0.30931,     0.31031,     0.31131,\n",
       "           0.31231,     0.31331,     0.31431,     0.31532,     0.31632,     0.31732,     0.31832,     0.31932,     0.32032,     0.32132,     0.32232,     0.32332,     0.32432,     0.32533,     0.32633,     0.32733,     0.32833,     0.32933,     0.33033,     0.33133,     0.33233,     0.33333,     0.33433,     0.33534,\n",
       "           0.33634,     0.33734,     0.33834,     0.33934,     0.34034,     0.34134,     0.34234,     0.34334,     0.34434,     0.34535,     0.34635,     0.34735,     0.34835,     0.34935,     0.35035,     0.35135,     0.35235,     0.35335,     0.35435,     0.35536,     0.35636,     0.35736,     0.35836,     0.35936,\n",
       "           0.36036,     0.36136,     0.36236,     0.36336,     0.36436,     0.36537,     0.36637,     0.36737,     0.36837,     0.36937,     0.37037,     0.37137,     0.37237,     0.37337,     0.37437,     0.37538,     0.37638,     0.37738,     0.37838,     0.37938,     0.38038,     0.38138,     0.38238,     0.38338,\n",
       "           0.38438,     0.38539,     0.38639,     0.38739,     0.38839,     0.38939,     0.39039,     0.39139,     0.39239,     0.39339,     0.39439,      0.3954,      0.3964,      0.3974,      0.3984,      0.3994,      0.4004,      0.4014,      0.4024,      0.4034,      0.4044,     0.40541,     0.40641,     0.40741,\n",
       "           0.40841,     0.40941,     0.41041,     0.41141,     0.41241,     0.41341,     0.41441,     0.41542,     0.41642,     0.41742,     0.41842,     0.41942,     0.42042,     0.42142,     0.42242,     0.42342,     0.42442,     0.42543,     0.42643,     0.42743,     0.42843,     0.42943,     0.43043,     0.43143,\n",
       "           0.43243,     0.43343,     0.43443,     0.43544,     0.43644,     0.43744,     0.43844,     0.43944,     0.44044,     0.44144,     0.44244,     0.44344,     0.44444,     0.44545,     0.44645,     0.44745,     0.44845,     0.44945,     0.45045,     0.45145,     0.45245,     0.45345,     0.45445,     0.45546,\n",
       "           0.45646,     0.45746,     0.45846,     0.45946,     0.46046,     0.46146,     0.46246,     0.46346,     0.46446,     0.46547,     0.46647,     0.46747,     0.46847,     0.46947,     0.47047,     0.47147,     0.47247,     0.47347,     0.47447,     0.47548,     0.47648,     0.47748,     0.47848,     0.47948,\n",
       "           0.48048,     0.48148,     0.48248,     0.48348,     0.48448,     0.48549,     0.48649,     0.48749,     0.48849,     0.48949,     0.49049,     0.49149,     0.49249,     0.49349,     0.49449,      0.4955,      0.4965,      0.4975,      0.4985,      0.4995,      0.5005,      0.5015,      0.5025,      0.5035,\n",
       "            0.5045,     0.50551,     0.50651,     0.50751,     0.50851,     0.50951,     0.51051,     0.51151,     0.51251,     0.51351,     0.51451,     0.51552,     0.51652,     0.51752,     0.51852,     0.51952,     0.52052,     0.52152,     0.52252,     0.52352,     0.52452,     0.52553,     0.52653,     0.52753,\n",
       "           0.52853,     0.52953,     0.53053,     0.53153,     0.53253,     0.53353,     0.53453,     0.53554,     0.53654,     0.53754,     0.53854,     0.53954,     0.54054,     0.54154,     0.54254,     0.54354,     0.54454,     0.54555,     0.54655,     0.54755,     0.54855,     0.54955,     0.55055,     0.55155,\n",
       "           0.55255,     0.55355,     0.55455,     0.55556,     0.55656,     0.55756,     0.55856,     0.55956,     0.56056,     0.56156,     0.56256,     0.56356,     0.56456,     0.56557,     0.56657,     0.56757,     0.56857,     0.56957,     0.57057,     0.57157,     0.57257,     0.57357,     0.57457,     0.57558,\n",
       "           0.57658,     0.57758,     0.57858,     0.57958,     0.58058,     0.58158,     0.58258,     0.58358,     0.58458,     0.58559,     0.58659,     0.58759,     0.58859,     0.58959,     0.59059,     0.59159,     0.59259,     0.59359,     0.59459,      0.5956,      0.5966,      0.5976,      0.5986,      0.5996,\n",
       "            0.6006,      0.6016,      0.6026,      0.6036,      0.6046,     0.60561,     0.60661,     0.60761,     0.60861,     0.60961,     0.61061,     0.61161,     0.61261,     0.61361,     0.61461,     0.61562,     0.61662,     0.61762,     0.61862,     0.61962,     0.62062,     0.62162,     0.62262,     0.62362,\n",
       "           0.62462,     0.62563,     0.62663,     0.62763,     0.62863,     0.62963,     0.63063,     0.63163,     0.63263,     0.63363,     0.63463,     0.63564,     0.63664,     0.63764,     0.63864,     0.63964,     0.64064,     0.64164,     0.64264,     0.64364,     0.64464,     0.64565,     0.64665,     0.64765,\n",
       "           0.64865,     0.64965,     0.65065,     0.65165,     0.65265,     0.65365,     0.65465,     0.65566,     0.65666,     0.65766,     0.65866,     0.65966,     0.66066,     0.66166,     0.66266,     0.66366,     0.66466,     0.66567,     0.66667,     0.66767,     0.66867,     0.66967,     0.67067,     0.67167,\n",
       "           0.67267,     0.67367,     0.67467,     0.67568,     0.67668,     0.67768,     0.67868,     0.67968,     0.68068,     0.68168,     0.68268,     0.68368,     0.68468,     0.68569,     0.68669,     0.68769,     0.68869,     0.68969,     0.69069,     0.69169,     0.69269,     0.69369,     0.69469,      0.6957,\n",
       "            0.6967,      0.6977,      0.6987,      0.6997,      0.7007,      0.7017,      0.7027,      0.7037,      0.7047,     0.70571,     0.70671,     0.70771,     0.70871,     0.70971,     0.71071,     0.71171,     0.71271,     0.71371,     0.71471,     0.71572,     0.71672,     0.71772,     0.71872,     0.71972,\n",
       "           0.72072,     0.72172,     0.72272,     0.72372,     0.72472,     0.72573,     0.72673,     0.72773,     0.72873,     0.72973,     0.73073,     0.73173,     0.73273,     0.73373,     0.73473,     0.73574,     0.73674,     0.73774,     0.73874,     0.73974,     0.74074,     0.74174,     0.74274,     0.74374,\n",
       "           0.74474,     0.74575,     0.74675,     0.74775,     0.74875,     0.74975,     0.75075,     0.75175,     0.75275,     0.75375,     0.75475,     0.75576,     0.75676,     0.75776,     0.75876,     0.75976,     0.76076,     0.76176,     0.76276,     0.76376,     0.76476,     0.76577,     0.76677,     0.76777,\n",
       "           0.76877,     0.76977,     0.77077,     0.77177,     0.77277,     0.77377,     0.77477,     0.77578,     0.77678,     0.77778,     0.77878,     0.77978,     0.78078,     0.78178,     0.78278,     0.78378,     0.78478,     0.78579,     0.78679,     0.78779,     0.78879,     0.78979,     0.79079,     0.79179,\n",
       "           0.79279,     0.79379,     0.79479,      0.7958,      0.7968,      0.7978,      0.7988,      0.7998,      0.8008,      0.8018,      0.8028,      0.8038,      0.8048,     0.80581,     0.80681,     0.80781,     0.80881,     0.80981,     0.81081,     0.81181,     0.81281,     0.81381,     0.81481,     0.81582,\n",
       "           0.81682,     0.81782,     0.81882,     0.81982,     0.82082,     0.82182,     0.82282,     0.82382,     0.82482,     0.82583,     0.82683,     0.82783,     0.82883,     0.82983,     0.83083,     0.83183,     0.83283,     0.83383,     0.83483,     0.83584,     0.83684,     0.83784,     0.83884,     0.83984,\n",
       "           0.84084,     0.84184,     0.84284,     0.84384,     0.84484,     0.84585,     0.84685,     0.84785,     0.84885,     0.84985,     0.85085,     0.85185,     0.85285,     0.85385,     0.85485,     0.85586,     0.85686,     0.85786,     0.85886,     0.85986,     0.86086,     0.86186,     0.86286,     0.86386,\n",
       "           0.86486,     0.86587,     0.86687,     0.86787,     0.86887,     0.86987,     0.87087,     0.87187,     0.87287,     0.87387,     0.87487,     0.87588,     0.87688,     0.87788,     0.87888,     0.87988,     0.88088,     0.88188,     0.88288,     0.88388,     0.88488,     0.88589,     0.88689,     0.88789,\n",
       "           0.88889,     0.88989,     0.89089,     0.89189,     0.89289,     0.89389,     0.89489,      0.8959,      0.8969,      0.8979,      0.8989,      0.8999,      0.9009,      0.9019,      0.9029,      0.9039,      0.9049,     0.90591,     0.90691,     0.90791,     0.90891,     0.90991,     0.91091,     0.91191,\n",
       "           0.91291,     0.91391,     0.91491,     0.91592,     0.91692,     0.91792,     0.91892,     0.91992,     0.92092,     0.92192,     0.92292,     0.92392,     0.92492,     0.92593,     0.92693,     0.92793,     0.92893,     0.92993,     0.93093,     0.93193,     0.93293,     0.93393,     0.93493,     0.93594,\n",
       "           0.93694,     0.93794,     0.93894,     0.93994,     0.94094,     0.94194,     0.94294,     0.94394,     0.94494,     0.94595,     0.94695,     0.94795,     0.94895,     0.94995,     0.95095,     0.95195,     0.95295,     0.95395,     0.95495,     0.95596,     0.95696,     0.95796,     0.95896,     0.95996,\n",
       "           0.96096,     0.96196,     0.96296,     0.96396,     0.96496,     0.96597,     0.96697,     0.96797,     0.96897,     0.96997,     0.97097,     0.97197,     0.97297,     0.97397,     0.97497,     0.97598,     0.97698,     0.97798,     0.97898,     0.97998,     0.98098,     0.98198,     0.98298,     0.98398,\n",
       "           0.98498,     0.98599,     0.98699,     0.98799,     0.98899,     0.98999,     0.99099,     0.99199,     0.99299,     0.99399,     0.99499,       0.996,       0.997,       0.998,       0.999,           1]), array([[    0.30617,     0.30617,     0.39963,     0.44913,     0.48365,     0.50896,     0.52762,     0.54408,     0.55865,     0.57054,     0.58153,     0.59069,     0.59891,     0.60649,     0.61347,     0.61991,     0.62593,     0.63175,     0.63646,     0.64138,     0.64579,     0.65006,     0.65421,\n",
       "            0.65835,     0.66145,     0.66468,     0.66786,     0.67138,     0.67462,      0.6776,     0.68014,     0.68286,     0.68535,     0.68794,     0.69097,     0.69346,     0.69596,      0.6985,     0.70075,     0.70285,     0.70513,     0.70686,     0.70912,     0.71067,     0.71245,     0.71422,\n",
       "            0.71627,     0.71772,     0.71943,     0.72129,     0.72282,     0.72438,     0.72603,     0.72749,     0.72907,     0.73078,     0.73204,     0.73313,     0.73499,     0.73664,     0.73812,     0.73956,     0.74089,     0.74264,     0.74393,     0.74485,       0.746,     0.74745,     0.74904,\n",
       "            0.75014,     0.75127,     0.75248,      0.7534,     0.75469,     0.75574,     0.75683,     0.75751,     0.75837,     0.75932,     0.76021,      0.7613,     0.76209,     0.76327,     0.76422,     0.76524,     0.76609,     0.76671,     0.76773,     0.76862,     0.76933,     0.77086,     0.77184,\n",
       "            0.77273,     0.77348,     0.77437,     0.77523,     0.77595,     0.77703,     0.77787,     0.77853,     0.77931,     0.77992,     0.78066,     0.78146,     0.78206,     0.78272,     0.78376,     0.78452,     0.78508,     0.78595,     0.78663,     0.78716,     0.78802,      0.7885,     0.78936,\n",
       "            0.79002,     0.79084,     0.79125,     0.79205,     0.79278,     0.79356,     0.79422,     0.79475,     0.79539,     0.79621,     0.79697,     0.79755,     0.79809,     0.79881,     0.79964,     0.80026,     0.80108,     0.80203,     0.80275,     0.80339,     0.80403,     0.80474,     0.80533,\n",
       "            0.80598,     0.80662,     0.80708,     0.80763,     0.80832,     0.80894,     0.80972,     0.81057,     0.81118,     0.81171,     0.81209,     0.81247,     0.81301,     0.81337,      0.8139,     0.81444,     0.81507,     0.81579,     0.81634,      0.8167,     0.81683,     0.81737,     0.81794,\n",
       "            0.81866,      0.8193,     0.81984,     0.82026,     0.82096,     0.82148,     0.82166,     0.82241,     0.82319,     0.82382,     0.82441,     0.82489,     0.82532,     0.82593,     0.82665,     0.82721,     0.82756,     0.82832,     0.82891,     0.82956,     0.82973,     0.83049,     0.83105,\n",
       "            0.83133,     0.83212,     0.83278,     0.83327,     0.83363,     0.83419,     0.83488,     0.83524,     0.83585,     0.83632,     0.83672,     0.83726,     0.83782,     0.83801,     0.83879,     0.83912,     0.83964,     0.84016,     0.84031,     0.84075,     0.84097,     0.84169,     0.84205,\n",
       "            0.84246,     0.84292,     0.84324,     0.84389,     0.84418,     0.84496,     0.84543,     0.84587,     0.84603,     0.84665,     0.84696,     0.84751,     0.84779,     0.84832,     0.84867,     0.84943,     0.84972,     0.85048,     0.85078,     0.85122,     0.85159,     0.85223,     0.85267,\n",
       "            0.85315,     0.85339,      0.8537,     0.85439,     0.85473,     0.85567,     0.85588,      0.8565,     0.85683,     0.85716,     0.85777,     0.85798,     0.85856,     0.85897,     0.85925,     0.86012,     0.86049,     0.86089,     0.86146,     0.86175,     0.86242,     0.86262,     0.86279,\n",
       "            0.86342,     0.86373,     0.86406,     0.86475,     0.86519,     0.86542,     0.86604,     0.86645,     0.86697,     0.86716,     0.86752,     0.86797,     0.86832,      0.8686,     0.86884,     0.86943,     0.86979,     0.86999,     0.87051,     0.87089,     0.87107,     0.87146,     0.87202,\n",
       "            0.87222,     0.87249,       0.873,      0.8736,     0.87386,     0.87414,     0.87495,     0.87512,     0.87553,      0.8761,     0.87671,     0.87701,     0.87738,     0.87773,     0.87833,     0.87867,     0.87903,     0.87928,     0.88005,     0.88037,     0.88064,      0.8811,     0.88148,\n",
       "             0.8824,     0.88267,     0.88287,     0.88325,     0.88364,     0.88382,     0.88415,      0.8845,     0.88484,     0.88545,     0.88573,     0.88586,     0.88633,      0.8869,     0.88723,     0.88749,     0.88782,     0.88838,     0.88857,     0.88887,     0.88944,     0.88971,     0.89004,\n",
       "            0.89036,     0.89062,     0.89099,      0.8912,     0.89144,     0.89184,     0.89214,     0.89237,      0.8931,     0.89344,     0.89377,     0.89419,      0.8946,       0.895,     0.89533,     0.89592,     0.89637,     0.89674,     0.89704,     0.89719,     0.89745,     0.89819,     0.89841,\n",
       "            0.89861,     0.89894,     0.89905,     0.89951,     0.89966,     0.90043,     0.90081,      0.9011,      0.9013,     0.90175,     0.90203,      0.9022,     0.90255,     0.90277,     0.90303,     0.90363,     0.90386,     0.90404,     0.90417,     0.90477,     0.90519,     0.90543,     0.90599,\n",
       "            0.90621,     0.90659,     0.90726,     0.90784,     0.90811,     0.90839,     0.90866,     0.90884,     0.90916,     0.90926,      0.9096,     0.91005,     0.91053,     0.91075,     0.91098,     0.91118,     0.91161,     0.91185,     0.91226,     0.91264,     0.91296,     0.91334,      0.9139,\n",
       "            0.91431,     0.91453,      0.9148,     0.91504,     0.91522,     0.91552,     0.91569,     0.91589,     0.91636,     0.91664,     0.91682,     0.91713,     0.91732,     0.91759,     0.91804,     0.91809,     0.91874,     0.91911,     0.91938,     0.91975,     0.91993,      0.9202,     0.92048,\n",
       "            0.92082,     0.92115,     0.92144,     0.92173,     0.92219,     0.92281,     0.92335,     0.92391,     0.92425,     0.92494,      0.9253,     0.92554,     0.92579,     0.92588,     0.92631,     0.92679,     0.92697,     0.92749,     0.92785,     0.92811,     0.92838,      0.9288,     0.92925,\n",
       "            0.92942,     0.92976,     0.93001,     0.93025,     0.93051,     0.93083,     0.93108,     0.93123,     0.93167,     0.93195,     0.93216,     0.93242,     0.93264,     0.93314,     0.93348,     0.93373,     0.93389,     0.93406,     0.93439,     0.93455,     0.93475,     0.93502,     0.93541,\n",
       "             0.9357,     0.93617,     0.93642,     0.93668,     0.93704,     0.93727,     0.93742,     0.93754,     0.93786,     0.93811,     0.93827,     0.93861,     0.93885,     0.93914,     0.93947,     0.93976,     0.93996,     0.94031,     0.94061,     0.94087,     0.94127,     0.94157,     0.94207,\n",
       "            0.94257,     0.94278,     0.94309,     0.94339,     0.94377,     0.94402,     0.94416,     0.94456,     0.94474,     0.94493,     0.94523,     0.94532,     0.94551,     0.94597,     0.94626,      0.9466,     0.94683,     0.94696,     0.94702,     0.94734,     0.94754,     0.94763,     0.94777,\n",
       "            0.94779,     0.94796,     0.94813,     0.94852,     0.94874,     0.94904,     0.94932,     0.94959,     0.94972,     0.94998,     0.95006,     0.95032,     0.95066,     0.95093,     0.95142,     0.95155,     0.95186,      0.9521,     0.95229,     0.95244,     0.95274,     0.95286,     0.95287,\n",
       "            0.95315,     0.95333,     0.95356,      0.9539,     0.95409,     0.95416,     0.95438,      0.9545,     0.95473,     0.95495,     0.95509,     0.95539,     0.95581,     0.95604,     0.95627,     0.95649,     0.95659,     0.95661,     0.95698,     0.95711,     0.95725,     0.95751,     0.95773,\n",
       "            0.95794,     0.95809,     0.95841,     0.95864,     0.95891,     0.95928,     0.95956,     0.95984,     0.96001,     0.96005,      0.9602,     0.96032,     0.96047,     0.96056,     0.96076,     0.96106,     0.96112,     0.96125,     0.96138,     0.96148,     0.96177,     0.96222,     0.96258,\n",
       "            0.96274,     0.96295,     0.96308,     0.96323,      0.9634,      0.9637,     0.96374,     0.96384,     0.96397,      0.9642,     0.96442,     0.96465,      0.9649,     0.96489,     0.96511,     0.96532,     0.96556,     0.96581,     0.96601,     0.96607,     0.96617,     0.96644,     0.96659,\n",
       "            0.96678,     0.96712,     0.96731,      0.9674,     0.96745,     0.96755,     0.96799,     0.96802,     0.96817,     0.96837,     0.96861,     0.96876,     0.96881,     0.96882,     0.96897,     0.96907,     0.96925,     0.96938,     0.96955,     0.96965,      0.9697,     0.96974,     0.96993,\n",
       "            0.97008,     0.97017,     0.97022,     0.97034,     0.97053,     0.97069,     0.97088,     0.97117,     0.97128,     0.97163,      0.9719,     0.97197,     0.97213,     0.97239,      0.9726,      0.9727,      0.9728,     0.97302,     0.97318,     0.97358,     0.97368,      0.9739,     0.97401,\n",
       "            0.97428,     0.97435,     0.97457,     0.97485,     0.97496,     0.97518,     0.97531,     0.97532,     0.97538,     0.97545,     0.97558,     0.97564,     0.97576,     0.97589,     0.97587,     0.97587,     0.97588,     0.97587,     0.97618,     0.97624,     0.97621,      0.9764,     0.97656,\n",
       "            0.97685,     0.97687,     0.97698,      0.9773,      0.9776,     0.97771,     0.97778,     0.97789,     0.97808,     0.97833,     0.97842,      0.9785,     0.97858,     0.97855,     0.97855,     0.97862,     0.97888,     0.97929,      0.9794,     0.97943,     0.98001,     0.98003,     0.98009,\n",
       "            0.98012,     0.98013,     0.98026,     0.98048,     0.98062,     0.98057,     0.98067,       0.981,     0.98109,     0.98111,     0.98134,      0.9813,     0.98131,     0.98155,     0.98165,     0.98178,     0.98181,     0.98189,     0.98185,     0.98187,     0.98192,     0.98202,     0.98197,\n",
       "            0.98199,     0.98208,     0.98228,     0.98253,     0.98253,     0.98285,      0.9829,     0.98289,     0.98315,      0.9832,     0.98319,     0.98353,     0.98351,      0.9835,     0.98363,     0.98398,     0.98398,     0.98418,     0.98417,     0.98444,     0.98462,     0.98462,     0.98468,\n",
       "            0.98481,      0.9848,       0.985,     0.98528,     0.98534,     0.98534,     0.98571,     0.98575,     0.98608,     0.98636,     0.98636,     0.98629,     0.98635,     0.98635,     0.98658,      0.9867,      0.9867,      0.9867,      0.9867,     0.98669,      0.9873,     0.98738,     0.98745,\n",
       "            0.98745,     0.98751,      0.9875,     0.98799,     0.98799,      0.9884,     0.98849,     0.98849,     0.98857,     0.98865,     0.98874,     0.98874,     0.98867,     0.98894,     0.98893,     0.98903,     0.98895,     0.98895,     0.98922,     0.98916,     0.98933,     0.98935,     0.98935,\n",
       "            0.98954,     0.98964,     0.98982,     0.98982,      0.9902,     0.99021,     0.99033,     0.99033,     0.99045,     0.99046,     0.99058,     0.99058,      0.9908,     0.99092,     0.99096,     0.99098,     0.99098,     0.99109,     0.99103,     0.99099,     0.99108,     0.99111,     0.99111,\n",
       "            0.99124,     0.99117,      0.9913,     0.99121,     0.99121,     0.99155,     0.99169,      0.9916,     0.99185,     0.99187,     0.99187,      0.9918,     0.99184,     0.99188,     0.99202,     0.99217,     0.99211,     0.99205,     0.99254,     0.99254,     0.99272,     0.99264,     0.99281,\n",
       "            0.99274,     0.99291,     0.99283,     0.99289,     0.99289,     0.99282,       0.993,     0.99306,     0.99298,     0.99302,     0.99295,       0.993,     0.99305,     0.99297,     0.99289,      0.9928,     0.99286,     0.99277,     0.99281,     0.99273,     0.99306,     0.99312,     0.99304,\n",
       "            0.99326,     0.99332,     0.99324,     0.99314,     0.99322,     0.99345,     0.99336,     0.99327,     0.99317,     0.99314,     0.99321,     0.99312,     0.99301,     0.99309,     0.99319,      0.9933,      0.9932,     0.99309,     0.99298,     0.99284,     0.99293,     0.99276,     0.99279,\n",
       "            0.99266,     0.99276,     0.99264,     0.99252,     0.99238,     0.99232,     0.99244,     0.99269,     0.99255,     0.99266,      0.9928,     0.99293,     0.99255,     0.99239,     0.99222,     0.99202,     0.99206,     0.99258,     0.99242,     0.99276,      0.9926,     0.99242,     0.99208,\n",
       "            0.99184,     0.99157,     0.99111,     0.99064,     0.99035,     0.98971,     0.98943,      0.9887,     0.98891,     0.98926,     0.98927,     0.98887,     0.99038,      0.9897,      0.9893,     0.98942,     0.98904,     0.98831,     0.98778,     0.98693,     0.98602,     0.98566,     0.98465,\n",
       "            0.98248,     0.98457,     0.98352,     0.98223,     0.98234,     0.98355,     0.98443,     0.98303,     0.98136,     0.98258,     0.98445,     0.98623,     0.98542,     0.98421,     0.98263,     0.98593,     0.98439,     0.98287,      0.9875,     0.98529,      0.9826,     0.98111,     0.97935,\n",
       "            0.97462,     0.97213,     0.96909,     0.96406,     0.95968,     0.97755,     0.97351,     0.97256,     0.98659,           1,           1,           1,           1,           1,           1,           1,           1,           1,           1,           1,           1,           1,           1,\n",
       "                  1,           1,           1,           1,           1,           1,           1,           1,           1,           1,           1,           1,           1,           1,           1,           1,           1,           1,           1,           1,           1,           1,           1,\n",
       "                  1,           1,           1,           1,           1,           1,           1,           1,           1,           1,           1]]), 'Confidence', 'Precision'], [array([          0,    0.001001,    0.002002,    0.003003,    0.004004,    0.005005,    0.006006,    0.007007,    0.008008,    0.009009,     0.01001,    0.011011,    0.012012,    0.013013,    0.014014,    0.015015,    0.016016,    0.017017,    0.018018,    0.019019,     0.02002,    0.021021,    0.022022,    0.023023,\n",
       "          0.024024,    0.025025,    0.026026,    0.027027,    0.028028,    0.029029,     0.03003,    0.031031,    0.032032,    0.033033,    0.034034,    0.035035,    0.036036,    0.037037,    0.038038,    0.039039,     0.04004,    0.041041,    0.042042,    0.043043,    0.044044,    0.045045,    0.046046,    0.047047,\n",
       "          0.048048,    0.049049,     0.05005,    0.051051,    0.052052,    0.053053,    0.054054,    0.055055,    0.056056,    0.057057,    0.058058,    0.059059,     0.06006,    0.061061,    0.062062,    0.063063,    0.064064,    0.065065,    0.066066,    0.067067,    0.068068,    0.069069,     0.07007,    0.071071,\n",
       "          0.072072,    0.073073,    0.074074,    0.075075,    0.076076,    0.077077,    0.078078,    0.079079,     0.08008,    0.081081,    0.082082,    0.083083,    0.084084,    0.085085,    0.086086,    0.087087,    0.088088,    0.089089,     0.09009,    0.091091,    0.092092,    0.093093,    0.094094,    0.095095,\n",
       "          0.096096,    0.097097,    0.098098,    0.099099,      0.1001,      0.1011,      0.1021,      0.1031,      0.1041,     0.10511,     0.10611,     0.10711,     0.10811,     0.10911,     0.11011,     0.11111,     0.11211,     0.11311,     0.11411,     0.11512,     0.11612,     0.11712,     0.11812,     0.11912,\n",
       "           0.12012,     0.12112,     0.12212,     0.12312,     0.12412,     0.12513,     0.12613,     0.12713,     0.12813,     0.12913,     0.13013,     0.13113,     0.13213,     0.13313,     0.13413,     0.13514,     0.13614,     0.13714,     0.13814,     0.13914,     0.14014,     0.14114,     0.14214,     0.14314,\n",
       "           0.14414,     0.14515,     0.14615,     0.14715,     0.14815,     0.14915,     0.15015,     0.15115,     0.15215,     0.15315,     0.15415,     0.15516,     0.15616,     0.15716,     0.15816,     0.15916,     0.16016,     0.16116,     0.16216,     0.16316,     0.16416,     0.16517,     0.16617,     0.16717,\n",
       "           0.16817,     0.16917,     0.17017,     0.17117,     0.17217,     0.17317,     0.17417,     0.17518,     0.17618,     0.17718,     0.17818,     0.17918,     0.18018,     0.18118,     0.18218,     0.18318,     0.18418,     0.18519,     0.18619,     0.18719,     0.18819,     0.18919,     0.19019,     0.19119,\n",
       "           0.19219,     0.19319,     0.19419,      0.1952,      0.1962,      0.1972,      0.1982,      0.1992,      0.2002,      0.2012,      0.2022,      0.2032,      0.2042,     0.20521,     0.20621,     0.20721,     0.20821,     0.20921,     0.21021,     0.21121,     0.21221,     0.21321,     0.21421,     0.21522,\n",
       "           0.21622,     0.21722,     0.21822,     0.21922,     0.22022,     0.22122,     0.22222,     0.22322,     0.22422,     0.22523,     0.22623,     0.22723,     0.22823,     0.22923,     0.23023,     0.23123,     0.23223,     0.23323,     0.23423,     0.23524,     0.23624,     0.23724,     0.23824,     0.23924,\n",
       "           0.24024,     0.24124,     0.24224,     0.24324,     0.24424,     0.24525,     0.24625,     0.24725,     0.24825,     0.24925,     0.25025,     0.25125,     0.25225,     0.25325,     0.25425,     0.25526,     0.25626,     0.25726,     0.25826,     0.25926,     0.26026,     0.26126,     0.26226,     0.26326,\n",
       "           0.26426,     0.26527,     0.26627,     0.26727,     0.26827,     0.26927,     0.27027,     0.27127,     0.27227,     0.27327,     0.27427,     0.27528,     0.27628,     0.27728,     0.27828,     0.27928,     0.28028,     0.28128,     0.28228,     0.28328,     0.28428,     0.28529,     0.28629,     0.28729,\n",
       "           0.28829,     0.28929,     0.29029,     0.29129,     0.29229,     0.29329,     0.29429,      0.2953,      0.2963,      0.2973,      0.2983,      0.2993,      0.3003,      0.3013,      0.3023,      0.3033,      0.3043,     0.30531,     0.30631,     0.30731,     0.30831,     0.30931,     0.31031,     0.31131,\n",
       "           0.31231,     0.31331,     0.31431,     0.31532,     0.31632,     0.31732,     0.31832,     0.31932,     0.32032,     0.32132,     0.32232,     0.32332,     0.32432,     0.32533,     0.32633,     0.32733,     0.32833,     0.32933,     0.33033,     0.33133,     0.33233,     0.33333,     0.33433,     0.33534,\n",
       "           0.33634,     0.33734,     0.33834,     0.33934,     0.34034,     0.34134,     0.34234,     0.34334,     0.34434,     0.34535,     0.34635,     0.34735,     0.34835,     0.34935,     0.35035,     0.35135,     0.35235,     0.35335,     0.35435,     0.35536,     0.35636,     0.35736,     0.35836,     0.35936,\n",
       "           0.36036,     0.36136,     0.36236,     0.36336,     0.36436,     0.36537,     0.36637,     0.36737,     0.36837,     0.36937,     0.37037,     0.37137,     0.37237,     0.37337,     0.37437,     0.37538,     0.37638,     0.37738,     0.37838,     0.37938,     0.38038,     0.38138,     0.38238,     0.38338,\n",
       "           0.38438,     0.38539,     0.38639,     0.38739,     0.38839,     0.38939,     0.39039,     0.39139,     0.39239,     0.39339,     0.39439,      0.3954,      0.3964,      0.3974,      0.3984,      0.3994,      0.4004,      0.4014,      0.4024,      0.4034,      0.4044,     0.40541,     0.40641,     0.40741,\n",
       "           0.40841,     0.40941,     0.41041,     0.41141,     0.41241,     0.41341,     0.41441,     0.41542,     0.41642,     0.41742,     0.41842,     0.41942,     0.42042,     0.42142,     0.42242,     0.42342,     0.42442,     0.42543,     0.42643,     0.42743,     0.42843,     0.42943,     0.43043,     0.43143,\n",
       "           0.43243,     0.43343,     0.43443,     0.43544,     0.43644,     0.43744,     0.43844,     0.43944,     0.44044,     0.44144,     0.44244,     0.44344,     0.44444,     0.44545,     0.44645,     0.44745,     0.44845,     0.44945,     0.45045,     0.45145,     0.45245,     0.45345,     0.45445,     0.45546,\n",
       "           0.45646,     0.45746,     0.45846,     0.45946,     0.46046,     0.46146,     0.46246,     0.46346,     0.46446,     0.46547,     0.46647,     0.46747,     0.46847,     0.46947,     0.47047,     0.47147,     0.47247,     0.47347,     0.47447,     0.47548,     0.47648,     0.47748,     0.47848,     0.47948,\n",
       "           0.48048,     0.48148,     0.48248,     0.48348,     0.48448,     0.48549,     0.48649,     0.48749,     0.48849,     0.48949,     0.49049,     0.49149,     0.49249,     0.49349,     0.49449,      0.4955,      0.4965,      0.4975,      0.4985,      0.4995,      0.5005,      0.5015,      0.5025,      0.5035,\n",
       "            0.5045,     0.50551,     0.50651,     0.50751,     0.50851,     0.50951,     0.51051,     0.51151,     0.51251,     0.51351,     0.51451,     0.51552,     0.51652,     0.51752,     0.51852,     0.51952,     0.52052,     0.52152,     0.52252,     0.52352,     0.52452,     0.52553,     0.52653,     0.52753,\n",
       "           0.52853,     0.52953,     0.53053,     0.53153,     0.53253,     0.53353,     0.53453,     0.53554,     0.53654,     0.53754,     0.53854,     0.53954,     0.54054,     0.54154,     0.54254,     0.54354,     0.54454,     0.54555,     0.54655,     0.54755,     0.54855,     0.54955,     0.55055,     0.55155,\n",
       "           0.55255,     0.55355,     0.55455,     0.55556,     0.55656,     0.55756,     0.55856,     0.55956,     0.56056,     0.56156,     0.56256,     0.56356,     0.56456,     0.56557,     0.56657,     0.56757,     0.56857,     0.56957,     0.57057,     0.57157,     0.57257,     0.57357,     0.57457,     0.57558,\n",
       "           0.57658,     0.57758,     0.57858,     0.57958,     0.58058,     0.58158,     0.58258,     0.58358,     0.58458,     0.58559,     0.58659,     0.58759,     0.58859,     0.58959,     0.59059,     0.59159,     0.59259,     0.59359,     0.59459,      0.5956,      0.5966,      0.5976,      0.5986,      0.5996,\n",
       "            0.6006,      0.6016,      0.6026,      0.6036,      0.6046,     0.60561,     0.60661,     0.60761,     0.60861,     0.60961,     0.61061,     0.61161,     0.61261,     0.61361,     0.61461,     0.61562,     0.61662,     0.61762,     0.61862,     0.61962,     0.62062,     0.62162,     0.62262,     0.62362,\n",
       "           0.62462,     0.62563,     0.62663,     0.62763,     0.62863,     0.62963,     0.63063,     0.63163,     0.63263,     0.63363,     0.63463,     0.63564,     0.63664,     0.63764,     0.63864,     0.63964,     0.64064,     0.64164,     0.64264,     0.64364,     0.64464,     0.64565,     0.64665,     0.64765,\n",
       "           0.64865,     0.64965,     0.65065,     0.65165,     0.65265,     0.65365,     0.65465,     0.65566,     0.65666,     0.65766,     0.65866,     0.65966,     0.66066,     0.66166,     0.66266,     0.66366,     0.66466,     0.66567,     0.66667,     0.66767,     0.66867,     0.66967,     0.67067,     0.67167,\n",
       "           0.67267,     0.67367,     0.67467,     0.67568,     0.67668,     0.67768,     0.67868,     0.67968,     0.68068,     0.68168,     0.68268,     0.68368,     0.68468,     0.68569,     0.68669,     0.68769,     0.68869,     0.68969,     0.69069,     0.69169,     0.69269,     0.69369,     0.69469,      0.6957,\n",
       "            0.6967,      0.6977,      0.6987,      0.6997,      0.7007,      0.7017,      0.7027,      0.7037,      0.7047,     0.70571,     0.70671,     0.70771,     0.70871,     0.70971,     0.71071,     0.71171,     0.71271,     0.71371,     0.71471,     0.71572,     0.71672,     0.71772,     0.71872,     0.71972,\n",
       "           0.72072,     0.72172,     0.72272,     0.72372,     0.72472,     0.72573,     0.72673,     0.72773,     0.72873,     0.72973,     0.73073,     0.73173,     0.73273,     0.73373,     0.73473,     0.73574,     0.73674,     0.73774,     0.73874,     0.73974,     0.74074,     0.74174,     0.74274,     0.74374,\n",
       "           0.74474,     0.74575,     0.74675,     0.74775,     0.74875,     0.74975,     0.75075,     0.75175,     0.75275,     0.75375,     0.75475,     0.75576,     0.75676,     0.75776,     0.75876,     0.75976,     0.76076,     0.76176,     0.76276,     0.76376,     0.76476,     0.76577,     0.76677,     0.76777,\n",
       "           0.76877,     0.76977,     0.77077,     0.77177,     0.77277,     0.77377,     0.77477,     0.77578,     0.77678,     0.77778,     0.77878,     0.77978,     0.78078,     0.78178,     0.78278,     0.78378,     0.78478,     0.78579,     0.78679,     0.78779,     0.78879,     0.78979,     0.79079,     0.79179,\n",
       "           0.79279,     0.79379,     0.79479,      0.7958,      0.7968,      0.7978,      0.7988,      0.7998,      0.8008,      0.8018,      0.8028,      0.8038,      0.8048,     0.80581,     0.80681,     0.80781,     0.80881,     0.80981,     0.81081,     0.81181,     0.81281,     0.81381,     0.81481,     0.81582,\n",
       "           0.81682,     0.81782,     0.81882,     0.81982,     0.82082,     0.82182,     0.82282,     0.82382,     0.82482,     0.82583,     0.82683,     0.82783,     0.82883,     0.82983,     0.83083,     0.83183,     0.83283,     0.83383,     0.83483,     0.83584,     0.83684,     0.83784,     0.83884,     0.83984,\n",
       "           0.84084,     0.84184,     0.84284,     0.84384,     0.84484,     0.84585,     0.84685,     0.84785,     0.84885,     0.84985,     0.85085,     0.85185,     0.85285,     0.85385,     0.85485,     0.85586,     0.85686,     0.85786,     0.85886,     0.85986,     0.86086,     0.86186,     0.86286,     0.86386,\n",
       "           0.86486,     0.86587,     0.86687,     0.86787,     0.86887,     0.86987,     0.87087,     0.87187,     0.87287,     0.87387,     0.87487,     0.87588,     0.87688,     0.87788,     0.87888,     0.87988,     0.88088,     0.88188,     0.88288,     0.88388,     0.88488,     0.88589,     0.88689,     0.88789,\n",
       "           0.88889,     0.88989,     0.89089,     0.89189,     0.89289,     0.89389,     0.89489,      0.8959,      0.8969,      0.8979,      0.8989,      0.8999,      0.9009,      0.9019,      0.9029,      0.9039,      0.9049,     0.90591,     0.90691,     0.90791,     0.90891,     0.90991,     0.91091,     0.91191,\n",
       "           0.91291,     0.91391,     0.91491,     0.91592,     0.91692,     0.91792,     0.91892,     0.91992,     0.92092,     0.92192,     0.92292,     0.92392,     0.92492,     0.92593,     0.92693,     0.92793,     0.92893,     0.92993,     0.93093,     0.93193,     0.93293,     0.93393,     0.93493,     0.93594,\n",
       "           0.93694,     0.93794,     0.93894,     0.93994,     0.94094,     0.94194,     0.94294,     0.94394,     0.94494,     0.94595,     0.94695,     0.94795,     0.94895,     0.94995,     0.95095,     0.95195,     0.95295,     0.95395,     0.95495,     0.95596,     0.95696,     0.95796,     0.95896,     0.95996,\n",
       "           0.96096,     0.96196,     0.96296,     0.96396,     0.96496,     0.96597,     0.96697,     0.96797,     0.96897,     0.96997,     0.97097,     0.97197,     0.97297,     0.97397,     0.97497,     0.97598,     0.97698,     0.97798,     0.97898,     0.97998,     0.98098,     0.98198,     0.98298,     0.98398,\n",
       "           0.98498,     0.98599,     0.98699,     0.98799,     0.98899,     0.98999,     0.99099,     0.99199,     0.99299,     0.99399,     0.99499,       0.996,       0.997,       0.998,       0.999,           1]), array([[    0.83871,     0.83871,     0.83752,     0.83664,     0.83623,     0.83562,     0.83508,     0.83454,     0.83396,     0.83349,     0.83321,     0.83291,     0.83254,     0.83209,     0.83159,     0.83131,     0.83101,     0.83064,      0.8305,     0.83023,     0.82992,     0.82962,     0.82938,\n",
       "            0.82911,     0.82887,      0.8287,     0.82838,     0.82813,     0.82768,     0.82742,     0.82728,     0.82707,     0.82687,     0.82673,     0.82663,     0.82626,     0.82612,     0.82589,     0.82568,     0.82551,     0.82538,     0.82524,     0.82507,     0.82483,      0.8246,     0.82446,\n",
       "            0.82433,     0.82419,     0.82405,     0.82392,     0.82378,     0.82368,     0.82355,     0.82327,      0.8231,      0.8229,     0.82283,      0.8226,     0.82253,     0.82226,     0.82202,     0.82182,     0.82171,     0.82148,     0.82137,      0.8212,      0.8211,     0.82107,      0.8209,\n",
       "            0.82083,      0.8207,     0.82059,     0.82039,     0.82022,     0.82005,     0.81984,     0.81971,     0.81961,     0.81947,     0.81937,     0.81924,     0.81907,       0.819,      0.8188,     0.81856,     0.81839,     0.81825,     0.81808,     0.81795,     0.81775,     0.81768,     0.81761,\n",
       "            0.81757,     0.81751,     0.81734,     0.81717,     0.81713,     0.81696,     0.81679,     0.81673,     0.81652,     0.81627,     0.81615,     0.81605,     0.81595,     0.81578,     0.81561,     0.81534,     0.81523,      0.8151,     0.81476,     0.81476,     0.81466,     0.81445,     0.81442,\n",
       "            0.81418,     0.81398,     0.81381,      0.8136,     0.81355,     0.81337,     0.81333,      0.8132,     0.81299,     0.81286,     0.81276,     0.81262,     0.81255,     0.81249,     0.81245,     0.81238,     0.81225,     0.81215,     0.81204,     0.81196,     0.81184,     0.81167,     0.81147,\n",
       "             0.8114,      0.8113,     0.81109,     0.81096,     0.81082,     0.81062,     0.81052,     0.81035,     0.81025,     0.81014,     0.81004,     0.81004,     0.80997,     0.80964,     0.80953,     0.80943,     0.80936,     0.80919,     0.80906,     0.80902,     0.80896,     0.80885,     0.80879,\n",
       "            0.80858,     0.80855,     0.80835,     0.80814,       0.808,     0.80777,     0.80767,      0.8076,     0.80753,     0.80743,     0.80715,     0.80706,     0.80699,     0.80689,     0.80679,     0.80655,     0.80648,     0.80624,     0.80617,     0.80597,     0.80597,     0.80573,      0.8055,\n",
       "            0.80533,     0.80519,     0.80506,     0.80489,     0.80482,     0.80475,     0.80451,     0.80444,     0.80427,     0.80417,     0.80411,     0.80404,     0.80394,      0.8039,      0.8039,      0.8038,     0.80356,     0.80353,     0.80343,     0.80332,     0.80326,     0.80316,     0.80309,\n",
       "            0.80292,     0.80288,     0.80288,     0.80274,     0.80258,     0.80244,     0.80224,     0.80207,     0.80197,     0.80187,     0.80176,     0.80155,      0.8014,     0.80126,     0.80122,     0.80092,     0.80092,     0.80078,     0.80071,     0.80064,     0.80058,     0.80044,     0.80041,\n",
       "            0.80027,     0.80014,     0.80003,     0.79959,     0.79949,     0.79929,     0.79915,     0.79888,     0.79868,     0.79851,     0.79837,     0.79831,     0.79803,     0.79796,     0.79786,     0.79749,     0.79735,     0.79725,     0.79704,     0.79691,     0.79691,     0.79676,     0.79664,\n",
       "            0.79657,     0.79649,     0.79638,     0.79623,     0.79617,      0.7961,     0.79589,     0.79579,     0.79556,     0.79549,     0.79545,     0.79532,     0.79508,     0.79503,     0.79491,     0.79467,     0.79456,     0.79444,     0.79416,     0.79412,     0.79389,     0.79379,     0.79359,\n",
       "            0.79352,     0.79332,     0.79315,     0.79276,     0.79264,     0.79247,     0.79216,     0.79194,     0.79189,     0.79169,     0.79152,     0.79145,     0.79125,     0.79108,     0.79084,     0.79066,     0.79043,      0.7903,     0.78999,     0.78986,     0.78974,     0.78969,     0.78952,\n",
       "            0.78908,     0.78904,     0.78897,     0.78874,     0.78839,     0.78822,     0.78802,     0.78785,     0.78782,     0.78748,     0.78728,     0.78721,     0.78711,     0.78673,      0.7866,     0.78643,     0.78629,     0.78612,     0.78595,     0.78592,     0.78572,      0.7855,     0.78521,\n",
       "            0.78504,     0.78487,     0.78446,     0.78422,     0.78385,     0.78372,     0.78358,     0.78338,     0.78287,     0.78273,     0.78256,     0.78253,      0.7824,     0.78226,     0.78215,     0.78177,     0.78144,     0.78124,     0.78098,     0.78077,      0.7806,     0.78029,     0.78012,\n",
       "            0.77992,      0.7798,     0.77964,     0.77955,     0.77941,       0.779,     0.77886,     0.77866,     0.77849,     0.77832,     0.77798,     0.77776,     0.77751,     0.77741,      0.7772,     0.77683,     0.77656,     0.77625,     0.77596,     0.77571,     0.77554,     0.77535,      0.7752,\n",
       "            0.77493,     0.77476,     0.77428,       0.774,     0.77374,     0.77357,      0.7734,     0.77299,      0.7728,     0.77242,     0.77221,     0.77194,     0.77164,      0.7713,     0.77099,     0.77082,     0.77054,      0.7703,     0.77014,     0.76994,     0.76984,     0.76957,     0.76919,\n",
       "            0.76892,     0.76848,     0.76828,      0.7681,     0.76787,     0.76769,      0.7674,     0.76716,     0.76687,     0.76663,     0.76622,     0.76601,     0.76564,     0.76539,     0.76502,     0.76478,     0.76407,     0.76394,     0.76372,     0.76356,     0.76321,     0.76291,     0.76258,\n",
       "            0.76251,     0.76218,     0.76201,     0.76191,     0.76173,     0.76146,     0.76112,     0.76086,     0.76054,        0.76,     0.75979,     0.75955,     0.75935,     0.75901,     0.75864,     0.75843,     0.75796,     0.75756,     0.75729,     0.75683,     0.75646,      0.7561,     0.75589,\n",
       "            0.75559,     0.75533,     0.75509,     0.75484,     0.75464,     0.75427,     0.75397,     0.75352,     0.75311,     0.75274,     0.75247,     0.75179,     0.75162,     0.75101,     0.75074,      0.7505,     0.75003,     0.74958,      0.7494,     0.74899,      0.7488,     0.74845,     0.74813,\n",
       "            0.74768,     0.74743,     0.74702,     0.74682,     0.74631,     0.74592,     0.74549,     0.74514,     0.74454,     0.74413,     0.74366,     0.74328,     0.74281,      0.7424,     0.74192,     0.74148,     0.74103,     0.74076,     0.74046,     0.74012,     0.73893,     0.73859,     0.73822,\n",
       "            0.73778,     0.73723,     0.73696,     0.73656,     0.73624,      0.7358,     0.73539,     0.73465,     0.73438,     0.73414,      0.7337,     0.73319,     0.73298,     0.73247,     0.73186,     0.73138,     0.73101,      0.7305,     0.73016,     0.72964,     0.72924,     0.72873,     0.72832,\n",
       "            0.72795,     0.72744,     0.72706,     0.72655,     0.72604,     0.72533,     0.72458,     0.72411,     0.72353,     0.72296,     0.72221,     0.72163,     0.72098,     0.72054,     0.71956,     0.71898,     0.71837,     0.71759,     0.71711,     0.71668,     0.71606,     0.71528,     0.71467,\n",
       "             0.7143,     0.71375,     0.71318,     0.71263,     0.71193,     0.71106,     0.71023,     0.70954,     0.70903,     0.70842,      0.7078,     0.70702,     0.70668,     0.70604,     0.70553,     0.70485,     0.70356,     0.70256,     0.70193,     0.70108,     0.70043,     0.69948,     0.69883,\n",
       "            0.69798,     0.69721,     0.69666,     0.69588,      0.6951,     0.69383,     0.69308,     0.69243,     0.69155,     0.69086,     0.69006,     0.68919,     0.68839,     0.68754,     0.68648,     0.68581,     0.68517,     0.68415,     0.68323,     0.68282,     0.68187,     0.68098,     0.67997,\n",
       "            0.67929,     0.67817,     0.67712,     0.67627,     0.67518,     0.67369,     0.67274,     0.67187,     0.67079,     0.66977,     0.66851,     0.66742,     0.66685,     0.66602,     0.66528,     0.66396,     0.66287,     0.66138,     0.66056,     0.65968,      0.6588,     0.65664,     0.65573,\n",
       "            0.65467,     0.65366,      0.6525,     0.65142,     0.65043,     0.64948,     0.64839,     0.64707,     0.64608,     0.64403,     0.64284,     0.64182,      0.6407,     0.63985,      0.6388,     0.63772,     0.63626,     0.63549,     0.63417,     0.63305,     0.63196,     0.63064,     0.62816,\n",
       "              0.627,     0.62571,     0.62453,     0.62351,     0.62244,     0.62142,     0.62032,     0.61938,     0.61833,      0.6172,     0.61605,     0.61417,     0.61302,     0.61179,     0.61054,     0.60918,     0.60798,     0.60685,      0.6057,     0.60377,     0.60234,     0.60129,      0.6001,\n",
       "            0.59896,     0.59804,     0.59679,     0.59563,     0.59451,     0.59188,     0.59097,     0.58988,     0.58876,      0.5877,     0.58694,     0.58562,     0.58463,     0.58362,      0.5817,     0.58031,     0.57925,     0.57773,      0.5755,     0.57442,     0.57357,     0.57258,     0.57115,\n",
       "            0.56975,     0.56876,      0.5673,     0.56518,     0.56406,      0.5626,     0.56127,     0.55977,     0.55871,     0.55759,      0.5554,     0.55435,     0.55347,     0.55108,     0.54935,     0.54829,     0.54717,     0.54549,     0.54426,     0.54284,     0.54055,     0.53943,      0.5379,\n",
       "             0.5368,     0.53544,     0.53415,     0.53166,     0.53047,     0.52917,     0.52845,     0.52713,     0.52456,     0.52334,     0.52105,     0.51976,     0.51837,     0.51708,     0.51543,     0.51368,     0.51263,     0.51151,      0.5102,     0.50898,     0.50679,     0.50577,     0.50454,\n",
       "            0.50314,     0.50212,     0.50017,     0.49812,     0.49798,     0.49571,     0.49332,     0.49315,     0.49099,     0.48844,     0.48829,     0.48622,     0.48349,     0.48345,     0.48099,     0.47931,     0.47928,     0.47689,     0.47678,     0.47422,     0.47139,     0.47129,     0.46888,\n",
       "            0.46618,     0.46606,     0.46351,     0.46109,     0.45829,     0.45825,     0.45637,     0.45632,     0.45428,     0.45156,     0.45144,     0.44901,     0.44616,     0.44612,     0.44385,      0.4406,     0.44058,     0.43802,     0.43528,     0.43525,     0.43254,     0.43013,     0.42726,\n",
       "            0.42718,     0.42395,     0.42085,     0.41866,     0.41864,     0.41644,     0.41373,     0.41368,     0.41082,     0.40786,     0.40525,     0.40521,     0.40272,     0.40026,     0.40021,     0.39757,     0.39482,     0.39478,     0.39223,     0.39009,     0.38679,     0.38453,     0.38448,\n",
       "             0.3818,     0.37919,     0.37611,     0.37609,     0.37351,     0.37067,     0.36817,     0.36815,     0.36578,     0.36283,     0.36052,     0.36048,       0.358,      0.3555,      0.3532,     0.35046,     0.35043,     0.34736,      0.3449,     0.34202,     0.33913,     0.33662,      0.3366,\n",
       "            0.33416,     0.33122,     0.32841,     0.32538,     0.32534,     0.32259,     0.31968,     0.31642,     0.31371,     0.31045,     0.31041,     0.30779,     0.30519,     0.30253,     0.29947,     0.29679,     0.29438,     0.29201,     0.28899,     0.28897,     0.28676,     0.28384,     0.28121,\n",
       "             0.2783,     0.27562,     0.27259,     0.27015,     0.27013,     0.26749,     0.26481,     0.26209,     0.25924,     0.25592,     0.25325,     0.25028,     0.24714,     0.24449,     0.24164,     0.23862,     0.23577,       0.233,     0.22961,      0.2271,     0.22344,     0.22041,     0.21773,\n",
       "            0.21502,     0.21202,     0.20949,     0.20633,     0.20382,     0.20073,     0.19805,     0.19527,     0.19245,      0.1866,     0.18365,     0.18117,     0.17839,      0.1756,     0.17309,     0.17109,      0.1686,     0.16581,     0.16316,     0.15987,     0.15716,     0.15203,     0.14954,\n",
       "            0.14693,     0.14423,     0.14189,     0.13958,     0.13696,     0.13152,     0.12914,     0.12448,       0.122,     0.11935,     0.11699,     0.11431,     0.10846,     0.10614,     0.10379,     0.10128,    0.097463,    0.095349,    0.093305,    0.088436,    0.086455,    0.084414,    0.080732,\n",
       "           0.078307,    0.075828,    0.071875,     0.06826,    0.066173,    0.062016,    0.060316,    0.056383,    0.054443,    0.053141,    0.050063,     0.04822,    0.045412,    0.042366,     0.04076,    0.038089,    0.036753,    0.034411,    0.032913,    0.030743,    0.028706,    0.027991,    0.026124,\n",
       "           0.022832,    0.021642,    0.020249,    0.018755,    0.016989,    0.016229,    0.015018,    0.013761,    0.012504,    0.011484,    0.010736,   0.0097168,   0.0091723,   0.0084581,   0.0076761,   0.0071316,   0.0064174,    0.005839,   0.0053623,   0.0045463,   0.0038322,   0.0035251,   0.0032181,\n",
       "          0.0026057,   0.0023665,   0.0021273,   0.0018203,    0.001615,   0.0014776,   0.0012469,   0.0012028,  0.00098388,  0.00089406,  0.00082451,  0.00075495,  0.00058362,  0.00044621,  0.00027488,  0.00021546,  0.00012442,  0.00010097,  6.7022e-05,  4.9634e-05,           0,           0,           0,\n",
       "                  0,           0,           0,           0,           0,           0,           0,           0,           0,           0,           0,           0,           0,           0,           0,           0,           0,           0,           0,           0,           0,           0,           0,\n",
       "                  0,           0,           0,           0,           0,           0,           0,           0,           0,           0,           0]]), 'Confidence', 'Recall']]\n",
       "fitness: 0.6061739877362076\n",
       "keys: ['metrics/precision(B)', 'metrics/recall(B)', 'metrics/mAP50(B)', 'metrics/mAP50-95(B)']\n",
       "maps: array([    0.58075])\n",
       "names: {0: 'nucleus'}\n",
       "nt_per_class: array([29475])\n",
       "nt_per_image: array([670])\n",
       "results_dict: {'metrics/precision(B)': 0.9091574574639142, 'metrics/recall(B)': 0.7728020556604103, 'metrics/mAP50(B)': 0.83495961086673, 'metrics/mAP50-95(B)': 0.5807533629439273, 'fitness': 0.6061739877362076}\n",
       "save_dir: PosixPath('runs/detect/train11')\n",
       "speed: {'preprocess': 0.04075160945084558, 'inference': 0.5861366751478679, 'loss': 0.0005964356571880739, 'postprocess': 7.75427091588725}\n",
       "stats: {'tp': [], 'conf': [], 'pred_cls': [], 'target_cls': [], 'target_img': []}\n",
       "task: 'detect'"
      ]
     },
     "execution_count": 4,
     "metadata": {},
     "output_type": "execute_result"
    }
   ],
   "source": [
    "from ultralytics import YOLO\n",
    "\n",
    "# Load YOLOv8 nano (fastest) or small\n",
    "model = YOLO(\"yolov8n.pt\")\n",
    "\n",
    "# Train\n",
    "model.train(data=\"data.yaml\", epochs=50, imgsz=256, batch=8)\n"
   ]
  },
  {
   "cell_type": "code",
   "execution_count": 10,
   "id": "e10389cb",
   "metadata": {},
   "outputs": [
    {
     "name": "stdout",
     "output_type": "stream",
     "text": [
      "\n",
      "image 1/1 /data/user/home/hnguye24/untreated/untreated/blue/B2AI_3_untreated_E1_R8_z01_blue.jpg: 256x256 10 nucleuss, 8.2ms\n",
      "Speed: 0.8ms preprocess, 8.2ms inference, 1.6ms postprocess per image at shape (1, 3, 256, 256)\n",
      "Saved as yolo_detection_output.png\n"
     ]
    }
   ],
   "source": [
    "import matplotlib.pyplot as plt\n",
    "\n",
    "# Run inference\n",
    "results = model.predict(\n",
    "    source=r\"untreated/untreated/blue/B2AI_3_untreated_E1_R8_z01_blue.jpg\",\n",
    "    conf=0.5,\n",
    "    save=False\n",
    ")\n",
    "\n",
    "\n",
    "\n",
    "# Create the plot\n",
    "plt.figure(figsize=(8,8))\n",
    "plt.imshow(results[0].plot())   # draws bounding boxes on image\n",
    "plt.axis(\"off\")\n",
    "plt.title(\"YOLOv8 Detection Results\")\n",
    "\n",
    "# Save to file\n",
    "plt.savefig(\"yolo_detection_output.png\", bbox_inches=\"tight\", dpi=300)\n",
    "\n",
    "plt.close()  # close the figure (prevents duplicate display in notebooks)\n",
    "print(\"Saved as yolo_detection_output.png\")\n",
    "\n"
   ]
  },
  {
   "cell_type": "code",
   "execution_count": null,
   "id": "8e7a9646",
   "metadata": {},
   "outputs": [],
   "source": [
    "\n"
   ]
  },
  {
   "cell_type": "code",
   "execution_count": null,
   "id": "43cc840e",
   "metadata": {},
   "outputs": [],
   "source": []
  },
  {
   "cell_type": "code",
   "execution_count": null,
   "id": "6442e5f1",
   "metadata": {},
   "outputs": [],
   "source": []
  }
 ],
 "metadata": {
  "anaconda-cloud": {},
  "kernelspec": {
   "display_name": "Python [conda env:.conda-yolo6]",
   "language": "python",
   "name": "conda-env-.conda-yolo6-py"
  },
  "language_info": {
   "codemirror_mode": {
    "name": "ipython",
    "version": 3
   },
   "file_extension": ".py",
   "mimetype": "text/x-python",
   "name": "python",
   "nbconvert_exporter": "python",
   "pygments_lexer": "ipython3",
   "version": "3.10.18"
  }
 },
 "nbformat": 4,
 "nbformat_minor": 5
}
